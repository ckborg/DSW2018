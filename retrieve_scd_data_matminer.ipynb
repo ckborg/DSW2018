{
 "cells": [
  {
   "cell_type": "code",
   "execution_count": 2,
   "metadata": {},
   "outputs": [],
   "source": [
    "import pandas as pd\n",
    "import matplotlib.pyplot as plt\n",
    "import re\n",
    "\n",
    "from matminer.utils.conversions import str_to_composition"
   ]
  },
  {
   "cell_type": "code",
   "execution_count": null,
   "metadata": {},
   "outputs": [],
   "source": [
    "# Retrieve NIST SCD dataset from Citrine using matminer.\n",
    "# The data will be stored in the df DataFrame.\n",
    "\n",
    "from matminer.data_retrieval.retrieve_Citrine import CitrineDataRetrieval\n",
    "from os import environ\n",
    "\n",
    "api_key = environ['CITRINATION_API_KEY'] # insert your api key here\n",
    "c = CitrineDataRetrieval(api_key=api_key)\n",
    "\n",
    "df = c.get_dataframe(criteria={'data_set_id': '151803'})"
   ]
  },
  {
   "cell_type": "code",
   "execution_count": null,
   "metadata": {},
   "outputs": [],
   "source": [
    "# Get the number of samples and number of features of the dataset\n",
    "df.shape"
   ]
  },
  {
   "cell_type": "code",
   "execution_count": null,
   "metadata": {},
   "outputs": [],
   "source": [
    "# Looking at the first 5 entries\n",
    "df.head()"
   ]
  },
  {
   "cell_type": "code",
   "execution_count": null,
   "metadata": {},
   "outputs": [],
   "source": [
    "# Taking a look at a sample entry\n",
    "df.loc[42,:].dropna()"
   ]
  },
  {
   "cell_type": "code",
   "execution_count": null,
   "metadata": {},
   "outputs": [],
   "source": [
    "# Plot a bar chart showing the 50 most common features\n",
    "plt.figure(figsize=(8,16))\n",
    "df.count().sort_values()[-50:].plot.barh()\n",
    "plt.show()"
   ]
  },
  {
   "cell_type": "code",
   "execution_count": null,
   "metadata": {},
   "outputs": [],
   "source": [
    "density = df['Density'].dropna()\n",
    "density = pd.to_numeric(density, errors='coerce')\n",
    "density.hist(bins=100)\n",
    "plt.xlabel('Density')\n",
    "plt.ylabel('# of samples')\n",
    "plt.show()"
   ]
  },
  {
   "cell_type": "markdown",
   "metadata": {},
   "source": [
    "# Featurization"
   ]
  },
  {
   "cell_type": "code",
   "execution_count": null,
   "metadata": {},
   "outputs": [],
   "source": [
    "# Create copy of original data to not mess with them\n",
    "feat = df.copy()"
   ]
  },
  {
   "cell_type": "markdown",
   "metadata": {},
   "source": [
    "### Make chemical formula compatible with pymatgen.core.composition"
   ]
  },
  {
   "cell_type": "code",
   "execution_count": null,
   "metadata": {},
   "outputs": [],
   "source": [
    "# Initialize composition column\n",
    "feat['composition'] = feat['chemicalFormula']"
   ]
  },
  {
   "cell_type": "code",
   "execution_count": null,
   "metadata": {},
   "outputs": [],
   "source": [
    "# Check how many formulas cause an error when they are fed to pymatgen.core.composition (via str_to_composition)\n",
    "\n",
    "N_errors, N_total = 0, 0\n",
    "for entry in feat['composition']:\n",
    "    try:\n",
    "        pd.Series([entry]).transform(str_to_composition)\n",
    "    except:\n",
    "        N_errors +=1\n",
    "        #print(entry)\n",
    "    finally:\n",
    "        N_total +=1\n",
    "\n",
    "print('{0} errors in {1} samples'.format(N_errors, N_total))"
   ]
  },
  {
   "cell_type": "code",
   "execution_count": null,
   "metadata": {},
   "outputs": [],
   "source": [
    "# This function removes certain characters and expressions from a chemical formula\n",
    "# so that it can be converted using pymatgen.core.composition\n",
    "\n",
    "def make_chem_form_compatible(formula):\n",
    "    \n",
    "    for bad_str in ['\\.','x', 'y', '\\+', '\\-', 'z', 'w', '\\%', '\\^',   # individual characters\n",
    "                 'Cordierite','hisker','Sialon', # certain words that show up in some formulas\n",
    "                 '\\$(.*?)\\$',    # LaTeX expressions\n",
    "                 '\\((.*?)\\)',    # bracketed expressions\n",
    "                 '^\\d{1,2}']:    # leading numbers of 1 or 2 digits\n",
    "        formula = re.sub(bad_str, '', formula)\n",
    "    \n",
    "    return formula"
   ]
  },
  {
   "cell_type": "code",
   "execution_count": null,
   "metadata": {},
   "outputs": [],
   "source": [
    "# Convert chemical formulas using above function\n",
    "feat[\"composition\"] = feat[\"composition\"].transform(make_chem_form_compatible)\n",
    "\n",
    "# Converting chemical formula to composition object using\n",
    "# matminer.utils.conversions.str_to_composition\n",
    "# which in turn uses pymatgen.core.composition\n",
    "feat[\"composition\"] = feat[\"composition\"].transform(str_to_composition)"
   ]
  },
  {
   "cell_type": "code",
   "execution_count": null,
   "metadata": {},
   "outputs": [],
   "source": [
    "feat['composition']"
   ]
  },
  {
   "cell_type": "code",
   "execution_count": null,
   "metadata": {},
   "outputs": [],
   "source": []
  }
 ],
 "metadata": {
  "kernelspec": {
   "display_name": "Python 3",
   "language": "python",
   "name": "python3"
  },
  "language_info": {
   "codemirror_mode": {
    "name": "ipython",
    "version": 3
   },
   "file_extension": ".py",
   "mimetype": "text/x-python",
   "name": "python",
   "nbconvert_exporter": "python",
   "pygments_lexer": "ipython3",
   "version": "3.6.4"
  }
 },
 "nbformat": 4,
 "nbformat_minor": 2
}
