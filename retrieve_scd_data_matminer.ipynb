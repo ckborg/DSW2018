{
 "cells": [
  {
   "cell_type": "code",
   "execution_count": 33,
   "metadata": {
    "collapsed": true
   },
   "outputs": [],
   "source": [
    "import pandas as pd\n",
    "import matplotlib.pyplot as plt\n",
    "import re\n",
    "\n",
    "from matminer.utils.conversions import str_to_composition\n",
    "from matminer.featurizers.composition import ElementProperty"
   ]
  },
  {
   "cell_type": "code",
   "execution_count": 13,
   "metadata": {},
   "outputs": [
    {
     "name": "stderr",
     "output_type": "stream",
     "text": [
      "100%|██████████| 4098/4098 [01:54<00:00, 35.71it/s]\n"
     ]
    },
    {
     "name": "stdout",
     "output_type": "stream",
     "text": [
      "all available fields:\n",
      "['Thermal Expansion-conditions', 'Tensile Strength-minimum', 'Compressive Strength-units', 'Creep Rate', 'preparation', 'Corrosion Rate-units', 'Thermal Shock Resistance', 'Impurity', 'Friction Coefficient-maximum', 'Cell Angle-conditions', 'Log Wear Coefficient', 'Debye Temperature', 'Porosity-conditions', 'Thermal Expansion-units', 'Axis Length-units', 'Creep Activatn Energy-units', 'Crystallinity', 'Friction Coefficient-conditions', 'Corrosion Species', 'Log Wear Coefficient-conditions', 'Poissons Ratio', 'Sound Velocity', 'Debye Temperature-conditions', 'Diffusion Coefficient', 'Thermal Diffusivity', 'Bulk Modulus-maximum', 'Flexural Strength', 'Dopant', 'Specific Heat-conditions', 'Creep Rate-conditions', 'Corrosion Activtn Energy', 'Weibull Modulus', 'Compressive Strength-conditions', 'Corrosion Species-conditions', 'uid', 'Corrosion Rate-conditions', 'licenses', 'Tensile Strength', 'Thermal Diffusivity-units', 'Shear Modulus', 'Density', 'category', 'Space Group-conditions', 'Corrosion Rate', 'Fracture Toughness-units', 'Thermal Conductivity', 'Hardness-units', 'Tensile Strength-units', 'Sound Velocity-units', 'Compressive Strength-maximum', 'Fracture Toughness-minimum', 'Impurity-conditions', 'Friction Coefficient', 'Log Wear Rate', 'Grain Size-units', 'Creep Rate Exponent', 'InChI', 'Poissons Ratio-minimum', 'Flexural Strength-minimum', 'Shear Modulus-conditions', 'Bulk Modulus', 'Log Wear Rate-conditions', 'Tensile Strength-conditions', 'Density-maximum', 'Specific Heat-units', 'Thermal Expansion', 'Electrical Resistivity Log-units', 'SMILES', 'Elasticity Tensor', 'Creep Rate-units', 'Poissons Ratio-maximum', 'Maximum-Use Temperature-units', 'Thermal Shock Resistance-conditions', 'Weibull Strength-conditions', 'Hardness-minimum', 'Poissons Ratio-conditions', 'Grain Size-minimum', 'Crystal Cell System-conditions', 'Maximum-Use Temperature', 'Density-units', 'Specific Heat', 'Bulk Modulus-minimum', 'Cell Angle-units', 'Elastic Modulus-conditions', 'Flexural Strength-conditions', 'Hardness', 'Corrosion Activtn Energy-conditions', 'Creep Activatn Energy-conditions', 'Porosity', 'Corrosion Activtn Energy-units', 'Elastic Modulus-maximum', 'Production Form', 'Flexural Strength-maximum', 'Grinding Rat', 'Electrical Resistivity Log-conditions', 'Weibull Modulus-conditions', 'Relative Atomic Coordinate-conditions', 'Diffusion Coefficient-units', 'Creep Activatn Energy', 'Fracture Energy-conditions', 'Phase', 'Sound Velocity-conditions', 'Porosity-units', 'Space Group', 'Elasticity Tensor-units', 'Weibull Strength-units', 'Fracture Toughness', 'Melting Point Temperature-conditions', 'Thermal Conductivity-units', 'Axis Length', 'Log Wear Rate-units', 'Grinding Rat-units', 'Sintering Aid', 'Tensile Strength-maximum', 'Density-conditions', 'references', 'Fracture Toughness-conditions', 'Maximum-Use Temperature-conditions', 'Fracture Energy', 'Bulk Modulus-conditions', 'Chemical Family', 'Commercial Name', 'Bulk Modulus-units', 'chemicalFormula', 'Grain Size-conditions', 'Hardness-conditions', 'Relative Atomic Coordinate', 'Elastic Modulus', 'Gruneisen Parameter', 'Shear Modulus-units', 'Sintering Aid-conditions', 'Elastic Modulus-units', 'Grinding Rat-conditions', 'Phase-conditions', 'Axis Length-conditions', 'Flexural Strength-units', 'Melting Point Temperature', 'Elastic Modulus-minimum', 'Compressive Strength', 'Thermal Shock Resistance-units', 'Compressive Strength-minimum', 'Manufacturer', 'Friction Coefficient-minimum', 'Thermal Diffusivity-conditions', 'Crystal Cell System', 'Electrical Resistivity Log', 'Creep Rate Exponent-conditions', 'Elasticity Tensor-conditions', 'Hardness-maximum', 'Grain Size', 'Fracture Toughness-maximum', 'Weibull Strength', 'Cell Angle', 'Fracture Energy-units', 'Gruneisen Parameter-conditions', 'Diffusion Coefficient-conditions', 'Thermal Conductivity-conditions', 'Dopant-conditions', 'Density-minimum', 'Grain Size-maximum', 'Melting Point Temperature-units', 'Debye Temperature-units', 'names']\n",
      "\n",
      "suggested common fields:\n",
      "['chemicalFormula', 'licenses', 'names', 'preparation', 'references', 'Axis Length', 'Axis Length-conditions', 'Axis Length-units', 'Bulk Modulus', 'Bulk Modulus-conditions', 'Bulk Modulus-maximum', 'Bulk Modulus-minimum', 'Bulk Modulus-units', 'Cell Angle', 'Cell Angle-conditions', 'Cell Angle-units', 'Chemical Family', 'Commercial Name', 'Compressive Strength', 'Compressive Strength-conditions', 'Compressive Strength-maximum', 'Compressive Strength-minimum', 'Compressive Strength-units', 'Corrosion Activtn Energy', 'Corrosion Activtn Energy-conditions', 'Corrosion Activtn Energy-units', 'Corrosion Rate', 'Corrosion Rate-conditions', 'Corrosion Rate-units', 'Corrosion Species', 'Corrosion Species-conditions', 'Creep Activatn Energy', 'Creep Activatn Energy-conditions', 'Creep Activatn Energy-units', 'Creep Rate', 'Creep Rate Exponent', 'Creep Rate Exponent-conditions', 'Creep Rate-conditions', 'Creep Rate-units', 'Crystal Cell System', 'Crystal Cell System-conditions', 'Crystallinity', 'Debye Temperature', 'Debye Temperature-conditions', 'Debye Temperature-units', 'Density', 'Density-conditions', 'Density-maximum', 'Density-minimum', 'Density-units', 'Diffusion Coefficient', 'Diffusion Coefficient-conditions', 'Diffusion Coefficient-units', 'Dopant', 'Dopant-conditions', 'Elastic Modulus', 'Elastic Modulus-conditions', 'Elastic Modulus-maximum', 'Elastic Modulus-minimum', 'Elastic Modulus-units', 'Elasticity Tensor', 'Elasticity Tensor-conditions', 'Elasticity Tensor-units', 'Electrical Resistivity Log', 'Electrical Resistivity Log-conditions', 'Electrical Resistivity Log-units', 'Flexural Strength', 'Flexural Strength-conditions', 'Flexural Strength-maximum', 'Flexural Strength-minimum', 'Flexural Strength-units', 'Fracture Energy', 'Fracture Energy-conditions', 'Fracture Energy-units', 'Fracture Toughness', 'Fracture Toughness-conditions', 'Fracture Toughness-maximum', 'Fracture Toughness-minimum', 'Fracture Toughness-units', 'Friction Coefficient', 'Friction Coefficient-conditions', 'Friction Coefficient-maximum', 'Friction Coefficient-minimum', 'Grain Size', 'Grain Size-conditions', 'Grain Size-maximum', 'Grain Size-minimum', 'Grain Size-units', 'Grinding Rat', 'Grinding Rat-conditions', 'Grinding Rat-units', 'Gruneisen Parameter', 'Gruneisen Parameter-conditions', 'Hardness', 'Hardness-conditions', 'Hardness-maximum', 'Hardness-minimum', 'Hardness-units', 'Impurity', 'Impurity-conditions', 'InChI', 'Log Wear Coefficient', 'Log Wear Coefficient-conditions', 'Log Wear Rate', 'Log Wear Rate-conditions', 'Log Wear Rate-units', 'Manufacturer', 'Maximum-Use Temperature', 'Maximum-Use Temperature-conditions', 'Maximum-Use Temperature-units', 'Melting Point Temperature', 'Melting Point Temperature-conditions', 'Melting Point Temperature-units', 'Phase', 'Phase-conditions', 'Poissons Ratio', 'Poissons Ratio-conditions', 'Poissons Ratio-maximum', 'Poissons Ratio-minimum', 'Porosity', 'Porosity-conditions', 'Porosity-units', 'Production Form', 'Relative Atomic Coordinate', 'Relative Atomic Coordinate-conditions', 'SMILES', 'Shear Modulus', 'Shear Modulus-conditions', 'Shear Modulus-units', 'Sintering Aid', 'Sintering Aid-conditions', 'Sound Velocity', 'Sound Velocity-conditions', 'Sound Velocity-units', 'Space Group', 'Space Group-conditions', 'Specific Heat', 'Specific Heat-conditions', 'Specific Heat-units', 'Tensile Strength', 'Tensile Strength-conditions', 'Tensile Strength-maximum', 'Tensile Strength-minimum', 'Tensile Strength-units', 'Thermal Conductivity', 'Thermal Conductivity-conditions', 'Thermal Conductivity-units', 'Thermal Diffusivity', 'Thermal Diffusivity-conditions', 'Thermal Diffusivity-units', 'Thermal Expansion', 'Thermal Expansion-conditions', 'Thermal Expansion-units', 'Thermal Shock Resistance', 'Thermal Shock Resistance-conditions', 'Thermal Shock Resistance-units', 'Weibull Modulus', 'Weibull Modulus-conditions', 'Weibull Strength', 'Weibull Strength-conditions', 'Weibull Strength-units']\n"
     ]
    }
   ],
   "source": [
    "# Retrieve NIST SCD dataset from Citrine using matminer.\n",
    "# The data will be stored in the df DataFrame.\n",
    "\n",
    "first_retrieve = False #change it to indicate first time retrieve dataset or not\n",
    "\n",
    "from matminer.data_retrieval.retrieve_Citrine import CitrineDataRetrieval\n",
    "from os import environ\n",
    "\n",
    "if first_retrieve:\n",
    "\n",
    "    api_key = environ['CITRINATION_API_KEY'] # insert your api key here\n",
    "    c = CitrineDataRetrieval(api_key=api_key)\n",
    "    df = c.get_dataframe(criteria={'data_set_id': '151803'})\n",
    "    \n",
    "    # Save downloaded dataset\n",
    "    df.to_csv('NIST_CeramicDataSet.csv')\n",
    "    df.to_pickle('NIST_CeramicDataSet.pkl')\n",
    "else:\n",
    "    df  = pd.read_pickle('NIST_CeramicDataSet.pkl')"
   ]
  },
  {
   "cell_type": "code",
   "execution_count": 15,
   "metadata": {},
   "outputs": [
    {
     "data": {
      "text/plain": [
       "(4098, 161)"
      ]
     },
     "execution_count": 15,
     "metadata": {},
     "output_type": "execute_result"
    }
   ],
   "source": [
    "# Get the number of samples and number of features of the dataset\n",
    "df.shape"
   ]
  },
  {
   "cell_type": "code",
   "execution_count": 16,
   "metadata": {},
   "outputs": [
    {
     "data": {
      "text/html": [
       "<div>\n",
       "<style>\n",
       "    .dataframe thead tr:only-child th {\n",
       "        text-align: right;\n",
       "    }\n",
       "\n",
       "    .dataframe thead th {\n",
       "        text-align: left;\n",
       "    }\n",
       "\n",
       "    .dataframe tbody tr th {\n",
       "        vertical-align: top;\n",
       "    }\n",
       "</style>\n",
       "<table border=\"1\" class=\"dataframe\">\n",
       "  <thead>\n",
       "    <tr style=\"text-align: right;\">\n",
       "      <th></th>\n",
       "      <th>chemicalFormula</th>\n",
       "      <th>licenses</th>\n",
       "      <th>names</th>\n",
       "      <th>preparation</th>\n",
       "      <th>references</th>\n",
       "      <th>Axis Length</th>\n",
       "      <th>Axis Length-conditions</th>\n",
       "      <th>Axis Length-units</th>\n",
       "      <th>Bulk Modulus</th>\n",
       "      <th>Bulk Modulus-conditions</th>\n",
       "      <th>...</th>\n",
       "      <th>Thermal Expansion-conditions</th>\n",
       "      <th>Thermal Expansion-units</th>\n",
       "      <th>Thermal Shock Resistance</th>\n",
       "      <th>Thermal Shock Resistance-conditions</th>\n",
       "      <th>Thermal Shock Resistance-units</th>\n",
       "      <th>Weibull Modulus</th>\n",
       "      <th>Weibull Modulus-conditions</th>\n",
       "      <th>Weibull Strength</th>\n",
       "      <th>Weibull Strength-conditions</th>\n",
       "      <th>Weibull Strength-units</th>\n",
       "    </tr>\n",
       "  </thead>\n",
       "  <tbody>\n",
       "    <tr>\n",
       "      <th>1</th>\n",
       "      <td>SiO2</td>\n",
       "      <td>[{'name': 'NIST_SRD-30'}]</td>\n",
       "      <td>[Silica]</td>\n",
       "      <td>NaN</td>\n",
       "      <td>[{'citation': 'Gaseous Corrosion of Ceramics, ...</td>\n",
       "      <td>NaN</td>\n",
       "      <td>NaN</td>\n",
       "      <td>NaN</td>\n",
       "      <td>NaN</td>\n",
       "      <td>NaN</td>\n",
       "      <td>...</td>\n",
       "      <td>NaN</td>\n",
       "      <td>NaN</td>\n",
       "      <td>NaN</td>\n",
       "      <td>NaN</td>\n",
       "      <td>NaN</td>\n",
       "      <td>NaN</td>\n",
       "      <td>NaN</td>\n",
       "      <td>NaN</td>\n",
       "      <td>NaN</td>\n",
       "      <td>NaN</td>\n",
       "    </tr>\n",
       "    <tr>\n",
       "      <th>2</th>\n",
       "      <td>3Al2O3.2SiO2.xZrO2.yY2O3</td>\n",
       "      <td>[{'name': 'NIST_SRD-30'}]</td>\n",
       "      <td>[Mullite composite]</td>\n",
       "      <td>[{'name': 'Hot Pressing'}]</td>\n",
       "      <td>[{'citation': 'Thermal Diffusivity/Conductivit...</td>\n",
       "      <td>NaN</td>\n",
       "      <td>NaN</td>\n",
       "      <td>NaN</td>\n",
       "      <td>NaN</td>\n",
       "      <td>NaN</td>\n",
       "      <td>...</td>\n",
       "      <td>NaN</td>\n",
       "      <td>NaN</td>\n",
       "      <td>NaN</td>\n",
       "      <td>NaN</td>\n",
       "      <td>NaN</td>\n",
       "      <td>NaN</td>\n",
       "      <td>NaN</td>\n",
       "      <td>NaN</td>\n",
       "      <td>NaN</td>\n",
       "      <td>NaN</td>\n",
       "    </tr>\n",
       "    <tr>\n",
       "      <th>3</th>\n",
       "      <td>Al2O3</td>\n",
       "      <td>[{'name': 'NIST_SRD-30'}]</td>\n",
       "      <td>[Alumina]</td>\n",
       "      <td>[{'name': 'Hot Pressing'}]</td>\n",
       "      <td>[{'citation': 'Mechanical Properties of Pure, ...</td>\n",
       "      <td>NaN</td>\n",
       "      <td>NaN</td>\n",
       "      <td>NaN</td>\n",
       "      <td>NaN</td>\n",
       "      <td>NaN</td>\n",
       "      <td>...</td>\n",
       "      <td>NaN</td>\n",
       "      <td>NaN</td>\n",
       "      <td>NaN</td>\n",
       "      <td>NaN</td>\n",
       "      <td>NaN</td>\n",
       "      <td>NaN</td>\n",
       "      <td>NaN</td>\n",
       "      <td>NaN</td>\n",
       "      <td>NaN</td>\n",
       "      <td>NaN</td>\n",
       "    </tr>\n",
       "    <tr>\n",
       "      <th>4</th>\n",
       "      <td>Si3N4.xCeO2.ySiC</td>\n",
       "      <td>[{'name': 'NIST_SRD-30'}]</td>\n",
       "      <td>[Silicon nitride composite]</td>\n",
       "      <td>[{'name': 'Hot Pressing'}]</td>\n",
       "      <td>[{'citation': 'Effect of Silicon Carbide Whisk...</td>\n",
       "      <td>NaN</td>\n",
       "      <td>NaN</td>\n",
       "      <td>NaN</td>\n",
       "      <td>NaN</td>\n",
       "      <td>NaN</td>\n",
       "      <td>...</td>\n",
       "      <td>NaN</td>\n",
       "      <td>NaN</td>\n",
       "      <td>NaN</td>\n",
       "      <td>NaN</td>\n",
       "      <td>NaN</td>\n",
       "      <td>NaN</td>\n",
       "      <td>NaN</td>\n",
       "      <td>NaN</td>\n",
       "      <td>NaN</td>\n",
       "      <td>NaN</td>\n",
       "    </tr>\n",
       "    <tr>\n",
       "      <th>5</th>\n",
       "      <td>Si3N4</td>\n",
       "      <td>[{'name': 'NIST_SRD-30'}]</td>\n",
       "      <td>[Silicon nitride]</td>\n",
       "      <td>[{'name': 'Hot Isostatic Pressing'}]</td>\n",
       "      <td>[{'citation': 'Corrosion of Silicon Nitride Ce...</td>\n",
       "      <td>NaN</td>\n",
       "      <td>NaN</td>\n",
       "      <td>NaN</td>\n",
       "      <td>NaN</td>\n",
       "      <td>NaN</td>\n",
       "      <td>...</td>\n",
       "      <td>NaN</td>\n",
       "      <td>NaN</td>\n",
       "      <td>NaN</td>\n",
       "      <td>NaN</td>\n",
       "      <td>NaN</td>\n",
       "      <td>NaN</td>\n",
       "      <td>NaN</td>\n",
       "      <td>NaN</td>\n",
       "      <td>NaN</td>\n",
       "      <td>NaN</td>\n",
       "    </tr>\n",
       "  </tbody>\n",
       "</table>\n",
       "<p>5 rows × 161 columns</p>\n",
       "</div>"
      ],
      "text/plain": [
       "            chemicalFormula                   licenses  \\\n",
       "1                      SiO2  [{'name': 'NIST_SRD-30'}]   \n",
       "2  3Al2O3.2SiO2.xZrO2.yY2O3  [{'name': 'NIST_SRD-30'}]   \n",
       "3                     Al2O3  [{'name': 'NIST_SRD-30'}]   \n",
       "4          Si3N4.xCeO2.ySiC  [{'name': 'NIST_SRD-30'}]   \n",
       "5                     Si3N4  [{'name': 'NIST_SRD-30'}]   \n",
       "\n",
       "                         names                           preparation  \\\n",
       "1                     [Silica]                                   NaN   \n",
       "2          [Mullite composite]            [{'name': 'Hot Pressing'}]   \n",
       "3                    [Alumina]            [{'name': 'Hot Pressing'}]   \n",
       "4  [Silicon nitride composite]            [{'name': 'Hot Pressing'}]   \n",
       "5            [Silicon nitride]  [{'name': 'Hot Isostatic Pressing'}]   \n",
       "\n",
       "                                          references Axis Length  \\\n",
       "1  [{'citation': 'Gaseous Corrosion of Ceramics, ...         NaN   \n",
       "2  [{'citation': 'Thermal Diffusivity/Conductivit...         NaN   \n",
       "3  [{'citation': 'Mechanical Properties of Pure, ...         NaN   \n",
       "4  [{'citation': 'Effect of Silicon Carbide Whisk...         NaN   \n",
       "5  [{'citation': 'Corrosion of Silicon Nitride Ce...         NaN   \n",
       "\n",
       "  Axis Length-conditions Axis Length-units Bulk Modulus  \\\n",
       "1                    NaN               NaN          NaN   \n",
       "2                    NaN               NaN          NaN   \n",
       "3                    NaN               NaN          NaN   \n",
       "4                    NaN               NaN          NaN   \n",
       "5                    NaN               NaN          NaN   \n",
       "\n",
       "  Bulk Modulus-conditions          ...           Thermal Expansion-conditions  \\\n",
       "1                     NaN          ...                                    NaN   \n",
       "2                     NaN          ...                                    NaN   \n",
       "3                     NaN          ...                                    NaN   \n",
       "4                     NaN          ...                                    NaN   \n",
       "5                     NaN          ...                                    NaN   \n",
       "\n",
       "  Thermal Expansion-units Thermal Shock Resistance  \\\n",
       "1                     NaN                      NaN   \n",
       "2                     NaN                      NaN   \n",
       "3                     NaN                      NaN   \n",
       "4                     NaN                      NaN   \n",
       "5                     NaN                      NaN   \n",
       "\n",
       "  Thermal Shock Resistance-conditions Thermal Shock Resistance-units  \\\n",
       "1                                 NaN                            NaN   \n",
       "2                                 NaN                            NaN   \n",
       "3                                 NaN                            NaN   \n",
       "4                                 NaN                            NaN   \n",
       "5                                 NaN                            NaN   \n",
       "\n",
       "  Weibull Modulus Weibull Modulus-conditions Weibull Strength  \\\n",
       "1             NaN                        NaN              NaN   \n",
       "2             NaN                        NaN              NaN   \n",
       "3             NaN                        NaN              NaN   \n",
       "4             NaN                        NaN              NaN   \n",
       "5             NaN                        NaN              NaN   \n",
       "\n",
       "  Weibull Strength-conditions Weibull Strength-units  \n",
       "1                         NaN                    NaN  \n",
       "2                         NaN                    NaN  \n",
       "3                         NaN                    NaN  \n",
       "4                         NaN                    NaN  \n",
       "5                         NaN                    NaN  \n",
       "\n",
       "[5 rows x 161 columns]"
      ]
     },
     "execution_count": 16,
     "metadata": {},
     "output_type": "execute_result"
    }
   ],
   "source": [
    "# Looking at the first 5 entries\n",
    "df.head()"
   ]
  },
  {
   "cell_type": "code",
   "execution_count": 17,
   "metadata": {},
   "outputs": [
    {
     "data": {
      "text/plain": [
       "chemicalFormula                                               Al2O3.xSiC\n",
       "licenses                                       [{'name': 'NIST_SRD-30'}]\n",
       "names                                                [Alumina composite]\n",
       "preparation                                   [{'name': 'Hot Pressing'}]\n",
       "references             [{'citation': 'Strengthening and Toughening Me...\n",
       "Chemical Family                                                 Al-O:SiC\n",
       "Crystallinity                                            Polycrystalline\n",
       "Hardness                                                              19\n",
       "Hardness-conditions    [{'name': 'Volume Fraction of SiC', 'scalars':...\n",
       "Hardness-units                                                       GPa\n",
       "Name: 42, dtype: object"
      ]
     },
     "execution_count": 17,
     "metadata": {},
     "output_type": "execute_result"
    }
   ],
   "source": [
    "# Taking a look at a sample entry\n",
    "df.loc[42,:].dropna()"
   ]
  },
  {
   "cell_type": "code",
   "execution_count": 18,
   "metadata": {},
   "outputs": [
    {
     "data": {
      "image/png": "[encoded data removed]",
      "text/plain": [
       "<matplotlib.figure.Figure at 0x1096ff588>"
      ]
     },
     "metadata": {},
     "output_type": "display_data"
    }
   ],
   "source": [
    "# Plot a bar chart showing the 50 most common features\n",
    "plt.figure(figsize=(8,16))\n",
    "df.count().sort_values()[-50:].plot.barh()\n",
    "plt.show()"
   ]
  },
  {
   "cell_type": "code",
   "execution_count": 19,
   "metadata": {},
   "outputs": [
    {
     "data": {
      "image/png": "[encoded data removed]",
      "text/plain": [
       "<matplotlib.figure.Figure at 0x1096ffbe0>"
      ]
     },
     "metadata": {},
     "output_type": "display_data"
    }
   ],
   "source": [
    "density = df['Density'].dropna()\n",
    "density = pd.to_numeric(density, errors='coerce')\n",
    "density.hist(bins=100)\n",
    "plt.xlabel('Density')\n",
    "plt.ylabel('# of samples')\n",
    "plt.show()"
   ]
  },
  {
   "cell_type": "markdown",
   "metadata": {},
   "source": [
    "# Featurization"
   ]
  },
  {
   "cell_type": "code",
   "execution_count": 20,
   "metadata": {
    "collapsed": true
   },
   "outputs": [],
   "source": [
    "# Create copy of original data to not mess with them\n",
    "feat = df.copy()"
   ]
  },
  {
   "cell_type": "markdown",
   "metadata": {},
   "source": [
    "### Make chemical formula compatible with pymatgen.core.composition"
   ]
  },
  {
   "cell_type": "code",
   "execution_count": 21,
   "metadata": {
    "collapsed": true
   },
   "outputs": [],
   "source": [
    "# Initialize composition column\n",
    "feat['composition'] = feat['chemicalFormula']"
   ]
  },
  {
   "cell_type": "code",
   "execution_count": 22,
   "metadata": {},
   "outputs": [
    {
     "name": "stdout",
     "output_type": "stream",
     "text": [
      "1608 errors in 4098 samples\n"
     ]
    }
   ],
   "source": [
    "# Check how many formulas cause an error when they are fed to pymatgen.core.composition (via str_to_composition)\n",
    "\n",
    "N_errors, N_total = 0, 0\n",
    "for entry in feat['composition']:\n",
    "    try:\n",
    "        pd.Series([entry]).transform(str_to_composition)\n",
    "    except:\n",
    "        N_errors +=1\n",
    "        #print(entry)\n",
    "    finally:\n",
    "        N_total +=1\n",
    "\n",
    "print('{0} errors in {1} samples'.format(N_errors, N_total))"
   ]
  },
  {
   "cell_type": "code",
   "execution_count": 23,
   "metadata": {
    "collapsed": true
   },
   "outputs": [],
   "source": [
    "# This function removes certain characters and expressions from a chemical formula\n",
    "# so that it can be converted using pymatgen.core.composition\n",
    "\n",
    "def make_chem_form_compatible(formula):\n",
    "    \n",
    "    for bad_str in ['\\.','x', 'y', '\\+', '\\-', 'z', 'w', '\\%', '\\^',   # individual characters\n",
    "                 'Cordierite','hisker','Sialon', # certain words that show up in some formulas\n",
    "                 '\\$(.*?)\\$',    # LaTeX expressions\n",
    "                 '\\((.*?)\\)',    # bracketed expressions\n",
    "                 '^\\d{1,2}']:    # leading numbers of 1 or 2 digits\n",
    "        formula = re.sub(bad_str, '', formula)\n",
    "    \n",
    "    return formula"
   ]
  },
  {
   "cell_type": "code",
   "execution_count": 24,
   "metadata": {
    "collapsed": true
   },
   "outputs": [],
   "source": [
    "# Convert chemical formulas using above function\n",
    "feat[\"composition\"] = feat[\"composition\"].transform(make_chem_form_compatible)\n",
    "\n",
    "# Converting chemical formula to composition object using\n",
    "# matminer.utils.conversions.str_to_composition\n",
    "# which in turn uses pymatgen.core.composition\n",
    "feat[\"composition\"] = feat[\"composition\"].transform(str_to_composition)"
   ]
  },
  {
   "cell_type": "code",
   "execution_count": 38,
   "metadata": {},
   "outputs": [
    {
     "data": {
      "text/plain": [
       "1               (Si, O)\n",
       "2    (Al, O, Si, Zr, Y)\n",
       "3               (Al, O)\n",
       "4     (Si, N, Ce, O, C)\n",
       "5               (Si, N)\n",
       "Name: composition, dtype: object"
      ]
     },
     "execution_count": 38,
     "metadata": {},
     "output_type": "execute_result"
    }
   ],
   "source": [
    "feat['composition'].head()"
   ]
  },
  {
   "cell_type": "markdown",
   "metadata": {},
   "source": [
    "### Parse chemical formula\n",
    "#### x, y, z, and w are setted to be 0.1 (can be modified)"
   ]
  },
  {
   "cell_type": "code",
   "execution_count": 27,
   "metadata": {
    "collapsed": true
   },
   "outputs": [],
   "source": [
    "df1 = df.copy()\n",
    "df1.loc[3892,'chemicalFormula'] = 'BN' #fix 'B-N' to 'BN'"
   ]
  },
  {
   "cell_type": "code",
   "execution_count": 28,
   "metadata": {
    "collapsed": true
   },
   "outputs": [],
   "source": [
    "# Parse the chemicalFormula\n",
    "def formula_decompose(formula):\n",
    "    '''\n",
    "    decompose chemical formula \n",
    "    return\n",
    "        composition: list, [(element,num),...]\n",
    "            element: string\n",
    "            num: string, can be math expression such as '1+0.5x'\n",
    "    '''\n",
    "\n",
    "    comp = []\n",
    "    p = re.compile(r'(\\d?[w-z]?)([A-Z][a-u]?)(\\d*\\+?\\-?\\d*\\.?\\d*[w-z]?)')\n",
    "\n",
    "    #split the chemical formula if there is dots, but not for cases like Mg1.5x\n",
    "    if re.search(r'\\.', formula) and not re.search(r'\\d+\\.\\d[w-z]', formula): \n",
    "        formula = formula.split('.')\n",
    "        for item in formula:\n",
    "            prefactor = '1'\n",
    "            for i in re.findall(p, item):\n",
    "                pre, elem, num = i\n",
    "                if pre:\n",
    "                    prefactor = pre\n",
    "                if num == '':\n",
    "                    num = '1'\n",
    "                num = prefactor + '*({})'.format(num)\n",
    "                comp.append((elem, num))\n",
    "    else:\n",
    "        prefactor = '1'\n",
    "        for i in re.findall(p, formula):\n",
    "            pre, elem, num = i\n",
    "            if pre:\n",
    "                prefactor = pre\n",
    "            if num == '':\n",
    "                num = '1'\n",
    "            num = prefactor + '*({})'.format(num)\n",
    "            comp.append((elem, num))\n",
    "    return comp \n",
    "\n",
    "def formula_reconstruct(composition, x=0.1, y=0.1, z=0.1, w=0.1):\n",
    "    '''\n",
    "    reconstruct chemical formula from composition\n",
    "    composition in form of [(element,num), (element,num),...]\n",
    "        element: string\n",
    "        num: string, can be math expression such as '1+0.5x'\n",
    "\n",
    "    return \n",
    "        flat chemcial formula: string, such as 'Ti1.5Cu0.1Au1.0'\n",
    "    '''\n",
    "    flat_list = []\n",
    "    for (elem, num) in composition:\n",
    "        num = re.sub(r'(\\d)([w-z])', r'\\1*\\2', num) #convert 5x to 5*x\n",
    "        flat_list.append(elem)\n",
    "        flat_list.append(format(eval(num), '.1f'))\n",
    "    return ''.join(flat_list)\n",
    "  \n",
    "def formula_parser(formula):\n",
    "    return formula_reconstruct(formula_decompose(formula))"
   ]
  },
  {
   "cell_type": "code",
   "execution_count": 30,
   "metadata": {},
   "outputs": [
    {
     "data": {
      "text/html": [
       "<div>\n",
       "<style>\n",
       "    .dataframe thead tr:only-child th {\n",
       "        text-align: right;\n",
       "    }\n",
       "\n",
       "    .dataframe thead th {\n",
       "        text-align: left;\n",
       "    }\n",
       "\n",
       "    .dataframe tbody tr th {\n",
       "        vertical-align: top;\n",
       "    }\n",
       "</style>\n",
       "<table border=\"1\" class=\"dataframe\">\n",
       "  <thead>\n",
       "    <tr style=\"text-align: right;\">\n",
       "      <th></th>\n",
       "      <th>chemicalFormula</th>\n",
       "      <th>licenses</th>\n",
       "      <th>references</th>\n",
       "      <th>Chemical Family</th>\n",
       "      <th>flatFormula</th>\n",
       "    </tr>\n",
       "  </thead>\n",
       "  <tbody>\n",
       "    <tr>\n",
       "      <th>1</th>\n",
       "      <td>SiO2</td>\n",
       "      <td>[{'name': 'NIST_SRD-30'}]</td>\n",
       "      <td>[{'citation': 'Gaseous Corrosion of Ceramics, ...</td>\n",
       "      <td>Si-O</td>\n",
       "      <td>Si1.0O2.0</td>\n",
       "    </tr>\n",
       "    <tr>\n",
       "      <th>2</th>\n",
       "      <td>3Al2O3.2SiO2.xZrO2.yY2O3</td>\n",
       "      <td>[{'name': 'NIST_SRD-30'}]</td>\n",
       "      <td>[{'citation': 'Thermal Diffusivity/Conductivit...</td>\n",
       "      <td>Al-Si-O:ZrO</td>\n",
       "      <td>Al6.0O9.0Si2.0O4.0Zr0.1O0.2Y0.2O0.3</td>\n",
       "    </tr>\n",
       "    <tr>\n",
       "      <th>3</th>\n",
       "      <td>Al2O3</td>\n",
       "      <td>[{'name': 'NIST_SRD-30'}]</td>\n",
       "      <td>[{'citation': 'Mechanical Properties of Pure, ...</td>\n",
       "      <td>Al-O</td>\n",
       "      <td>Al2.0O3.0</td>\n",
       "    </tr>\n",
       "    <tr>\n",
       "      <th>4</th>\n",
       "      <td>Si3N4.xCeO2.ySiC</td>\n",
       "      <td>[{'name': 'NIST_SRD-30'}]</td>\n",
       "      <td>[{'citation': 'Effect of Silicon Carbide Whisk...</td>\n",
       "      <td>Si-N:CeO</td>\n",
       "      <td>Si3.0N4.0Ce0.1O0.2Si0.1C0.1</td>\n",
       "    </tr>\n",
       "    <tr>\n",
       "      <th>5</th>\n",
       "      <td>Si3N4</td>\n",
       "      <td>[{'name': 'NIST_SRD-30'}]</td>\n",
       "      <td>[{'citation': 'Corrosion of Silicon Nitride Ce...</td>\n",
       "      <td>Si-N</td>\n",
       "      <td>Si3.0N4.0</td>\n",
       "    </tr>\n",
       "  </tbody>\n",
       "</table>\n",
       "</div>"
      ],
      "text/plain": [
       "            chemicalFormula                   licenses  \\\n",
       "1                      SiO2  [{'name': 'NIST_SRD-30'}]   \n",
       "2  3Al2O3.2SiO2.xZrO2.yY2O3  [{'name': 'NIST_SRD-30'}]   \n",
       "3                     Al2O3  [{'name': 'NIST_SRD-30'}]   \n",
       "4          Si3N4.xCeO2.ySiC  [{'name': 'NIST_SRD-30'}]   \n",
       "5                     Si3N4  [{'name': 'NIST_SRD-30'}]   \n",
       "\n",
       "                                          references Chemical Family  \\\n",
       "1  [{'citation': 'Gaseous Corrosion of Ceramics, ...            Si-O   \n",
       "2  [{'citation': 'Thermal Diffusivity/Conductivit...     Al-Si-O:ZrO   \n",
       "3  [{'citation': 'Mechanical Properties of Pure, ...            Al-O   \n",
       "4  [{'citation': 'Effect of Silicon Carbide Whisk...        Si-N:CeO   \n",
       "5  [{'citation': 'Corrosion of Silicon Nitride Ce...            Si-N   \n",
       "\n",
       "                           flatFormula  \n",
       "1                            Si1.0O2.0  \n",
       "2  Al6.0O9.0Si2.0O4.0Zr0.1O0.2Y0.2O0.3  \n",
       "3                            Al2.0O3.0  \n",
       "4          Si3.0N4.0Ce0.1O0.2Si0.1C0.1  \n",
       "5                            Si3.0N4.0  "
      ]
     },
     "execution_count": 30,
     "metadata": {},
     "output_type": "execute_result"
    }
   ],
   "source": [
    "df1[\"flatFormula\"] = df1[\"chemicalFormula\"].map(formula_parser)\n",
    "df1.dropna(axis=1).head()"
   ]
  },
  {
   "cell_type": "code",
   "execution_count": 31,
   "metadata": {},
   "outputs": [
    {
     "data": {
      "text/html": [
       "<div>\n",
       "<style>\n",
       "    .dataframe thead tr:only-child th {\n",
       "        text-align: right;\n",
       "    }\n",
       "\n",
       "    .dataframe thead th {\n",
       "        text-align: left;\n",
       "    }\n",
       "\n",
       "    .dataframe tbody tr th {\n",
       "        vertical-align: top;\n",
       "    }\n",
       "</style>\n",
       "<table border=\"1\" class=\"dataframe\">\n",
       "  <thead>\n",
       "    <tr style=\"text-align: right;\">\n",
       "      <th></th>\n",
       "      <th>chemicalFormula</th>\n",
       "      <th>licenses</th>\n",
       "      <th>references</th>\n",
       "      <th>Chemical Family</th>\n",
       "      <th>flatFormula</th>\n",
       "      <th>composition</th>\n",
       "    </tr>\n",
       "  </thead>\n",
       "  <tbody>\n",
       "    <tr>\n",
       "      <th>1</th>\n",
       "      <td>SiO2</td>\n",
       "      <td>[{'name': 'NIST_SRD-30'}]</td>\n",
       "      <td>[{'citation': 'Gaseous Corrosion of Ceramics, ...</td>\n",
       "      <td>Si-O</td>\n",
       "      <td>Si1.0O2.0</td>\n",
       "      <td>(Si, O)</td>\n",
       "    </tr>\n",
       "    <tr>\n",
       "      <th>2</th>\n",
       "      <td>3Al2O3.2SiO2.xZrO2.yY2O3</td>\n",
       "      <td>[{'name': 'NIST_SRD-30'}]</td>\n",
       "      <td>[{'citation': 'Thermal Diffusivity/Conductivit...</td>\n",
       "      <td>Al-Si-O:ZrO</td>\n",
       "      <td>Al6.0O9.0Si2.0O4.0Zr0.1O0.2Y0.2O0.3</td>\n",
       "      <td>(Al, O, Si, Zr, Y)</td>\n",
       "    </tr>\n",
       "    <tr>\n",
       "      <th>3</th>\n",
       "      <td>Al2O3</td>\n",
       "      <td>[{'name': 'NIST_SRD-30'}]</td>\n",
       "      <td>[{'citation': 'Mechanical Properties of Pure, ...</td>\n",
       "      <td>Al-O</td>\n",
       "      <td>Al2.0O3.0</td>\n",
       "      <td>(Al, O)</td>\n",
       "    </tr>\n",
       "    <tr>\n",
       "      <th>4</th>\n",
       "      <td>Si3N4.xCeO2.ySiC</td>\n",
       "      <td>[{'name': 'NIST_SRD-30'}]</td>\n",
       "      <td>[{'citation': 'Effect of Silicon Carbide Whisk...</td>\n",
       "      <td>Si-N:CeO</td>\n",
       "      <td>Si3.0N4.0Ce0.1O0.2Si0.1C0.1</td>\n",
       "      <td>(Si, N, Ce, O, C)</td>\n",
       "    </tr>\n",
       "    <tr>\n",
       "      <th>5</th>\n",
       "      <td>Si3N4</td>\n",
       "      <td>[{'name': 'NIST_SRD-30'}]</td>\n",
       "      <td>[{'citation': 'Corrosion of Silicon Nitride Ce...</td>\n",
       "      <td>Si-N</td>\n",
       "      <td>Si3.0N4.0</td>\n",
       "      <td>(Si, N)</td>\n",
       "    </tr>\n",
       "  </tbody>\n",
       "</table>\n",
       "</div>"
      ],
      "text/plain": [
       "            chemicalFormula                   licenses  \\\n",
       "1                      SiO2  [{'name': 'NIST_SRD-30'}]   \n",
       "2  3Al2O3.2SiO2.xZrO2.yY2O3  [{'name': 'NIST_SRD-30'}]   \n",
       "3                     Al2O3  [{'name': 'NIST_SRD-30'}]   \n",
       "4          Si3N4.xCeO2.ySiC  [{'name': 'NIST_SRD-30'}]   \n",
       "5                     Si3N4  [{'name': 'NIST_SRD-30'}]   \n",
       "\n",
       "                                          references Chemical Family  \\\n",
       "1  [{'citation': 'Gaseous Corrosion of Ceramics, ...            Si-O   \n",
       "2  [{'citation': 'Thermal Diffusivity/Conductivit...     Al-Si-O:ZrO   \n",
       "3  [{'citation': 'Mechanical Properties of Pure, ...            Al-O   \n",
       "4  [{'citation': 'Effect of Silicon Carbide Whisk...        Si-N:CeO   \n",
       "5  [{'citation': 'Corrosion of Silicon Nitride Ce...            Si-N   \n",
       "\n",
       "                           flatFormula         composition  \n",
       "1                            Si1.0O2.0             (Si, O)  \n",
       "2  Al6.0O9.0Si2.0O4.0Zr0.1O0.2Y0.2O0.3  (Al, O, Si, Zr, Y)  \n",
       "3                            Al2.0O3.0             (Al, O)  \n",
       "4          Si3.0N4.0Ce0.1O0.2Si0.1C0.1   (Si, N, Ce, O, C)  \n",
       "5                            Si3.0N4.0             (Si, N)  "
      ]
     },
     "execution_count": 31,
     "metadata": {},
     "output_type": "execute_result"
    }
   ],
   "source": [
    "df1[\"composition\"] =df1[\"flatFormula\"].transform(str_to_composition)\n",
    "df1.dropna(axis=1).head()"
   ]
  },
  {
   "cell_type": "code",
   "execution_count": 32,
   "metadata": {},
   "outputs": [
    {
     "data": {
      "text/plain": [
       "Comp: Ce0.1 Si3.1 C0.1 N4 O0.2"
      ]
     },
     "execution_count": 32,
     "metadata": {},
     "output_type": "execute_result"
    }
   ],
   "source": [
    "#check the composition object\n",
    "df1.loc[4,'composition']"
   ]
  },
  {
   "cell_type": "markdown",
   "metadata": {},
   "source": [
    "### Featurize with matminer"
   ]
  },
  {
   "cell_type": "code",
   "execution_count": 39,
   "metadata": {},
   "outputs": [
    {
     "data": {
      "text/plain": [
       "(4098, 163)"
      ]
     },
     "execution_count": 39,
     "metadata": {},
     "output_type": "execute_result"
    }
   ],
   "source": [
    "df1.shape"
   ]
  },
  {
   "cell_type": "code",
   "execution_count": 41,
   "metadata": {
    "collapsed": true
   },
   "outputs": [],
   "source": [
    "df1_feat = df1.copy()"
   ]
  },
  {
   "cell_type": "code",
   "execution_count": 46,
   "metadata": {
    "collapsed": true
   },
   "outputs": [],
   "source": [
    "# Add new features to df_feat\n",
    "ep_feat = ElementProperty.from_preset(preset_name=\"magpie\")\n",
    "df1_feat = ep_feat.featurize_dataframe(df1_feat, col_id=\"composition\", ignore_errors=True)"
   ]
  },
  {
   "cell_type": "code",
   "execution_count": 43,
   "metadata": {},
   "outputs": [
    {
     "data": {
      "text/plain": [
       "(4098, 295)"
      ]
     },
     "execution_count": 43,
     "metadata": {},
     "output_type": "execute_result"
    }
   ],
   "source": [
    "df1_feat.shape"
   ]
  },
  {
   "cell_type": "code",
   "execution_count": 47,
   "metadata": {},
   "outputs": [
    {
     "data": {
      "text/plain": [
       "['avg_dev SpaceGroupNumber',\n",
       " 'maximum NfUnfilled',\n",
       " 'mean MendeleevNumber',\n",
       " 'avg_dev MendeleevNumber',\n",
       " 'maximum NpUnfilled',\n",
       " 'range NfValence',\n",
       " 'mode Number',\n",
       " 'maximum AtomicWeight',\n",
       " 'mean Column',\n",
       " 'mode MendeleevNumber',\n",
       " 'range NpUnfilled',\n",
       " 'mean NpValence',\n",
       " 'avg_dev CovalentRadius',\n",
       " 'mean NsUnfilled',\n",
       " 'maximum GSmagmom',\n",
       " 'avg_dev MeltingT',\n",
       " 'mode MeltingT',\n",
       " 'mean NsValence',\n",
       " 'mode GSbandgap',\n",
       " 'maximum CovalentRadius',\n",
       " 'range Number',\n",
       " 'mean NUnfilled',\n",
       " 'avg_dev NpUnfilled',\n",
       " 'maximum NsUnfilled',\n",
       " 'avg_dev NsValence',\n",
       " 'minimum GSvolume_pa',\n",
       " 'minimum NValence',\n",
       " 'maximum NsValence',\n",
       " 'mean NfValence',\n",
       " 'minimum NdValence',\n",
       " 'mean Row',\n",
       " 'mean SpaceGroupNumber',\n",
       " 'minimum NsValence',\n",
       " 'range MeltingT',\n",
       " 'minimum NsUnfilled',\n",
       " 'mean NdUnfilled',\n",
       " 'maximum NdUnfilled',\n",
       " 'avg_dev Column',\n",
       " 'avg_dev GSbandgap',\n",
       " 'mode NUnfilled',\n",
       " 'minimum NdUnfilled',\n",
       " 'range NUnfilled',\n",
       " 'avg_dev NValence',\n",
       " 'maximum NpValence',\n",
       " 'minimum CovalentRadius',\n",
       " 'mode NsUnfilled',\n",
       " 'avg_dev NfValence',\n",
       " 'range AtomicWeight',\n",
       " 'range GSmagmom',\n",
       " 'range MendeleevNumber',\n",
       " 'minimum Number',\n",
       " 'mean CovalentRadius',\n",
       " 'mean Electronegativity',\n",
       " 'maximum Column',\n",
       " 'avg_dev Electronegativity',\n",
       " 'minimum NpUnfilled',\n",
       " 'maximum MendeleevNumber',\n",
       " 'range NsUnfilled',\n",
       " 'mode Column',\n",
       " 'maximum GSvolume_pa',\n",
       " 'mode AtomicWeight',\n",
       " 'range Electronegativity',\n",
       " 'minimum SpaceGroupNumber',\n",
       " 'avg_dev NUnfilled',\n",
       " 'mean GSbandgap',\n",
       " 'mode SpaceGroupNumber',\n",
       " 'mean AtomicWeight',\n",
       " 'avg_dev GSmagmom',\n",
       " 'mode NpUnfilled',\n",
       " 'avg_dev NfUnfilled',\n",
       " 'mean GSmagmom',\n",
       " 'maximum Row',\n",
       " 'minimum GSmagmom',\n",
       " 'minimum Row',\n",
       " 'avg_dev NpValence',\n",
       " 'range Column',\n",
       " 'mode Electronegativity',\n",
       " 'minimum NfValence',\n",
       " 'maximum SpaceGroupNumber',\n",
       " 'mode Row',\n",
       " 'maximum NdValence',\n",
       " 'range NpValence',\n",
       " 'range NfUnfilled',\n",
       " 'mean NpUnfilled',\n",
       " 'maximum NValence',\n",
       " 'minimum NpValence',\n",
       " 'maximum Electronegativity',\n",
       " 'mean NfUnfilled',\n",
       " 'minimum MeltingT',\n",
       " 'maximum MeltingT',\n",
       " 'maximum Number',\n",
       " 'mode NValence',\n",
       " 'mean NdValence',\n",
       " 'mode CovalentRadius',\n",
       " 'avg_dev AtomicWeight',\n",
       " 'range Row',\n",
       " 'mode NpValence',\n",
       " 'minimum MendeleevNumber',\n",
       " 'range NdUnfilled',\n",
       " 'mean GSvolume_pa',\n",
       " 'avg_dev GSvolume_pa',\n",
       " 'avg_dev NsUnfilled',\n",
       " 'mode GSvolume_pa',\n",
       " 'avg_dev NdValence',\n",
       " 'range NsValence',\n",
       " 'maximum GSbandgap',\n",
       " 'range SpaceGroupNumber',\n",
       " 'range GSbandgap',\n",
       " 'range NValence',\n",
       " 'minimum GSbandgap',\n",
       " 'minimum NfUnfilled',\n",
       " 'mode GSmagmom',\n",
       " 'range CovalentRadius',\n",
       " 'mode NdUnfilled',\n",
       " 'mean NValence',\n",
       " 'maximum NfValence',\n",
       " 'minimum AtomicWeight',\n",
       " 'avg_dev Number',\n",
       " 'mode NdValence',\n",
       " 'mean MeltingT',\n",
       " 'minimum NUnfilled',\n",
       " 'range GSvolume_pa',\n",
       " 'minimum Electronegativity',\n",
       " 'mean Number',\n",
       " 'mode NsValence',\n",
       " 'range NdValence',\n",
       " 'minimum Column',\n",
       " 'avg_dev Row',\n",
       " 'mode NfValence',\n",
       " 'avg_dev NdUnfilled',\n",
       " 'maximum NUnfilled',\n",
       " 'mode NfUnfilled']"
      ]
     },
     "execution_count": 47,
     "metadata": {},
     "output_type": "execute_result"
    }
   ],
   "source": [
    "# List of the new columns\n",
    "list(set(df1_feat.columns) ^ set(df1))"
   ]
  },
  {
   "cell_type": "code",
   "execution_count": 51,
   "metadata": {},
   "outputs": [
    {
     "data": {
      "text/plain": [
       "1    725.422222\n",
       "2    516.580380\n",
       "3    421.761600\n",
       "4    823.174827\n",
       "5    795.404082\n",
       "Name: avg_dev MeltingT, dtype: float64"
      ]
     },
     "execution_count": 51,
     "metadata": {},
     "output_type": "execute_result"
    }
   ],
   "source": [
    "df1_feat['avg_dev MeltingT'].head()"
   ]
  }
 ],
 "metadata": {
  "kernelspec": {
   "display_name": "Python 3",
   "language": "python",
   "name": "python3"
  },
  "language_info": {
   "codemirror_mode": {
    "name": "ipython",
    "version": 3
   },
   "file_extension": ".py",
   "mimetype": "text/x-python",
   "name": "python",
   "nbconvert_exporter": "python",
   "pygments_lexer": "ipython3",
   "version": "3.6.5"
  }
 },
 "nbformat": 4,
 "nbformat_minor": 2
}
