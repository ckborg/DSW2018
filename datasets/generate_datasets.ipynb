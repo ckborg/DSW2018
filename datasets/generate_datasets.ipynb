{
 "cells": [
  {
   "cell_type": "code",
   "execution_count": 12,
   "metadata": {},
   "outputs": [],
   "source": [
    "from os import environ\n",
    "from citrination_client import CitrinationClient\n",
    "from citrination_client import *\n",
    "from pypif import pif\n",
    "import csv"
   ]
  },
  {
   "cell_type": "code",
   "execution_count": 17,
   "metadata": {},
   "outputs": [],
   "source": [
    "client = CitrinationClient(environ['CITRINATION_API_KEY'], 'https://citrination.com')\n",
    "dataset_id = '151803'"
   ]
  },
  {
   "cell_type": "code",
   "execution_count": 18,
   "metadata": {},
   "outputs": [],
   "source": [
    "def parse_prop_and_temp(search_result, prop_name):\n",
    "    rows = []\n",
    "    pif_records = [x.system for x in search_result.hits]\n",
    "    for system in pif_records:\n",
    "        if \"x\" not in system.chemical_formula and \".\" not in system.chemical_formula:\n",
    "            for prop in system.properties:\n",
    "                if prop.name == prop_name:\n",
    "                    for cond in prop.conditions:\n",
    "                        if cond.name == \"Temperature\":\n",
    "                            if len(prop.scalars) == len(cond.scalars):\n",
    "                                for prop_sca, cond_sca in zip(prop.scalars, cond.scalars):\n",
    "                                    if prop_sca.value and cond_sca.value:\n",
    "                                        if cond_sca.value.isdigit():\n",
    "                                            try:\n",
    "                                                float(prop_sca.value)\n",
    "                                                row = [system.chemical_formula, float(prop_sca.value), cond_sca.value]\n",
    "                                                rows.append(row)\n",
    "                                            except ValueError as e:\n",
    "                                                print(e)\n",
    "\n",
    "\n",
    "    with open(prop_name+'.csv', 'w') as csvfile:\n",
    "        writer = csv.writer(csvfile)\n",
    "        writer.writerow(['Formula', prop_name, \"Temperature\"])\n",
    "        writer.writerows(rows)"
   ]
  },
  {
   "cell_type": "code",
   "execution_count": 19,
   "metadata": {},
   "outputs": [
    {
     "name": "stdout",
     "output_type": "stream",
     "text": [
      "We found 396 records\n",
      "[{'Fracture Toughness': ['2.7+-0.2', '2.7+-0.2', '2.6+-0.2', '2.5+-0.1', '2.5+-0.3', '2.4+-0.2', '2.4+-0.2', '2.4+-0.2'], 'formula': 'Si3N4'}, {'Fracture Toughness': ['9.0', '9.1', '9.0', '9.0', '11.2', '10.7', '10.2', '9.3'], 'formula': 'WC.xAl2O3.yCo'}]\n",
      "could not convert string to float: '3.1 (10%)'\n",
      "could not convert string to float: '3.1 (10%)'\n",
      "We found 398 records\n",
      "[{'formula': 'Si3N4', 'Density': ['2.67']}, {'formula': 'ZrO2', 'Density': ['3.2', '3.4', '3.5', '3.5', '3.6', '4.0', '4.8']}]\n",
      "could not convert string to float: '3.16 (1%)'\n",
      "We found 484 records\n",
      "[{'Flexural Strength': ['436+-55'], 'formula': 'Si3N4.wAl2O3.xMo2C.ySiO2.zY2O3'}, {'Flexural Strength': ['420', '465', '375', '325', '305', '260', '515', '435'], 'formula': 'Si3N4.xAl2O3.yY2O3'}]\n",
      "We found 381 records\n",
      "[{'formula': 'La2Zr2O7', 'Elastic Modulus': ['175+-11']}, {'formula': '3Al2O3.2SiO2.xZrO2', 'Elastic Modulus': ['192', '180', '174', '167', '163', '157', '161', '163', '166', '170', '177', '180', '166', '183', '183', '175', '171', '173', '151', '163', '170', '158', '155', '158', '177', '169', '172', '154', '156', '151', '152', '153', '151']}]\n",
      "could not convert string to float: '415 (3%)'\n"
     ]
    }
   ],
   "source": [
    "prop_names = [\"Fracture Toughness\", \"Density\", \"Flexural Strength\", \"Elastic Modulus\"]\n",
    "\n",
    "for prop_name in prop_names:\n",
    "    value_query = FieldQuery(extract_as=prop_name, extract_all=True)\n",
    "    property_query = PropertyQuery(name=FieldQuery(filter=[Filter(equal=prop_name)]), value=value_query)\n",
    "    formula_query = ChemicalFieldQuery(extract_as=\"formula\")\n",
    "    system_query = PifSystemQuery(chemical_formula=formula_query, properties=property_query)\n",
    "    dataset_query = DatasetQuery(id=[Filter(equal=dataset_id)])\n",
    "    data_query = DataQuery(dataset=dataset_query, system=system_query)\n",
    "    pif_query = PifSystemReturningQuery(size=5000, random_results=True, query=data_query)\n",
    "\n",
    "    search_result = client.search.pif_search(pif_query)\n",
    "\n",
    "    print(\"We found {} records\".format(len(search_result.hits)))\n",
    "    print([x.extracted for x in search_result.hits[0:2]])\n",
    "    parse_prop_and_temp(search_result, prop_name)\n",
    "    \n"
   ]
  },
  {
   "cell_type": "code",
   "execution_count": 41,
   "metadata": {},
   "outputs": [
    {
     "name": "stdout",
     "output_type": "stream",
     "text": [
      "[Fracture Toughness] rows in csv- 515 featurized rows= 515\n",
      "[Density] rows in csv- 245 featurized rows= 245\n",
      "[Flexural Strength] rows in csv- 886 featurized rows= 886\n",
      "[Elastic Modulus] rows in csv- 1588 featurized rows= 1588\n"
     ]
    }
   ],
   "source": [
    "from matminer.utils.conversions import str_to_composition\n",
    "from matminer.featurizers.composition import ElementProperty\n",
    "import pandas as pd\n",
    "\n",
    "for prop_name in prop_names:\n",
    "    df = pd.read_csv(prop_name+'.csv')\n",
    "    df[\"composition\"] = df[\"Formula\"].transform(str_to_composition)\n",
    "    ep_feat = ElementProperty.from_preset(preset_name=\"magpie\")\n",
    "    df_feat = ep_feat.featurize_dataframe(df, col_id=\"composition\", ignore_errors=True)\n",
    "    print(\"[\"+prop_name+\"]\", \"rows in csv ==\", len(df), \"featurized rows =\", len(df_feat))\n"
   ]
  },
  {
   "cell_type": "code",
   "execution_count": null,
   "metadata": {},
   "outputs": [],
   "source": []
  }
 ],
 "metadata": {
  "kernelspec": {
   "display_name": "Python 3",
   "language": "python",
   "name": "python3"
  },
  "language_info": {
   "codemirror_mode": {
    "name": "ipython",
    "version": 3
   },
   "file_extension": ".py",
   "mimetype": "text/x-python",
   "name": "python",
   "nbconvert_exporter": "python",
   "pygments_lexer": "ipython3",
   "version": "3.6.4"
  }
 },
 "nbformat": 4,
 "nbformat_minor": 2
}
