{
 "cells": [
  {
   "cell_type": "code",
   "execution_count": 1,
   "metadata": {},
   "outputs": [],
   "source": [
    "import pandas as pd\n",
    "import re\n",
    "\n",
    "from matminer.utils.conversions import str_to_composition\n",
    "from matminer.featurizers import composition"
   ]
  },
  {
   "cell_type": "markdown",
   "metadata": {},
   "source": [
    "## Create Data Set"
   ]
  },
  {
   "cell_type": "code",
   "execution_count": 2,
   "metadata": {},
   "outputs": [],
   "source": [
    "df  = pd.read_pickle('../deliver/NIST_CeramicDataSet.pkl')"
   ]
  },
  {
   "cell_type": "markdown",
   "metadata": {},
   "source": [
    "## Composition parser via regular expression"
   ]
  },
  {
   "cell_type": "code",
   "execution_count": 3,
   "metadata": {},
   "outputs": [],
   "source": [
    "# Parse the chemicalFormula, v2\n",
    "# it cannot dealing leading parentheses well yet, such as  (3+x)Al2O3.(2-x)SiO2\n",
    "\n",
    "def cleanUp(formula): #modified from Chris's function: make_chem_form_compatible\n",
    "    \n",
    "    for bad_str in [r'whisker', r'\\(([a-z]{3,}\\-?[a-z]{3,})\\)']:    # delete bad strings, (solidsolution), (two-phase)\n",
    "        formula = re.sub(bad_str, '', formula)\n",
    "        \n",
    "    formula = re.sub(r'\\$(.*?)\\$-', '', formula) # LaTeX expressions\n",
    "    formula = re.sub(r'Cordierite', r'Mg2Fe2Al4Si5O18', formula) #chemical formular for Cordierite\n",
    "    formula = re.sub(r'xSialon', r'Si2–xAlxO1+xN2–x', formula) #chemical formular for Sialon\n",
    "    \n",
    "    return formula\n",
    "\n",
    "def formula_decompose(formula):\n",
    "    '''\n",
    "    decompose chemical formula \n",
    "    return\n",
    "        composition: list, [(element,num),...]\n",
    "            element: string\n",
    "            num: string, can be math expression such as '1+0.5x'\n",
    "    '''\n",
    "\n",
    "    comp = []\n",
    "\n",
    "    formula = cleanUp(formula)\n",
    "    \n",
    "    # recognize (prefactor)(elements)(numbers)\n",
    "    # for example: 2Al2O3 is recognized as 4Al and 6O\n",
    "    p = re.compile(r'(\\d?[w-z]?)([A-Z][a-u]?)(\\d*\\+?\\-?\\d*\\.?\\d*[w-z]?)')\n",
    "\n",
    "    #split the chemical formula if there is dots, but not for cases like Mg1.5x\n",
    "    if re.search(r'\\.', formula) and not re.search(r'\\d+\\.\\d[w-z]', formula): \n",
    "        formula = formula.split('.')\n",
    "        for item in formula:\n",
    "            prefactor = '1'\n",
    "            for i in re.findall(p, item):\n",
    "                pre, elem, num = i\n",
    "                if pre:\n",
    "                    prefactor = pre\n",
    "                if num == '':\n",
    "                    num = '1'\n",
    "                num = prefactor + '*({})'.format(num)\n",
    "                comp.append((elem, num))\n",
    "    else:\n",
    "        prefactor = '1'\n",
    "        for i in re.findall(p, formula):\n",
    "            pre, elem, num = i\n",
    "            if pre:\n",
    "                prefactor = pre\n",
    "            if num == '':\n",
    "                num = '1'\n",
    "            num = prefactor + '*({})'.format(num)\n",
    "            comp.append((elem, num))\n",
    "    return comp \n",
    "\n",
    "def formula_reconstruct(composition, x=0.1, y=0.1, z=0.1, w=0.1):\n",
    "    '''\n",
    "    reconstruct chemical formula from composition\n",
    "    composition in form of [(element,num), (element,num),...]\n",
    "        element: string\n",
    "        num: string, can be math expression such as '1+0.5x'\n",
    "\n",
    "    return \n",
    "        flat chemcial formula: string, such as 'Ti1.5Cu0.1Au1.0'\n",
    "    '''\n",
    "    flat_list = []\n",
    "    for (elem, num) in composition:\n",
    "        num = re.sub(r'(\\d)([w-z])', r'\\1*\\2', num) #convert 5x to 5*x\n",
    "        flat_list.append(elem)\n",
    "        flat_list.append(format(eval(num), '.1f'))\n",
    "    return ''.join(flat_list)\n",
    "  \n",
    "def formula_parser(formula):\n",
    "    return formula_reconstruct(formula_decompose(formula))"
   ]
  },
  {
   "cell_type": "markdown",
   "metadata": {},
   "source": [
    "##  Manually Clean up Data Set"
   ]
  },
  {
   "cell_type": "code",
   "execution_count": 4,
   "metadata": {},
   "outputs": [
    {
     "name": "stdout",
     "output_type": "stream",
     "text": [
      "1185: 3.16 (1%)\n",
      "2673: 3.1 (10%)\n",
      "494: ZrO.5%Y2O3\n",
      "1007: TiC0.96\n",
      "2696: Si3N4.x(BaOY2O3)\n",
      "2998: 3Al2O3.2SiO2.xSialon\n",
      "3892: B-N\n",
      "3863: ^(13)C\n"
     ]
    }
   ],
   "source": [
    "# problematic entries\n",
    "print('1185: ' + df.loc[1185,'Density'])\n",
    "print('2673: ' + df.loc[2673, 'Fracture Toughness'])\n",
    "print('494: ' + df.loc[494, \"chemicalFormula\"])\n",
    "print('1007: ' + df.loc[1007,\"chemicalFormula\"])\n",
    "print('2696: ' + df.loc[2696, \"chemicalFormula\"])\n",
    "print('2998: ' + df.loc[2998,\"chemicalFormula\"])\n",
    "print('3892: ' + df.loc[3892,\"chemicalFormula\"])\n",
    "print('3863: ' + df.loc[3863, \"chemicalFormula\"])"
   ]
  },
  {
   "cell_type": "code",
   "execution_count": 5,
   "metadata": {},
   "outputs": [],
   "source": [
    "# update chemicalFormula with cleanUp function\n",
    "df[\"chemicalFormula\"] = df[\"chemicalFormula\"].map(cleanUp)\n",
    "# update chemicalFormula by manually clean-up\n",
    "df.loc[1185,\"Density\"] = '3.16'\n",
    "df.loc[2673, 'Fracture Toughness'] = '3.1'\n",
    "df.loc[494, \"chemicalFormula\"] = 'Zr0.5Y2O3'\n",
    "df.loc[1007,\"chemicalFormula\"] = 'TiC'\n",
    "df.loc[2696,\"chemicalFormula\"] = 'Si3N4.xBaOY2O3'\n",
    "df.loc[3892,\"chemicalFormula\"] = 'BN'\n",
    "df.loc[3863,\"chemicalFormula\"] = 'C'\n",
    "df.loc[2998,\"chemicalFormula\"] = '3Al2O3.2SiO2.Si2–xAlxO1+xN2–x'"
   ]
  },
  {
   "cell_type": "markdown",
   "metadata": {},
   "source": [
    "## sub-DataFrame with feature of Fracture Toughness"
   ]
  },
  {
   "cell_type": "code",
   "execution_count": 6,
   "metadata": {},
   "outputs": [],
   "source": [
    "# create sub-dataset with valid Fracture Toughness feature\n",
    "df_ft = df[df.isnull()['Fracture Toughness'] == False]"
   ]
  },
  {
   "cell_type": "code",
   "execution_count": 7,
   "metadata": {},
   "outputs": [],
   "source": [
    "# sub-dataset only focus on certain columns\n",
    "df_ft = df_ft[['chemicalFormula','names', 'preparation','Chemical Family','Crystallinity','Fracture Toughness']]\n",
    "# make all features are string type for doing groupby later\n",
    "df_ft = df_ft.astype(str)\n",
    "df_ft = df_ft.fillna('0')\n",
    "# convert Fracture Toughness from string to float\n",
    "df_ft['Fracture Toughness'] = df_ft['Fracture Toughness'].astype(float)"
   ]
  },
  {
   "cell_type": "code",
   "execution_count": 8,
   "metadata": {
    "scrolled": true
   },
   "outputs": [],
   "source": [
    "df_ft = df_ft.groupby( ['chemicalFormula','names', 'preparation','Chemical Family','Crystallinity'])['Fracture Toughness'].mean()\n",
    "df_ft = pd.DataFrame(df_ft).reset_index()\n",
    "#print(df2.loc[3,'chemicalFormula'])\n",
    "#df_ft.to_csv('Fracture-Toughness-1.csv')"
   ]
  },
  {
   "cell_type": "code",
   "execution_count": 9,
   "metadata": {},
   "outputs": [
    {
     "data": {
      "text/plain": [
       "(198, 8)"
      ]
     },
     "execution_count": 9,
     "metadata": {},
     "output_type": "execute_result"
    }
   ],
   "source": [
    "# create composition feature based on parsed formula\n",
    "df_ft[\"flatFormula\"] = df_ft[\"chemicalFormula\"].map(formula_parser)\n",
    "df_ft[\"composition\"] =df_ft[\"flatFormula\"].transform(str_to_composition)\n",
    "df_ft.shape"
   ]
  },
  {
   "cell_type": "markdown",
   "metadata": {},
   "source": [
    "### add features based on composition (composition with floats)"
   ]
  },
  {
   "cell_type": "code",
   "execution_count": 10,
   "metadata": {},
   "outputs": [
    {
     "data": {
      "text/plain": [
       "(198, 166)"
      ]
     },
     "execution_count": 10,
     "metadata": {},
     "output_type": "execute_result"
    }
   ],
   "source": [
    "# element property \n",
    "ep_feat = composition.ElementProperty.from_preset(preset_name=\"magpie\")\n",
    "df_ft = ep_feat.featurize_dataframe(df_ft, col_id=\"composition\", ignore_errors=True)# input the \"composition\" column to the featurizer\n",
    "# atomic orbitals\n",
    "ao_feat = composition.AtomicOrbitals()\n",
    "df_ft = ao_feat.featurize_dataframe(df_ft, col_id=\"composition\", ignore_errors=True)  \n",
    "# band center\n",
    "bc_feat  = composition.BandCenter()\n",
    "df_ft = bc_feat.featurize_dataframe(df_ft, col_id=\"composition\", ignore_errors=True) \n",
    "# miedema\n",
    "m_feat  = composition.Miedema()\n",
    "df_ft = m_feat.featurize_dataframe(df_ft, col_id=\"composition\", ignore_errors=True) \n",
    "# stoichiometry\n",
    "s_feat  = composition.Stoichiometry()\n",
    "df_ft = s_feat.featurize_dataframe(df_ft, col_id=\"composition\", ignore_errors=True) \n",
    "# t metal fraction\n",
    "tmf_feat  = composition.TMetalFraction()\n",
    "df_ft = tmf_feat.featurize_dataframe(df_ft, col_id=\"composition\", ignore_errors=True) \n",
    "# valence orbital\n",
    "vo_feat  = composition.ValenceOrbital()\n",
    "df_ft = vo_feat.featurize_dataframe(df_ft, col_id=\"composition\", ignore_errors=True) \n",
    "# yang solid solution\n",
    "yss_feat  = composition.YangSolidSolution()\n",
    "df_ft = yss_feat.featurize_dataframe(df_ft, col_id=\"composition\", ignore_errors=True) \n",
    "\n",
    "df_ft.shape"
   ]
  },
  {
   "cell_type": "code",
   "execution_count": 11,
   "metadata": {},
   "outputs": [
    {
     "data": {
      "text/plain": [
       "(198, 172)"
      ]
     },
     "execution_count": 11,
     "metadata": {},
     "output_type": "execute_result"
    }
   ],
   "source": [
    "# cohesive energy\n",
    "ce_feat  = composition.CohesiveEnergy()\n",
    "df_ft = ce_feat.featurize_dataframe(df_ft, col_id=\"composition\", ignore_errors=True) \n",
    "# atomic packing efficiency\n",
    "ape_feat  = composition.AtomicPackingEfficiency()\n",
    "df_ft= ape_feat.featurize_dataframe(df_ft, col_id=\"composition\", ignore_errors=True) \n",
    "\n",
    "df_ft.shape"
   ]
  },
  {
   "cell_type": "markdown",
   "metadata": {},
   "source": [
    "## save data"
   ]
  },
  {
   "cell_type": "code",
   "execution_count": 12,
   "metadata": {},
   "outputs": [],
   "source": [
    "# save Fracture Toughness sub-dataset as csv\n",
    "df_ft.to_csv('fracture_toughness_clean.csv')"
   ]
  },
  {
   "cell_type": "code",
   "execution_count": null,
   "metadata": {},
   "outputs": [],
   "source": []
  }
 ],
 "metadata": {
  "kernelspec": {
   "display_name": "Python 3",
   "language": "python",
   "name": "python3"
  },
  "language_info": {
   "codemirror_mode": {
    "name": "ipython",
    "version": 3
   },
   "file_extension": ".py",
   "mimetype": "text/x-python",
   "name": "python",
   "nbconvert_exporter": "python",
   "pygments_lexer": "ipython3",
   "version": "3.5.5"
  }
 },
 "nbformat": 4,
 "nbformat_minor": 2
}
