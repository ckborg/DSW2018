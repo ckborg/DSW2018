{
 "cells": [
  {
   "cell_type": "code",
   "execution_count": 1,
   "metadata": {},
   "outputs": [
    {
     "name": "stdout",
     "output_type": "stream",
     "text": [
      "Populating the interactive namespace from numpy and matplotlib\n"
     ]
    }
   ],
   "source": [
    "%pylab inline"
   ]
  },
  {
   "cell_type": "code",
   "execution_count": 2,
   "metadata": {},
   "outputs": [],
   "source": [
    "import numpy as np\n",
    "import pandas as pd\n",
    "import os\n",
    "import matplotlib.pyplot as plt\n",
    "from os import environ\n",
    "from citrination_client import CitrinationClient\n",
    "from citrination_client import *\n",
    "from pypif import pif\n",
    "from pypif.obj import *\n",
    "import csv"
   ]
  },
  {
   "cell_type": "markdown",
   "metadata": {},
   "source": [
    "# Data Extraction"
   ]
  },
  {
   "cell_type": "markdown",
   "metadata": {},
   "source": [
    "## Table 1:"
   ]
  },
  {
   "cell_type": "code",
   "execution_count": 2,
   "metadata": {},
   "outputs": [
    {
     "name": "stdout",
     "output_type": "stream",
     "text": [
      "We found 381 records\n",
      "[{'formula': 'B4C.xZrO2', 'Elastic Modulus': ['432', '435', '445', '439', '422', '406']}, {'formula': 'Si3N4', 'Elastic Modulus': ['301']}]\n"
     ]
    }
   ],
   "source": [
    "client = CitrinationClient(environ['CITRINATION_API_KEY'], 'https://citrination.com')\n",
    "dataset_id = '151803'\n",
    "value_query = FieldQuery(extract_as=\"Elastic Modulus\", extract_all=True)\n",
    "property_query = PropertyQuery(name=FieldQuery(filter=[Filter(equal=\"Elastic Modulus\")]), value=value_query)\n",
    "formula_query = ChemicalFieldQuery(extract_as=\"formula\")\n",
    "system_query = PifSystemQuery(chemical_formula=formula_query, properties=property_query)\n",
    "dataset_query = DatasetQuery(id=[Filter(equal=dataset_id)])\n",
    "data_query = DataQuery(dataset=dataset_query, system=system_query)\n",
    "pif_query = PifSystemReturningQuery(size=5000, random_results=True, query=data_query)\n",
    "search_result = client.search.pif_search(pif_query)\n",
    "\n",
    "print(\"We found {} records\".format(len(search_result.hits)))\n",
    "print([x.extracted for x in search_result.hits[0:2]])"
   ]
  },
  {
   "cell_type": "markdown",
   "metadata": {},
   "source": [
    "Gererating table for Elastic modulus vs Temperature"
   ]
  },
  {
   "cell_type": "code",
   "execution_count": 3,
   "metadata": {
    "scrolled": false
   },
   "outputs": [],
   "source": [
    "rows = []\n",
    "pif_records = [x.system for x in search_result.hits]\n",
    "for system in pif_records:\n",
    "    if \"x\" not in system.chemical_formula and \".\" not in system.chemical_formula:\n",
    "        cryst_value= 'None' # if crystallinity not known\n",
    "        for prop in system.properties:\n",
    "            if prop.name == 'Crystallinity':\n",
    "                cryst_value= prop.scalars[0].value\n",
    "        for prop in system.properties:\n",
    "            if prop.name == \"Elastic Modulus\" and prop.units == \"GPa\":\n",
    "                for cond in prop.conditions:\n",
    "                    if cond.name == \"Temperature\":\n",
    "                        if cond.units==\"$^{\\\\circ}$C\":\n",
    "                            add= 273.\n",
    "                        elif cond.units=='K':\n",
    "                            add= 0.\n",
    "                        if len(prop.scalars) == len(cond.scalars):\n",
    "                            for prop_sca, cond_sca in zip(prop.scalars, cond.scalars):\n",
    "                                row = [system.chemical_formula, prop_sca.value, (float(cond_sca.value)+add), \n",
    "                                       cryst_value, system.references[0].citation]\n",
    "                                rows.append(row)\n",
    "\n",
    "with open('elastic_modulus_temperature.csv', 'w') as csvfile:\n",
    "    writer = csv.writer(csvfile)\n",
    "    writer.writerow(['Formula', 'Elastic Modulus (GPa)', 'Temperature (K)', 'Crystallinity','Reference'])\n",
    "    writer.writerows(rows)"
   ]
  },
  {
   "cell_type": "markdown",
   "metadata": {},
   "source": [
    "Generating csv for elastic modulus vs Volume Fraction of Porosity -- not working with this dataset for now"
   ]
  },
  {
   "cell_type": "code",
   "execution_count": 4,
   "metadata": {},
   "outputs": [],
   "source": [
    "# rows = []\n",
    "# pif_records = [x.system for x in search_result.hits]\n",
    "# for system in pif_records:\n",
    "#     if \"x\" not in system.chemical_formula and \".\" not in system.chemical_formula:\n",
    "#         cryst_value= None\n",
    "#         for prop in system.properties:\n",
    "#             if prop.name == 'Crystallinity':\n",
    "#                 cryst_value= prop.scalars[0].value\n",
    "#         for prop in system.properties:\n",
    "#             if prop.name == \"Elastic Modulus\" and prop.units == \"GPa\":\n",
    "#                 for cond in prop.conditions:\n",
    "#                     if cond.name == \"Volume Fraction of Porosity\":\n",
    "#                         if len(prop.scalars) == len(cond.scalars):\n",
    "#                             for prop_sca, cond_sca in zip(prop.scalars, cond.scalars):\n",
    "#                                 if '_units' in cond.__dict__.keys():\n",
    "#                                     if cond.units == '%':\n",
    "#                                         cond_sca.value = float(cond_sca.value)/100.\n",
    "#                                 row = [system.chemical_formula, prop_sca.value, cond_sca.value, \n",
    "#                                        cryst_value, system.references[0].citation]\n",
    "#                                 rows.append(row)\n",
    "\n",
    "# with open('elastic_modulus_porosity.csv', 'w') as csvfile:\n",
    "#     writer = csv.writer(csvfile)\n",
    "#     writer.writerow(['Formula', 'Elastic Modulus (GPa)', 'Volume Fraction of Porosity', 'Crystallinity','Reference'])\n",
    "#     writer.writerows(rows)"
   ]
  },
  {
   "cell_type": "markdown",
   "metadata": {},
   "source": [
    "# Table 2:"
   ]
  },
  {
   "cell_type": "code",
   "execution_count": 5,
   "metadata": {},
   "outputs": [],
   "source": [
    "from matminer.utils.conversions import str_to_composition\n",
    "from matminer.featurizers import composition"
   ]
  },
  {
   "cell_type": "markdown",
   "metadata": {},
   "source": [
    "Elastic Modulus vs. Temperature"
   ]
  },
  {
   "cell_type": "code",
   "execution_count": 6,
   "metadata": {},
   "outputs": [],
   "source": [
    "# select featurizers\n",
    "\n",
    "# elemental property\n",
    "ep_feat = composition.ElementProperty.from_preset(preset_name=\"magpie\")\n",
    "\n",
    "# atomic packing efficiency\n",
    "ape_feat= composition.AtomicPackingEfficiency()\n",
    "\n",
    "# stoichiometry\n",
    "s_feat  = composition.Stoichiometry()\n",
    "\n",
    "# t metal fraction\n",
    "tmf_feat  = composition.TMetalFraction()\n",
    "\n",
    "# valence orbital\n",
    "vo_feat  = composition.ValenceOrbital()"
   ]
  },
  {
   "cell_type": "code",
   "execution_count": 7,
   "metadata": {},
   "outputs": [
    {
     "name": "stdout",
     "output_type": "stream",
     "text": [
      "Shape of dataset extracted: (2459, 5)\n",
      "Shape of dataset with no duplicates: (1189, 5)\n",
      "Number of unique chemical Formulae in the dataset: 31\n"
     ]
    }
   ],
   "source": [
    "dat_t= pd.read_csv('elastic_modulus_temperature.csv',header= 0)\n",
    "print('Shape of dataset extracted: %s'%str(dat_t.shape))\n",
    "dat_t= dat_t.drop_duplicates(['Formula','Temperature (K)','Crystallinity'])\n",
    "print('Shape of dataset with no duplicates: %s'%str(dat_t.shape))\n",
    "print('Number of unique chemical Formulae in the dataset: %i'%(dat_t['Formula'].nunique()))"
   ]
  },
  {
   "cell_type": "code",
   "execution_count": 8,
   "metadata": {},
   "outputs": [],
   "source": [
    "dat_t['composition']= dat_t['Formula'].transform(str_to_composition)\n",
    "dat_t= ep_feat.featurize_dataframe(dat_t,col_id='composition',ignore_errors=True)\n",
    "dat_t= ape_feat.featurize_dataframe(dat_t,col_id='composition',ignore_errors=True)\n",
    "dat_t= s_feat.featurize_dataframe(dat_t, col_id=\"composition\", ignore_errors=True) \n",
    "dat_t= tmf_feat.featurize_dataframe(dat_t, col_id=\"composition\", ignore_errors=True) \n",
    "dat_t= vo_feat.featurize_dataframe(dat_t, col_id=\"composition\", ignore_errors=True) "
   ]
  },
  {
   "cell_type": "code",
   "execution_count": 9,
   "metadata": {},
   "outputs": [
    {
     "name": "stdout",
     "output_type": "stream",
     "text": [
      "Shape of dataset with Features: (1189, 158)\n"
     ]
    }
   ],
   "source": [
    "dat_t.to_pickle('elastic_modulus_temperature_with_features.pkl')\n",
    "print('Shape of dataset with Features: %s'%str(dat_t.shape))"
   ]
  },
  {
   "cell_type": "markdown",
   "metadata": {},
   "source": [
    "Elastic Modulus vs. Porosity"
   ]
  },
  {
   "cell_type": "code",
   "execution_count": 10,
   "metadata": {},
   "outputs": [],
   "source": [
    "# dat_p= pd.read_csv('elastic_modulus_porosity.csv',header= 0)\n",
    "# print('Shape of dataset extracted: %s'%str(dat_p.shape))\n",
    "# dat_p= dat_p.drop_duplicates(['Formula', 'Volume Fraction of Porosity','Crystallinity'])\n",
    "# print('Shape of dataset with no duplicates: %s'%str(dat_p.shape))\n",
    "# print('Number of unique chemical Formulae in the dataset: %i'%(dat_p['Formula'].nunique()))"
   ]
  },
  {
   "cell_type": "code",
   "execution_count": 11,
   "metadata": {
    "scrolled": true
   },
   "outputs": [],
   "source": [
    "# dat_p['composition']= dat_p['Formula'].transform(str_to_composition)\n",
    "# dat_p= ep_feat.featurize_dataframe(dat_p,col_id='composition',ignore_errors=True)\n",
    "# dat_p= ape_feat.featurize_dataframe(dat_p,col_id='composition',ignore_errors=True)"
   ]
  },
  {
   "cell_type": "code",
   "execution_count": 12,
   "metadata": {},
   "outputs": [],
   "source": [
    "# dat_p.to_pickle('elastic_modulus_porosity_with_features.pkl')\n",
    "# print('Shape of dataset with Features: %s'%str(dat_p.shape))"
   ]
  },
  {
   "cell_type": "markdown",
   "metadata": {},
   "source": [
    "# Learning from the Data Set"
   ]
  },
  {
   "cell_type": "code",
   "execution_count": 53,
   "metadata": {
    "scrolled": false
   },
   "outputs": [
    {
     "name": "stdout",
     "output_type": "stream",
     "text": [
      "Number of rows to be eliminated becuase of NaN entries: 24\n",
      "Chemical Formulae of entries being dropped: ['HfB2' 'ZrB2']\n"
     ]
    }
   ],
   "source": [
    "dat_t= pd.read_pickle('elastic_modulus_temperature_with_features.pkl')\n",
    "\n",
    "# drop Nan values\n",
    "na_values= dat_t[dat_t.isnull().any(1)]\n",
    "print('Number of rows to be eliminated becuase of NaN entries: %i'%na_values.shape[0])\n",
    "print('Chemical Formulae of entries being dropped: %s'%str(np.unique(na_values['Formula'])))\n",
    "dat_t= dat_t.dropna()\n",
    "dat_t_copy= dat_t.copy()\n",
    "\n",
    "# exclude non numeric data rows \n",
    "excluded= ['Formula','Crystallinity','composition','Reference']\n",
    "dat_t= dat_t.drop(excluded,axis= 1)\n",
    "dat_t= dat_t.astype('float')"
   ]
  },
  {
   "cell_type": "markdown",
   "metadata": {},
   "source": [
    "Lets try to characterize the data set a little bit"
   ]
  },
  {
   "cell_type": "code",
   "execution_count": 54,
   "metadata": {},
   "outputs": [],
   "source": [
    "# generate colors for each chemical formula\n",
    "formulae= dat_t_copy.Formula.unique()\n",
    "cfunc= plt.cm.get_cmap('hsv',len(formulae))\n",
    "colors= [cfunc(i) for i in range(len(formulae))]\n",
    "colors= dict(zip(formulae,colors))\n",
    "symb= ['o','v','^','*','s']"
   ]
  },
  {
   "cell_type": "code",
   "execution_count": 58,
   "metadata": {},
   "outputs": [
    {
     "data": {
      "image/png": "[encoded data removed]",
      "text/plain": [
       "<Figure size 720x720 with 1 Axes>"
      ]
     },
     "metadata": {},
     "output_type": "display_data"
    }
   ],
   "source": [
    "# separate single crystal data and others\n",
    "plt.figure(figsize= (10,10))\n",
    "for i,item in enumerate(formulae):\n",
    "    item_df= dat_t_copy[dat_t_copy.Formula==item]\n",
    "    plt.plot(item_df['Temperature (K)'].values,np.array(item_df['Elastic Modulus (GPa)'],dtype= 'float'), \n",
    "             symb[i % len(symb)],color= colors[item],label= item, markersize= 8)\n",
    "plt.title('Scatter Plot of Property (Elastic Modulus) and Prop Condition (Temperature)')\n",
    "plt.legend(loc='center left', bbox_to_anchor=(1, 0.5))\n",
    "plt.show()\n",
    "plt.close()"
   ]
  },
  {
   "cell_type": "markdown",
   "metadata": {},
   "source": [
    "The two important columns do not really show a linear characteristic. Perhaps the discrepancy corresponds to different ceramics"
   ]
  },
  {
   "cell_type": "code",
   "execution_count": null,
   "metadata": {},
   "outputs": [],
   "source": []
  },
  {
   "cell_type": "code",
   "execution_count": null,
   "metadata": {},
   "outputs": [],
   "source": []
  },
  {
   "cell_type": "code",
   "execution_count": null,
   "metadata": {},
   "outputs": [],
   "source": []
  },
  {
   "cell_type": "code",
   "execution_count": null,
   "metadata": {},
   "outputs": [],
   "source": []
  },
  {
   "cell_type": "code",
   "execution_count": null,
   "metadata": {},
   "outputs": [],
   "source": []
  },
  {
   "cell_type": "code",
   "execution_count": null,
   "metadata": {},
   "outputs": [],
   "source": []
  },
  {
   "cell_type": "markdown",
   "metadata": {},
   "source": [
    "Prepare data to feed into learning model"
   ]
  },
  {
   "cell_type": "code",
   "execution_count": 33,
   "metadata": {},
   "outputs": [
    {
     "name": "stdout",
     "output_type": "stream",
     "text": [
      "Number of descriptors: 153\n",
      "Number of data points: 1165\n"
     ]
    }
   ],
   "source": [
    "y= dat_t['Elastic Modulus (GPa)']\n",
    "X= dat_t.drop(excluded,axis=1)\n",
    "print('Number of descriptors: %i'%len(X.columns))\n",
    "print('Number of data points: %i'%X.shape[0])\n",
    "\n",
    "# split data set\n",
    "X_learn= X[:800]\n",
    "y_learn= y[:800]\n",
    "\n",
    "X_test= X[800:]\n",
    "y_test= y[800:]"
   ]
  },
  {
   "cell_type": "markdown",
   "metadata": {},
   "source": [
    "## Linear Regressor "
   ]
  },
  {
   "cell_type": "code",
   "execution_count": 49,
   "metadata": {},
   "outputs": [],
   "source": [
    "from sklearn.linear_model import LinearRegression\n",
    "from sklearn.metrics import mean_squared_error\n",
    "from sklearn.model_selection import KFold, cross_val_score"
   ]
  },
  {
   "cell_type": "code",
   "execution_count": 50,
   "metadata": {},
   "outputs": [
    {
     "name": "stdout",
     "output_type": "stream",
     "text": [
      "training R2 = 0.904\n",
      "training RMSE = 43690924433.774\n"
     ]
    }
   ],
   "source": [
    "lr= LinearRegression()\n",
    "\n",
    "# Try fitting\n",
    "lr.fit(X_learn,y_learn)\n",
    "\n",
    "# get fit statistics\n",
    "print('training R2 = ' + str(round(lr.score(X_learn, y_learn), 3)))\n",
    "print('training RMSE = %.3f' % np.sqrt(mean_squared_error(y_true=y_test, y_pred=lr.predict(X_test))))"
   ]
  },
  {
   "cell_type": "code",
   "execution_count": 51,
   "metadata": {},
   "outputs": [
    {
     "name": "stdout",
     "output_type": "stream",
     "text": [
      "Cross-validation results:\n",
      "Folds: 10, mean R2: 11867790896665034752.000\n",
      "Folds: 10, mean RMSE: 53718995097.766\n"
     ]
    }
   ],
   "source": [
    "# Use 10-fold cross validation (90% training, 10% test)\n",
    "crossvalidation = KFold(n_splits=10, shuffle=False, random_state=1)\n",
    "scores = cross_val_score(lr, X, y, scoring='neg_mean_squared_error', cv=crossvalidation, n_jobs=1)\n",
    "rmse_scores = [np.sqrt(abs(s)) for s in scores]\n",
    "r2_scores = cross_val_score(lr, X, y, scoring='r2', cv=crossvalidation, n_jobs=1)\n",
    "\n",
    "print('Cross-validation results:')\n",
    "print('Folds: %i, mean R2: %.3f' % (len(scores), np.mean(np.abs(r2_scores))))\n",
    "print('Folds: %i, mean RMSE: %.3f' % (len(scores), np.mean(np.abs(rmse_scores))))"
   ]
  },
  {
   "cell_type": "code",
   "execution_count": 57,
   "metadata": {},
   "outputs": [
    {
     "name": "stdout",
     "output_type": "stream",
     "text": [
      "training R2 = 0.898\n",
      "training RMSE = 38.301\n",
      "test R2 = -6453809469116226.0\n",
      "test RMSE = 9278134075.314\n"
     ]
    }
   ],
   "source": [
    "from sklearn.model_selection import train_test_split\n",
    "X['formula'] = dat_t['Formula']\n",
    "X_train, X_test, y_train, y_test = train_test_split(X, y, test_size=0.2, random_state=1)\n",
    "train_formula = X_train['formula']\n",
    "X_train = X_train.drop('formula', axis=1)\n",
    "test_formula = X_test['formula']\n",
    "X_test = X_test.drop('formula', axis=1)\n",
    "\n",
    "lr = LinearRegression()\n",
    "lr.fit(X_train, y_train)\n",
    "\n",
    "# get fit statistics\n",
    "print('training R2 = ' + str(round(lr.score(X_train, y_train), 3)))\n",
    "print('training RMSE = %.3f' % np.sqrt(mean_squared_error(y_true=y_train, y_pred=lr.predict(X_train))))\n",
    "print('test R2 = ' + str(round(lr.score(X_test, y_test), 3)))\n",
    "print('test RMSE = %.3f' % np.sqrt(mean_squared_error(y_true=y_test, y_pred=lr.predict(X_test))))"
   ]
  },
  {
   "cell_type": "code",
   "execution_count": null,
   "metadata": {},
   "outputs": [],
   "source": []
  },
  {
   "cell_type": "markdown",
   "metadata": {},
   "source": [
    "## Random Forest"
   ]
  },
  {
   "cell_type": "code",
   "execution_count": 53,
   "metadata": {},
   "outputs": [
    {
     "name": "stdout",
     "output_type": "stream",
     "text": [
      "training R2 = 0.981\n",
      "training RMSE = 111.634\n"
     ]
    }
   ],
   "source": [
    "from sklearn.ensemble import RandomForestRegressor\n",
    "\n",
    "rf = RandomForestRegressor(n_estimators=50, random_state=1)\n",
    "\n",
    "rf.fit(X_learn, y_learn)\n",
    "\n",
    "print('training R2 = ' + str(round(rf.score(X_learn, y_learn), 3)))\n",
    "print('training RMSE = %.3f' % np.sqrt(mean_squared_error(y_true=y_test, y_pred=rf.predict(X_test))))"
   ]
  },
  {
   "cell_type": "code",
   "execution_count": 54,
   "metadata": {},
   "outputs": [
    {
     "name": "stdout",
     "output_type": "stream",
     "text": [
      "Cross-validation results:\n",
      "Folds: 10, mean R2: 0.708\n",
      "Folds: 10, mean RMSE: 56.129\n"
     ]
    }
   ],
   "source": [
    "# compute cross validation scores for random forest model\n",
    "r2_scores = cross_val_score(rf, X, y, scoring='r2', cv=crossvalidation, n_jobs=-1)\n",
    "scores = cross_val_score(rf, X, y, scoring='neg_mean_squared_error', cv=crossvalidation, n_jobs=-1)\n",
    "rmse_scores = [np.sqrt(abs(s)) for s in scores]\n",
    "\n",
    "print('Cross-validation results:')\n",
    "print('Folds: %i, mean R2: %.3f' % (len(scores), np.mean(np.abs(r2_scores))))\n",
    "print('Folds: %i, mean RMSE: %.3f' % (len(scores), np.mean(np.abs(rmse_scores))))"
   ]
  },
  {
   "cell_type": "code",
   "execution_count": 55,
   "metadata": {},
   "outputs": [
    {
     "name": "stdout",
     "output_type": "stream",
     "text": [
      "training R2 = 0.98\n",
      "training RMSE = 16.834\n",
      "test R2 = 0.907\n",
      "test RMSE = 35.200\n"
     ]
    }
   ],
   "source": [
    "from sklearn.model_selection import train_test_split\n",
    "X['formula'] = dat_t['Formula']\n",
    "X_train, X_test, y_train, y_test = train_test_split(X, y, test_size=0.2, random_state=1)\n",
    "train_formula = X_train['formula']\n",
    "X_train = X_train.drop('formula', axis=1)\n",
    "test_formula = X_test['formula']\n",
    "X_test = X_test.drop('formula', axis=1)\n",
    "\n",
    "rf_reg = RandomForestRegressor(n_estimators=50, random_state=1)\n",
    "rf_reg.fit(X_train, y_train)\n",
    "\n",
    "# get fit statistics\n",
    "print('training R2 = ' + str(round(rf_reg.score(X_train, y_train), 3)))\n",
    "print('training RMSE = %.3f' % np.sqrt(mean_squared_error(y_true=y_train, y_pred=rf_reg.predict(X_train))))\n",
    "print('test R2 = ' + str(round(rf_reg.score(X_test, y_test), 3)))\n",
    "print('test RMSE = %.3f' % np.sqrt(mean_squared_error(y_true=y_test, y_pred=rf_reg.predict(X_test))))"
   ]
  },
  {
   "cell_type": "code",
   "execution_count": null,
   "metadata": {},
   "outputs": [],
   "source": []
  }
 ],
 "metadata": {
  "kernelspec": {
   "display_name": "Python 3",
   "language": "python",
   "name": "python3"
  },
  "language_info": {
   "codemirror_mode": {
    "name": "ipython",
    "version": 3
   },
   "file_extension": ".py",
   "mimetype": "text/x-python",
   "name": "python",
   "nbconvert_exporter": "python",
   "pygments_lexer": "ipython3",
   "version": "3.6.6"
  }
 },
 "nbformat": 4,
 "nbformat_minor": 2
}
