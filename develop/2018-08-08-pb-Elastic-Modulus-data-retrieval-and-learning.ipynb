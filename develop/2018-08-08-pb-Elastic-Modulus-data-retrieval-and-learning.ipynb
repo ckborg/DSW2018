{
 "cells": [
  {
   "cell_type": "code",
   "execution_count": 1,
   "metadata": {},
   "outputs": [
    {
     "name": "stdout",
     "output_type": "stream",
     "text": [
      "Populating the interactive namespace from numpy and matplotlib\n"
     ]
    }
   ],
   "source": [
    "%pylab inline"
   ]
  },
  {
   "cell_type": "code",
   "execution_count": 2,
   "metadata": {},
   "outputs": [],
   "source": [
    "import numpy as np\n",
    "import pandas as pd\n",
    "import os\n",
    "import matplotlib.pyplot as plt\n",
    "from os import environ\n",
    "from citrination_client import CitrinationClient\n",
    "from citrination_client import *\n",
    "from pypif import pif\n",
    "from pypif.obj import *\n",
    "import csv"
   ]
  },
  {
   "cell_type": "markdown",
   "metadata": {},
   "source": [
    "# Data Extraction"
   ]
  },
  {
   "cell_type": "markdown",
   "metadata": {},
   "source": [
    "## Table 1:"
   ]
  },
  {
   "cell_type": "code",
   "execution_count": 2,
   "metadata": {},
   "outputs": [
    {
     "name": "stdout",
     "output_type": "stream",
     "text": [
      "We found 381 records\n",
      "[{'formula': 'B4C.xZrO2', 'Elastic Modulus': ['432', '435', '445', '439', '422', '406']}, {'formula': 'Si3N4', 'Elastic Modulus': ['301']}]\n"
     ]
    }
   ],
   "source": [
    "client = CitrinationClient(environ['CITRINATION_API_KEY'], 'https://citrination.com')\n",
    "dataset_id = '151803'\n",
    "value_query = FieldQuery(extract_as=\"Elastic Modulus\", extract_all=True)\n",
    "property_query = PropertyQuery(name=FieldQuery(filter=[Filter(equal=\"Elastic Modulus\")]), value=value_query)\n",
    "formula_query = ChemicalFieldQuery(extract_as=\"formula\")\n",
    "system_query = PifSystemQuery(chemical_formula=formula_query, properties=property_query)\n",
    "dataset_query = DatasetQuery(id=[Filter(equal=dataset_id)])\n",
    "data_query = DataQuery(dataset=dataset_query, system=system_query)\n",
    "pif_query = PifSystemReturningQuery(size=10000, random_results=False, query=data_query)\n",
    "search_result = client.search.pif_search(pif_query)\n",
    "\n",
    "print(\"We found {} records\".format(len(search_result.hits)))\n",
    "print([x.extracted for x in search_result.hits[0:2]])"
   ]
  },
  {
   "cell_type": "markdown",
   "metadata": {},
   "source": [
    "Gererating table for Elastic modulus vs Temperature"
   ]
  },
  {
   "cell_type": "code",
   "execution_count": 3,
   "metadata": {
    "scrolled": false
   },
   "outputs": [],
   "source": [
    "rows = []\n",
    "pif_records = [x.system for x in search_result.hits]\n",
    "for system in pif_records:\n",
    "    if \"x\" not in system.chemical_formula and \".\" not in system.chemical_formula:\n",
    "        cryst_value= 'None' # if crystallinity not known\n",
    "        for prop in system.properties:\n",
    "            if prop.name == 'Crystallinity':\n",
    "                cryst_value= prop.scalars[0].value\n",
    "        for prop in system.properties:\n",
    "            if prop.name == \"Elastic Modulus\" and prop.units == \"GPa\":\n",
    "                for cond in prop.conditions:\n",
    "                    if cond.name == \"Temperature\":\n",
    "                        if cond.units==\"$^{\\\\circ}$C\":\n",
    "                            add= 273.\n",
    "                        elif cond.units=='K':\n",
    "                            add= 0.\n",
    "                        if len(prop.scalars) == len(cond.scalars):\n",
    "                            for prop_sca, cond_sca in zip(prop.scalars, cond.scalars):\n",
    "                                row = [system.chemical_formula, prop_sca.value, (float(cond_sca.value)+add), \n",
    "                                       cryst_value, system.references[0].citation]\n",
    "                                rows.append(row)\n",
    "\n",
    "with open('elastic_modulus_temperature.csv', 'w') as csvfile:\n",
    "    writer = csv.writer(csvfile)\n",
    "    writer.writerow(['Formula', 'Elastic Modulus (GPa)', 'Temperature (K)', 'Crystallinity','Reference'])\n",
    "    writer.writerows(rows)"
   ]
  },
  {
   "cell_type": "markdown",
   "metadata": {},
   "source": [
    "Generating csv for elastic modulus vs Volume Fraction of Porosity -- not working with this dataset for now"
   ]
  },
  {
   "cell_type": "code",
   "execution_count": 4,
   "metadata": {},
   "outputs": [],
   "source": [
    "# rows = []\n",
    "# pif_records = [x.system for x in search_result.hits]\n",
    "# for system in pif_records:\n",
    "#     if \"x\" not in system.chemical_formula and \".\" not in system.chemical_formula:\n",
    "#         cryst_value= None\n",
    "#         for prop in system.properties:\n",
    "#             if prop.name == 'Crystallinity':\n",
    "#                 cryst_value= prop.scalars[0].value\n",
    "#         for prop in system.properties:\n",
    "#             if prop.name == \"Elastic Modulus\" and prop.units == \"GPa\":\n",
    "#                 for cond in prop.conditions:\n",
    "#                     if cond.name == \"Volume Fraction of Porosity\":\n",
    "#                         if len(prop.scalars) == len(cond.scalars):\n",
    "#                             for prop_sca, cond_sca in zip(prop.scalars, cond.scalars):\n",
    "#                                 if '_units' in cond.__dict__.keys():\n",
    "#                                     if cond.units == '%':\n",
    "#                                         cond_sca.value = float(cond_sca.value)/100.\n",
    "#                                 row = [system.chemical_formula, prop_sca.value, cond_sca.value, \n",
    "#                                        cryst_value, system.references[0].citation]\n",
    "#                                 rows.append(row)\n",
    "\n",
    "# with open('elastic_modulus_porosity.csv', 'w') as csvfile:\n",
    "#     writer = csv.writer(csvfile)\n",
    "#     writer.writerow(['Formula', 'Elastic Modulus (GPa)', 'Volume Fraction of Porosity', 'Crystallinity','Reference'])\n",
    "#     writer.writerows(rows)"
   ]
  },
  {
   "cell_type": "markdown",
   "metadata": {},
   "source": [
    "# Table 2:"
   ]
  },
  {
   "cell_type": "code",
   "execution_count": 5,
   "metadata": {},
   "outputs": [],
   "source": [
    "from matminer.utils.conversions import str_to_composition\n",
    "from matminer.featurizers import composition"
   ]
  },
  {
   "cell_type": "markdown",
   "metadata": {},
   "source": [
    "Elastic Modulus vs. Temperature"
   ]
  },
  {
   "cell_type": "code",
   "execution_count": 6,
   "metadata": {},
   "outputs": [],
   "source": [
    "# select featurizers\n",
    "\n",
    "# elemental property\n",
    "ep_feat = composition.ElementProperty.from_preset(preset_name=\"magpie\")\n",
    "\n",
    "# atomic packing efficiency\n",
    "ape_feat= composition.AtomicPackingEfficiency()\n",
    "\n",
    "# stoichiometry\n",
    "s_feat  = composition.Stoichiometry()\n",
    "\n",
    "# t metal fraction\n",
    "tmf_feat  = composition.TMetalFraction()\n",
    "\n",
    "# valence orbital\n",
    "vo_feat  = composition.ValenceOrbital()"
   ]
  },
  {
   "cell_type": "code",
   "execution_count": 7,
   "metadata": {},
   "outputs": [
    {
     "name": "stdout",
     "output_type": "stream",
     "text": [
      "Shape of dataset extracted: (2459, 5)\n",
      "Shape of dataset with no duplicates: (1189, 5)\n",
      "Number of unique chemical Formulae in the dataset: 31\n"
     ]
    }
   ],
   "source": [
    "dat_t= pd.read_csv('elastic_modulus_temperature.csv',header= 0)\n",
    "print('Shape of dataset extracted: %s'%str(dat_t.shape))\n",
    "dat_t= dat_t.drop_duplicates(['Formula','Temperature (K)','Crystallinity'])\n",
    "print('Shape of dataset with no duplicates: %s'%str(dat_t.shape))\n",
    "print('Number of unique chemical Formulae in the dataset: %i'%(dat_t['Formula'].nunique()))"
   ]
  },
  {
   "cell_type": "code",
   "execution_count": 8,
   "metadata": {},
   "outputs": [],
   "source": [
    "dat_t['composition']= dat_t['Formula'].transform(str_to_composition)\n",
    "dat_t= ep_feat.featurize_dataframe(dat_t,col_id='composition',ignore_errors=True)\n",
    "dat_t= ape_feat.featurize_dataframe(dat_t,col_id='composition',ignore_errors=True)\n",
    "dat_t= s_feat.featurize_dataframe(dat_t, col_id=\"composition\", ignore_errors=True) \n",
    "dat_t= tmf_feat.featurize_dataframe(dat_t, col_id=\"composition\", ignore_errors=True) \n",
    "dat_t= vo_feat.featurize_dataframe(dat_t, col_id=\"composition\", ignore_errors=True) "
   ]
  },
  {
   "cell_type": "code",
   "execution_count": 9,
   "metadata": {},
   "outputs": [
    {
     "name": "stdout",
     "output_type": "stream",
     "text": [
      "Shape of dataset with Features: (1189, 158)\n"
     ]
    }
   ],
   "source": [
    "dat_t.to_pickle('elastic_modulus_temperature_with_features.pkl')\n",
    "print('Shape of dataset with Features: %s'%str(dat_t.shape))"
   ]
  },
  {
   "cell_type": "markdown",
   "metadata": {},
   "source": [
    "Elastic Modulus vs. Porosity"
   ]
  },
  {
   "cell_type": "code",
   "execution_count": 10,
   "metadata": {},
   "outputs": [],
   "source": [
    "# dat_p= pd.read_csv('elastic_modulus_porosity.csv',header= 0)\n",
    "# print('Shape of dataset extracted: %s'%str(dat_p.shape))\n",
    "# dat_p= dat_p.drop_duplicates(['Formula', 'Volume Fraction of Porosity','Crystallinity'])\n",
    "# print('Shape of dataset with no duplicates: %s'%str(dat_p.shape))\n",
    "# print('Number of unique chemical Formulae in the dataset: %i'%(dat_p['Formula'].nunique()))"
   ]
  },
  {
   "cell_type": "code",
   "execution_count": 11,
   "metadata": {
    "scrolled": true
   },
   "outputs": [],
   "source": [
    "# dat_p['composition']= dat_p['Formula'].transform(str_to_composition)\n",
    "# dat_p= ep_feat.featurize_dataframe(dat_p,col_id='composition',ignore_errors=True)\n",
    "# dat_p= ape_feat.featurize_dataframe(dat_p,col_id='composition',ignore_errors=True)"
   ]
  },
  {
   "cell_type": "code",
   "execution_count": 12,
   "metadata": {},
   "outputs": [],
   "source": [
    "# dat_p.to_pickle('elastic_modulus_porosity_with_features.pkl')\n",
    "# print('Shape of dataset with Features: %s'%str(dat_p.shape))"
   ]
  },
  {
   "cell_type": "markdown",
   "metadata": {},
   "source": [
    "# Learning from the Data Set"
   ]
  },
  {
   "cell_type": "code",
   "execution_count": 3,
   "metadata": {
    "scrolled": false
   },
   "outputs": [
    {
     "name": "stdout",
     "output_type": "stream",
     "text": [
      "Number of rows to be eliminated becuase of NaN entries: 24\n",
      "Chemical Formulae of entries being dropped: ['HfB2' 'ZrB2']\n"
     ]
    }
   ],
   "source": [
    "dat_t= pd.read_pickle('elastic_modulus_temperature_with_features.pkl')\n",
    "\n",
    "# drop Nan values\n",
    "na_values= dat_t[dat_t.isnull().any(1)]\n",
    "print('Number of rows to be eliminated becuase of NaN entries: %i'%na_values.shape[0])\n",
    "print('Chemical Formulae of entries being dropped: %s'%str(np.unique(na_values['Formula'])))\n",
    "dat_t= dat_t.dropna()\n",
    "dat_t_copy= dat_t.copy()"
   ]
  },
  {
   "cell_type": "markdown",
   "metadata": {},
   "source": [
    "Lets try to characterize the data set a little bit"
   ]
  },
  {
   "cell_type": "code",
   "execution_count": 4,
   "metadata": {},
   "outputs": [
    {
     "data": {
      "image/png": "[encoded data removed]",
      "text/plain": [
       "<Figure size 720x720 with 1 Axes>"
      ]
     },
     "metadata": {},
     "output_type": "display_data"
    }
   ],
   "source": [
    "formulae= dat_t_copy.Formula.unique()\n",
    "cfunc= plt.cm.get_cmap('hsv',len(formulae))\n",
    "colors= [cfunc(i) for i in range(len(formulae))]\n",
    "colors= dict(zip(formulae,colors))\n",
    "symb= ['o','v','^','*','s']\n",
    "\n",
    "#TODO: separate single crystal data and others\n",
    "plt.figure(figsize= (10,10))\n",
    "for i,item in enumerate(formulae):\n",
    "    item_df= dat_t_copy[dat_t_copy.Formula==item]\n",
    "    plt.plot(item_df['Temperature (K)'].values,np.array(item_df['Elastic Modulus (GPa)'],dtype= 'float'), \n",
    "             symb[i % len(symb)],color= colors[item],label= item, markersize= 5)\n",
    "plt.title('Scatter Plot of Property (Elastic Modulus) and Prop Condition (Temperature)')\n",
    "plt.legend(loc='center left', bbox_to_anchor=(1, 0.5))\n",
    "plt.show()\n",
    "plt.close()"
   ]
  },
  {
   "cell_type": "markdown",
   "metadata": {},
   "source": [
    "Lets look at variation in the data set"
   ]
  },
  {
   "cell_type": "code",
   "execution_count": 5,
   "metadata": {
    "scrolled": true
   },
   "outputs": [
    {
     "data": {
      "text/html": [
       "<div>\n",
       "<style scoped>\n",
       "    .dataframe tbody tr th:only-of-type {\n",
       "        vertical-align: middle;\n",
       "    }\n",
       "\n",
       "    .dataframe tbody tr th {\n",
       "        vertical-align: top;\n",
       "    }\n",
       "\n",
       "    .dataframe thead th {\n",
       "        text-align: right;\n",
       "    }\n",
       "</style>\n",
       "<table border=\"1\" class=\"dataframe\">\n",
       "  <thead>\n",
       "    <tr style=\"text-align: right;\">\n",
       "      <th></th>\n",
       "      <th>Temperature (K)</th>\n",
       "      <th>minimum Number</th>\n",
       "      <th>maximum Number</th>\n",
       "      <th>range Number</th>\n",
       "      <th>mean Number</th>\n",
       "      <th>avg_dev Number</th>\n",
       "      <th>mode Number</th>\n",
       "      <th>minimum MendeleevNumber</th>\n",
       "      <th>maximum MendeleevNumber</th>\n",
       "      <th>range MendeleevNumber</th>\n",
       "      <th>...</th>\n",
       "      <th>10-norm</th>\n",
       "      <th>transition metal fraction</th>\n",
       "      <th>avg s valence electrons</th>\n",
       "      <th>avg p valence electrons</th>\n",
       "      <th>avg d valence electrons</th>\n",
       "      <th>avg f valence electrons</th>\n",
       "      <th>frac s valence electrons</th>\n",
       "      <th>frac p valence electrons</th>\n",
       "      <th>frac d valence electrons</th>\n",
       "      <th>frac f valence electrons</th>\n",
       "    </tr>\n",
       "  </thead>\n",
       "  <tbody>\n",
       "    <tr>\n",
       "      <th>count</th>\n",
       "      <td>1165.000000</td>\n",
       "      <td>1165.000000</td>\n",
       "      <td>1165.000000</td>\n",
       "      <td>1165.000000</td>\n",
       "      <td>1165.000000</td>\n",
       "      <td>1165.000000</td>\n",
       "      <td>1165.000000</td>\n",
       "      <td>1165.000000</td>\n",
       "      <td>1165.000000</td>\n",
       "      <td>1165.000000</td>\n",
       "      <td>...</td>\n",
       "      <td>1165.000000</td>\n",
       "      <td>1165.000000</td>\n",
       "      <td>1165.0</td>\n",
       "      <td>1165.000000</td>\n",
       "      <td>1165.000000</td>\n",
       "      <td>1165.000000</td>\n",
       "      <td>1165.000000</td>\n",
       "      <td>1165.000000</td>\n",
       "      <td>1165.000000</td>\n",
       "      <td>1165.000000</td>\n",
       "    </tr>\n",
       "    <tr>\n",
       "      <th>mean</th>\n",
       "      <td>820.966524</td>\n",
       "      <td>7.703004</td>\n",
       "      <td>38.315021</td>\n",
       "      <td>30.612017</td>\n",
       "      <td>18.986953</td>\n",
       "      <td>13.643654</td>\n",
       "      <td>7.703004</td>\n",
       "      <td>43.524464</td>\n",
       "      <td>85.872103</td>\n",
       "      <td>42.347639</td>\n",
       "      <td>...</td>\n",
       "      <td>0.609940</td>\n",
       "      <td>0.037396</td>\n",
       "      <td>2.0</td>\n",
       "      <td>2.478390</td>\n",
       "      <td>0.184492</td>\n",
       "      <td>1.174077</td>\n",
       "      <td>0.374575</td>\n",
       "      <td>0.454005</td>\n",
       "      <td>0.038451</td>\n",
       "      <td>0.132970</td>\n",
       "    </tr>\n",
       "    <tr>\n",
       "      <th>std</th>\n",
       "      <td>447.075873</td>\n",
       "      <td>0.858172</td>\n",
       "      <td>23.909038</td>\n",
       "      <td>23.642175</td>\n",
       "      <td>9.258065</td>\n",
       "      <td>10.887440</td>\n",
       "      <td>0.858172</td>\n",
       "      <td>26.468235</td>\n",
       "      <td>3.482152</td>\n",
       "      <td>27.292142</td>\n",
       "      <td>...</td>\n",
       "      <td>0.040528</td>\n",
       "      <td>0.090924</td>\n",
       "      <td>0.0</td>\n",
       "      <td>0.540718</td>\n",
       "      <td>0.237815</td>\n",
       "      <td>1.962898</td>\n",
       "      <td>0.102361</td>\n",
       "      <td>0.137240</td>\n",
       "      <td>0.054067</td>\n",
       "      <td>0.217049</td>\n",
       "    </tr>\n",
       "    <tr>\n",
       "      <th>min</th>\n",
       "      <td>0.000000</td>\n",
       "      <td>4.000000</td>\n",
       "      <td>6.000000</td>\n",
       "      <td>1.000000</td>\n",
       "      <td>5.200000</td>\n",
       "      <td>0.320000</td>\n",
       "      <td>4.000000</td>\n",
       "      <td>9.000000</td>\n",
       "      <td>72.000000</td>\n",
       "      <td>1.000000</td>\n",
       "      <td>...</td>\n",
       "      <td>0.428730</td>\n",
       "      <td>0.000000</td>\n",
       "      <td>2.0</td>\n",
       "      <td>0.666667</td>\n",
       "      <td>0.000000</td>\n",
       "      <td>0.000000</td>\n",
       "      <td>0.200000</td>\n",
       "      <td>0.181818</td>\n",
       "      <td>0.000000</td>\n",
       "      <td>0.000000</td>\n",
       "    </tr>\n",
       "    <tr>\n",
       "      <th>25%</th>\n",
       "      <td>419.000000</td>\n",
       "      <td>8.000000</td>\n",
       "      <td>14.000000</td>\n",
       "      <td>6.000000</td>\n",
       "      <td>10.000000</td>\n",
       "      <td>2.666667</td>\n",
       "      <td>8.000000</td>\n",
       "      <td>12.000000</td>\n",
       "      <td>87.000000</td>\n",
       "      <td>14.000000</td>\n",
       "      <td>...</td>\n",
       "      <td>0.600002</td>\n",
       "      <td>0.000000</td>\n",
       "      <td>2.0</td>\n",
       "      <td>2.400000</td>\n",
       "      <td>0.000000</td>\n",
       "      <td>0.000000</td>\n",
       "      <td>0.263158</td>\n",
       "      <td>0.315789</td>\n",
       "      <td>0.000000</td>\n",
       "      <td>0.000000</td>\n",
       "    </tr>\n",
       "    <tr>\n",
       "      <th>50%</th>\n",
       "      <td>785.000000</td>\n",
       "      <td>8.000000</td>\n",
       "      <td>39.000000</td>\n",
       "      <td>31.000000</td>\n",
       "      <td>20.400000</td>\n",
       "      <td>14.880000</td>\n",
       "      <td>8.000000</td>\n",
       "      <td>37.000000</td>\n",
       "      <td>87.000000</td>\n",
       "      <td>50.000000</td>\n",
       "      <td>...</td>\n",
       "      <td>0.601032</td>\n",
       "      <td>0.000000</td>\n",
       "      <td>2.0</td>\n",
       "      <td>2.400000</td>\n",
       "      <td>0.000000</td>\n",
       "      <td>0.000000</td>\n",
       "      <td>0.416667</td>\n",
       "      <td>0.500000</td>\n",
       "      <td>0.000000</td>\n",
       "      <td>0.000000</td>\n",
       "    </tr>\n",
       "    <tr>\n",
       "      <th>75%</th>\n",
       "      <td>1140.000000</td>\n",
       "      <td>8.000000</td>\n",
       "      <td>64.000000</td>\n",
       "      <td>56.000000</td>\n",
       "      <td>30.400000</td>\n",
       "      <td>26.880000</td>\n",
       "      <td>8.000000</td>\n",
       "      <td>73.000000</td>\n",
       "      <td>87.000000</td>\n",
       "      <td>75.000000</td>\n",
       "      <td>...</td>\n",
       "      <td>0.601032</td>\n",
       "      <td>0.000000</td>\n",
       "      <td>2.0</td>\n",
       "      <td>2.666667</td>\n",
       "      <td>0.400000</td>\n",
       "      <td>2.800000</td>\n",
       "      <td>0.416667</td>\n",
       "      <td>0.562500</td>\n",
       "      <td>0.083333</td>\n",
       "      <td>0.368421</td>\n",
       "    </tr>\n",
       "    <tr>\n",
       "      <th>max</th>\n",
       "      <td>3100.000000</td>\n",
       "      <td>8.000000</td>\n",
       "      <td>92.000000</td>\n",
       "      <td>84.000000</td>\n",
       "      <td>36.000000</td>\n",
       "      <td>37.333333</td>\n",
       "      <td>8.000000</td>\n",
       "      <td>78.000000</td>\n",
       "      <td>87.000000</td>\n",
       "      <td>78.000000</td>\n",
       "      <td>...</td>\n",
       "      <td>0.800000</td>\n",
       "      <td>0.500000</td>\n",
       "      <td>2.0</td>\n",
       "      <td>3.333333</td>\n",
       "      <td>1.000000</td>\n",
       "      <td>5.600000</td>\n",
       "      <td>0.625000</td>\n",
       "      <td>0.625000</td>\n",
       "      <td>0.272727</td>\n",
       "      <td>0.560000</td>\n",
       "    </tr>\n",
       "  </tbody>\n",
       "</table>\n",
       "<p>8 rows × 153 columns</p>\n",
       "</div>"
      ],
      "text/plain": [
       "       Temperature (K)  minimum Number  maximum Number  range Number  \\\n",
       "count      1165.000000     1165.000000     1165.000000   1165.000000   \n",
       "mean        820.966524        7.703004       38.315021     30.612017   \n",
       "std         447.075873        0.858172       23.909038     23.642175   \n",
       "min           0.000000        4.000000        6.000000      1.000000   \n",
       "25%         419.000000        8.000000       14.000000      6.000000   \n",
       "50%         785.000000        8.000000       39.000000     31.000000   \n",
       "75%        1140.000000        8.000000       64.000000     56.000000   \n",
       "max        3100.000000        8.000000       92.000000     84.000000   \n",
       "\n",
       "       mean Number  avg_dev Number  mode Number  minimum MendeleevNumber  \\\n",
       "count  1165.000000     1165.000000  1165.000000              1165.000000   \n",
       "mean     18.986953       13.643654     7.703004                43.524464   \n",
       "std       9.258065       10.887440     0.858172                26.468235   \n",
       "min       5.200000        0.320000     4.000000                 9.000000   \n",
       "25%      10.000000        2.666667     8.000000                12.000000   \n",
       "50%      20.400000       14.880000     8.000000                37.000000   \n",
       "75%      30.400000       26.880000     8.000000                73.000000   \n",
       "max      36.000000       37.333333     8.000000                78.000000   \n",
       "\n",
       "       maximum MendeleevNumber  range MendeleevNumber  \\\n",
       "count              1165.000000            1165.000000   \n",
       "mean                 85.872103              42.347639   \n",
       "std                   3.482152              27.292142   \n",
       "min                  72.000000               1.000000   \n",
       "25%                  87.000000              14.000000   \n",
       "50%                  87.000000              50.000000   \n",
       "75%                  87.000000              75.000000   \n",
       "max                  87.000000              78.000000   \n",
       "\n",
       "                 ...                 10-norm  transition metal fraction  \\\n",
       "count            ...             1165.000000                1165.000000   \n",
       "mean             ...                0.609940                   0.037396   \n",
       "std              ...                0.040528                   0.090924   \n",
       "min              ...                0.428730                   0.000000   \n",
       "25%              ...                0.600002                   0.000000   \n",
       "50%              ...                0.601032                   0.000000   \n",
       "75%              ...                0.601032                   0.000000   \n",
       "max              ...                0.800000                   0.500000   \n",
       "\n",
       "       avg s valence electrons  avg p valence electrons  \\\n",
       "count                   1165.0              1165.000000   \n",
       "mean                       2.0                 2.478390   \n",
       "std                        0.0                 0.540718   \n",
       "min                        2.0                 0.666667   \n",
       "25%                        2.0                 2.400000   \n",
       "50%                        2.0                 2.400000   \n",
       "75%                        2.0                 2.666667   \n",
       "max                        2.0                 3.333333   \n",
       "\n",
       "       avg d valence electrons  avg f valence electrons  \\\n",
       "count              1165.000000              1165.000000   \n",
       "mean                  0.184492                 1.174077   \n",
       "std                   0.237815                 1.962898   \n",
       "min                   0.000000                 0.000000   \n",
       "25%                   0.000000                 0.000000   \n",
       "50%                   0.000000                 0.000000   \n",
       "75%                   0.400000                 2.800000   \n",
       "max                   1.000000                 5.600000   \n",
       "\n",
       "       frac s valence electrons  frac p valence electrons  \\\n",
       "count               1165.000000               1165.000000   \n",
       "mean                   0.374575                  0.454005   \n",
       "std                    0.102361                  0.137240   \n",
       "min                    0.200000                  0.181818   \n",
       "25%                    0.263158                  0.315789   \n",
       "50%                    0.416667                  0.500000   \n",
       "75%                    0.416667                  0.562500   \n",
       "max                    0.625000                  0.625000   \n",
       "\n",
       "       frac d valence electrons  frac f valence electrons  \n",
       "count               1165.000000               1165.000000  \n",
       "mean                   0.038451                  0.132970  \n",
       "std                    0.054067                  0.217049  \n",
       "min                    0.000000                  0.000000  \n",
       "25%                    0.000000                  0.000000  \n",
       "50%                    0.000000                  0.000000  \n",
       "75%                    0.083333                  0.368421  \n",
       "max                    0.272727                  0.560000  \n",
       "\n",
       "[8 rows x 153 columns]"
      ]
     },
     "execution_count": 5,
     "metadata": {},
     "output_type": "execute_result"
    }
   ],
   "source": [
    "dat_t_copy= dat_t.copy()\n",
    "excluded= ['Formula','Crystallinity','composition','Reference','Elastic Modulus (GPa)']\n",
    "dat_t_copy= dat_t_copy.drop(excluded,axis=1)\n",
    "dat_t_copy= dat_t_copy.astype('float')\n",
    "dat_des= dat_t_copy.describe()\n",
    "dat_des= dat_des.astype('float')\n",
    "dat_des"
   ]
  },
  {
   "cell_type": "code",
   "execution_count": 34,
   "metadata": {},
   "outputs": [
    {
     "name": "stderr",
     "output_type": "stream",
     "text": [
      "/Users/Prabudhya/anaconda3/lib/python3.6/site-packages/ipykernel_launcher.py:4: RuntimeWarning: invalid value encountered in true_divide\n",
      "  after removing the cwd from sys.path.\n"
     ]
    }
   ],
   "source": [
    "# there are nan values when I try to find the variation (std/mean) for the columns in the data set\n",
    "std= np.array(dat_des.loc['std'],dtype= 'float')\n",
    "mean= np.array(dat_des.loc['mean'],dtype= 'float')\n",
    "variation= std/mean\n",
    "dat_des.loc['variation']= variation"
   ]
  },
  {
   "cell_type": "markdown",
   "metadata": {},
   "source": [
    "In the above columns both mean and std deviation are zero."
   ]
  },
  {
   "cell_type": "markdown",
   "metadata": {},
   "source": [
    "## Linear Regressor "
   ]
  },
  {
   "cell_type": "code",
   "execution_count": 7,
   "metadata": {},
   "outputs": [],
   "source": [
    "from sklearn.linear_model import LinearRegression\n",
    "from sklearn.metrics import mean_squared_error\n",
    "from sklearn.model_selection import KFold, cross_val_score"
   ]
  },
  {
   "cell_type": "code",
   "execution_count": 32,
   "metadata": {},
   "outputs": [
    {
     "name": "stdout",
     "output_type": "stream",
     "text": [
      "Number of descriptors: 135\n",
      "Number of data points: 1165\n",
      "training R2 = 0.904\n",
      "training RMSE = 421.114\n"
     ]
    }
   ],
   "source": [
    "excluded= ['Formula','Crystallinity','composition','Reference','Elastic Modulus (GPa)']\n",
    "y= dat_t['Elastic Modulus (GPa)'].astype('float')\n",
    "X= dat_t.drop(excluded,axis=1).astype('float')\n",
    "X= X.drop(drop_cols,axis=1)\n",
    "\n",
    "print('Number of descriptors: %i'%len(X.columns))\n",
    "print('Number of data points: %i'%X.shape[0])\n",
    "\n",
    "# split data set\n",
    "X_learn= X[:800]\n",
    "y_learn= y[:800]\n",
    "\n",
    "X_test= X[800:]\n",
    "y_test= y[800:]\n",
    "\n",
    "lr= LinearRegression()\n",
    "\n",
    "# Try fitting\n",
    "lr.fit(X_learn,y_learn)\n",
    "\n",
    "# get fit statistics\n",
    "print('training R2 = ' + str(round(lr.score(X_learn, y_learn), 3)))\n",
    "print('training RMSE = %.3f' % np.sqrt(mean_squared_error(y_true=y_test, y_pred=lr.predict(X_test))))"
   ]
  },
  {
   "cell_type": "code",
   "execution_count": 9,
   "metadata": {},
   "outputs": [
    {
     "name": "stdout",
     "output_type": "stream",
     "text": [
      "Cross-validation results:\n",
      "Folds: 10, mean R2: 2747258533394988544.000\n",
      "Folds: 10, mean RMSE: 51833780700.692\n"
     ]
    }
   ],
   "source": [
    "# Use 10-fold cross validation (90% training, 10% test)\n",
    "crossvalidation = KFold(n_splits=10, shuffle=False, random_state=1)\n",
    "scores = cross_val_score(lr, X, y, scoring='neg_mean_squared_error', cv=crossvalidation, n_jobs=1)\n",
    "rmse_scores = [np.sqrt(abs(s)) for s in scores]\n",
    "r2_scores = cross_val_score(lr, X, y, scoring='r2', cv=crossvalidation, n_jobs=1)\n",
    "\n",
    "print('Cross-validation results:')\n",
    "print('Folds: %i, mean R2: %.3f' % (len(scores), np.mean(np.abs(r2_scores))))\n",
    "print('Folds: %i, mean RMSE: %.3f' % (len(scores), np.mean(np.abs(rmse_scores))))"
   ]
  },
  {
   "cell_type": "code",
   "execution_count": 10,
   "metadata": {},
   "outputs": [
    {
     "name": "stdout",
     "output_type": "stream",
     "text": [
      "training R2 = 0.898\n",
      "training RMSE = 38.300\n",
      "test R2 = 0.843\n",
      "test RMSE = 45.725\n"
     ]
    }
   ],
   "source": [
    "from sklearn.model_selection import train_test_split\n",
    "X['formula'] = dat_t['Formula']\n",
    "X_train, X_test, y_train, y_test = train_test_split(X, y, test_size=0.2, random_state=1)\n",
    "train_formula = X_train['formula']\n",
    "X_train = X_train.drop('formula', axis=1)\n",
    "test_formula = X_test['formula']\n",
    "X_test = X_test.drop('formula', axis=1)\n",
    "\n",
    "lr = LinearRegression()\n",
    "lr.fit(X_train, y_train)\n",
    "\n",
    "# get fit statistics\n",
    "print('training R2 = ' + str(round(lr.score(X_train, y_train), 3)))\n",
    "print('training RMSE = %.3f' % np.sqrt(mean_squared_error(y_true=y_train, y_pred=lr.predict(X_train))))\n",
    "print('test R2 = ' + str(round(lr.score(X_test, y_test), 3)))\n",
    "print('test RMSE = %.3f' % np.sqrt(mean_squared_error(y_true=y_test, y_pred=lr.predict(X_test))))"
   ]
  },
  {
   "cell_type": "markdown",
   "metadata": {},
   "source": [
    "## Random Forest"
   ]
  },
  {
   "cell_type": "code",
   "execution_count": 11,
   "metadata": {},
   "outputs": [
    {
     "name": "stderr",
     "output_type": "stream",
     "text": [
      "/Users/Prabudhya/anaconda3/lib/python3.6/site-packages/sklearn/ensemble/weight_boosting.py:29: DeprecationWarning: numpy.core.umath_tests is an internal NumPy module and should not be imported. It will be removed in a future NumPy release.\n",
      "  from numpy.core.umath_tests import inner1d\n"
     ]
    }
   ],
   "source": [
    "from sklearn.ensemble import RandomForestRegressor"
   ]
  },
  {
   "cell_type": "code",
   "execution_count": 12,
   "metadata": {},
   "outputs": [
    {
     "name": "stdout",
     "output_type": "stream",
     "text": [
      "Number of descriptors: 135\n",
      "Number of data points: 1165\n",
      "training R2 = 0.981\n",
      "training RMSE = 113.855\n"
     ]
    }
   ],
   "source": [
    "excluded= ['Formula','Crystallinity','composition','Reference','Elastic Modulus (GPa)']\n",
    "y= dat_t['Elastic Modulus (GPa)'].astype('float')\n",
    "X= dat_t.drop(excluded,axis=1).astype('float')\n",
    "X= X.drop(drop_cols,axis=1)\n",
    "\n",
    "print('Number of descriptors: %i'%len(X.columns))\n",
    "print('Number of data points: %i'%X.shape[0])\n",
    "\n",
    "# split data set\n",
    "X_learn= X[:800]\n",
    "y_learn= y[:800]\n",
    "\n",
    "X_test= X[800:]\n",
    "y_test= y[800:]\n",
    "\n",
    "rf = RandomForestRegressor(n_estimators=50, random_state=1)\n",
    "\n",
    "rf.fit(X_learn, y_learn)\n",
    "\n",
    "print('training R2 = ' + str(round(rf.score(X_learn, y_learn), 3)))\n",
    "print('training RMSE = %.3f' % np.sqrt(mean_squared_error(y_true=y_test, y_pred=rf.predict(X_test))))"
   ]
  },
  {
   "cell_type": "code",
   "execution_count": 13,
   "metadata": {
    "scrolled": false
   },
   "outputs": [
    {
     "name": "stdout",
     "output_type": "stream",
     "text": [
      "Cross-validation results:\n",
      "Folds: 10, mean R2: 0.708\n",
      "Folds: 10, mean RMSE: 57.291\n"
     ]
    }
   ],
   "source": [
    "# compute cross validation scores for random forest model\n",
    "r2_scores = cross_val_score(rf, X, y, scoring='r2', cv=crossvalidation, n_jobs=-1)\n",
    "scores = cross_val_score(rf, X, y, scoring='neg_mean_squared_error', cv=crossvalidation, n_jobs=-1)\n",
    "rmse_scores = [np.sqrt(abs(s)) for s in scores]\n",
    "\n",
    "print('Cross-validation results:')\n",
    "print('Folds: %i, mean R2: %.3f' % (len(scores), np.mean(np.abs(r2_scores))))\n",
    "print('Folds: %i, mean RMSE: %.3f' % (len(scores), np.mean(np.abs(rmse_scores))))"
   ]
  },
  {
   "cell_type": "code",
   "execution_count": 14,
   "metadata": {},
   "outputs": [
    {
     "name": "stdout",
     "output_type": "stream",
     "text": [
      "training R2 = 0.98\n",
      "training RMSE = 16.904\n",
      "test R2 = 0.907\n",
      "test RMSE = 35.180\n"
     ]
    }
   ],
   "source": [
    "from sklearn.model_selection import train_test_split\n",
    "X['formula'] = dat_t['Formula']\n",
    "X_train, X_test, y_train, y_test = train_test_split(X, y, test_size=0.2, random_state=1)\n",
    "train_formula = X_train['formula']\n",
    "X_train = X_train.drop('formula', axis=1)\n",
    "test_formula = X_test['formula']\n",
    "X_test = X_test.drop('formula', axis=1)\n",
    "\n",
    "rf_reg = RandomForestRegressor(n_estimators=50, random_state=1)\n",
    "rf_reg.fit(X_train, y_train)\n",
    "\n",
    "# get fit statistics\n",
    "print('training R2 = ' + str(round(rf_reg.score(X_train, y_train), 3)))\n",
    "print('training RMSE = %.3f' % np.sqrt(mean_squared_error(y_true=y_train, y_pred=rf_reg.predict(X_train))))\n",
    "print('test R2 = ' + str(round(rf_reg.score(X_test, y_test), 3)))\n",
    "print('test RMSE = %.3f' % np.sqrt(mean_squared_error(y_true=y_test, y_pred=rf_reg.predict(X_test))))"
   ]
  }
 ],
 "metadata": {
  "kernelspec": {
   "display_name": "Python 3",
   "language": "python",
   "name": "python3"
  },
  "language_info": {
   "codemirror_mode": {
    "name": "ipython",
    "version": 3
   },
   "file_extension": ".py",
   "mimetype": "text/x-python",
   "name": "python",
   "nbconvert_exporter": "python",
   "pygments_lexer": "ipython3",
   "version": "3.6.6"
  }
 },
 "nbformat": 4,
 "nbformat_minor": 2
}
