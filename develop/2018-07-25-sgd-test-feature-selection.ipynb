{
 "cells": [
  {
   "cell_type": "code",
   "execution_count": 1,
   "metadata": {
    "collapsed": true
   },
   "outputs": [],
   "source": [
    "import pandas as pd\n",
    "import matplotlib.pyplot as plt\n",
    "import re\n",
    "\n",
    "from matminer.utils.conversions import str_to_composition\n",
    "from matminer.featurizers.composition import ElementProperty"
   ]
  },
  {
   "cell_type": "code",
   "execution_count": 16,
   "metadata": {},
   "outputs": [
    {
     "name": "stderr",
     "output_type": "stream",
     "text": [
      "100%|██████████████████████████████████████| 4098/4098 [02:02<00:00, 33.36it/s]\n"
     ]
    },
    {
     "name": "stdout",
     "output_type": "stream",
     "text": [
      "all available fields:\n",
      "['Grinding Rat-conditions', 'Weibull Modulus-conditions', 'Poissons Ratio-minimum', 'Log Wear Coefficient-conditions', 'Creep Activatn Energy', 'Gruneisen Parameter', 'Debye Temperature', 'Sintering Aid-conditions', 'Thermal Expansion-conditions', 'Dopant-conditions', 'Electrical Resistivity Log', 'Tensile Strength', 'Weibull Modulus', 'Axis Length-conditions', 'Tensile Strength-maximum', 'Thermal Expansion', 'Melting Point Temperature', 'Chemical Family', 'Sound Velocity-units', 'Elasticity Tensor', 'Electrical Resistivity Log-conditions', 'Fracture Toughness-maximum', 'Porosity-conditions', 'Fracture Energy-units', 'Porosity-units', 'Hardness-units', 'Friction Coefficient-minimum', 'Weibull Strength-conditions', 'Flexural Strength-conditions', 'Fracture Toughness-conditions', 'Relative Atomic Coordinate-conditions', 'Thermal Conductivity', 'Shear Modulus-conditions', 'Flexural Strength-maximum', 'Creep Rate-conditions', 'Diffusion Coefficient', 'SMILES', 'Weibull Strength-units', 'Sound Velocity-conditions', 'Crystal Cell System', 'Corrosion Activtn Energy-units', 'Compressive Strength-conditions', 'Density', 'Grain Size-units', 'Grain Size', 'Bulk Modulus-maximum', 'Poissons Ratio', 'Poissons Ratio-maximum', 'chemicalFormula', 'uid', 'Maximum-Use Temperature-conditions', 'Corrosion Species', 'Elastic Modulus-maximum', 'InChI', 'Production Form', 'Electrical Resistivity Log-units', 'Friction Coefficient-conditions', 'Thermal Shock Resistance', 'Gruneisen Parameter-conditions', 'Friction Coefficient', 'Tensile Strength-minimum', 'Hardness-minimum', 'Compressive Strength-units', 'Thermal Expansion-units', 'Creep Rate', 'Creep Rate-units', 'Flexural Strength', 'Density-units', 'Weibull Strength', 'Cell Angle-conditions', 'licenses', 'Log Wear Rate', 'Creep Activatn Energy-units', 'Specific Heat-units', 'preparation', 'Cell Angle', 'Impurity-conditions', 'Melting Point Temperature-units', 'Fracture Toughness-minimum', 'Fracture Energy', 'Flexural Strength-units', 'Density-conditions', 'Thermal Diffusivity', 'Manufacturer', 'Thermal Diffusivity-units', 'Thermal Conductivity-conditions', 'Crystallinity', 'Fracture Toughness-units', 'Fracture Energy-conditions', 'Grain Size-minimum', 'Corrosion Activtn Energy', 'Creep Rate Exponent', 'Density-minimum', 'Grinding Rat-units', 'Bulk Modulus-units', 'Axis Length-units', 'Corrosion Rate-units', 'category', 'Diffusion Coefficient-units', 'Relative Atomic Coordinate', 'Flexural Strength-minimum', 'Axis Length', 'Shear Modulus', 'Poissons Ratio-conditions', 'Tensile Strength-conditions', 'Hardness-maximum', 'Log Wear Rate-conditions', 'Commercial Name', 'Compressive Strength-minimum', 'Corrosion Activtn Energy-conditions', 'Phase-conditions', 'Shear Modulus-units', 'Elastic Modulus-conditions', 'Sintering Aid', 'Bulk Modulus', 'Fracture Toughness', 'names', 'Compressive Strength', 'Phase', 'Tensile Strength-units', 'Space Group', 'Corrosion Species-conditions', 'Elasticity Tensor-units', 'Creep Activatn Energy-conditions', 'Space Group-conditions', 'Creep Rate Exponent-conditions', 'Bulk Modulus-conditions', 'Elasticity Tensor-conditions', 'Grain Size-maximum', 'Log Wear Rate-units', 'Grain Size-conditions', 'Debye Temperature-units', 'Elastic Modulus-units', 'Melting Point Temperature-conditions', 'Thermal Shock Resistance-units', 'Diffusion Coefficient-conditions', 'Dopant', 'Specific Heat', 'Hardness', 'Debye Temperature-conditions', 'Corrosion Rate', 'Impurity', 'Porosity', 'Grinding Rat', 'Corrosion Rate-conditions', 'Bulk Modulus-minimum', 'Cell Angle-units', 'Elastic Modulus', 'Hardness-conditions', 'Crystal Cell System-conditions', 'Friction Coefficient-maximum', 'Thermal Diffusivity-conditions', 'Specific Heat-conditions', 'Elastic Modulus-minimum', 'Compressive Strength-maximum', 'Maximum-Use Temperature', 'Maximum-Use Temperature-units', 'Sound Velocity', 'Density-maximum', 'Thermal Shock Resistance-conditions', 'references', 'Log Wear Coefficient', 'Thermal Conductivity-units']\n",
      "\n",
      "suggested common fields:\n",
      "['chemicalFormula', 'licenses', 'names', 'preparation', 'references', 'Axis Length', 'Axis Length-conditions', 'Axis Length-units', 'Bulk Modulus', 'Bulk Modulus-conditions', 'Bulk Modulus-maximum', 'Bulk Modulus-minimum', 'Bulk Modulus-units', 'Cell Angle', 'Cell Angle-conditions', 'Cell Angle-units', 'Chemical Family', 'Commercial Name', 'Compressive Strength', 'Compressive Strength-conditions', 'Compressive Strength-maximum', 'Compressive Strength-minimum', 'Compressive Strength-units', 'Corrosion Activtn Energy', 'Corrosion Activtn Energy-conditions', 'Corrosion Activtn Energy-units', 'Corrosion Rate', 'Corrosion Rate-conditions', 'Corrosion Rate-units', 'Corrosion Species', 'Corrosion Species-conditions', 'Creep Activatn Energy', 'Creep Activatn Energy-conditions', 'Creep Activatn Energy-units', 'Creep Rate', 'Creep Rate Exponent', 'Creep Rate Exponent-conditions', 'Creep Rate-conditions', 'Creep Rate-units', 'Crystal Cell System', 'Crystal Cell System-conditions', 'Crystallinity', 'Debye Temperature', 'Debye Temperature-conditions', 'Debye Temperature-units', 'Density', 'Density-conditions', 'Density-maximum', 'Density-minimum', 'Density-units', 'Diffusion Coefficient', 'Diffusion Coefficient-conditions', 'Diffusion Coefficient-units', 'Dopant', 'Dopant-conditions', 'Elastic Modulus', 'Elastic Modulus-conditions', 'Elastic Modulus-maximum', 'Elastic Modulus-minimum', 'Elastic Modulus-units', 'Elasticity Tensor', 'Elasticity Tensor-conditions', 'Elasticity Tensor-units', 'Electrical Resistivity Log', 'Electrical Resistivity Log-conditions', 'Electrical Resistivity Log-units', 'Flexural Strength', 'Flexural Strength-conditions', 'Flexural Strength-maximum', 'Flexural Strength-minimum', 'Flexural Strength-units', 'Fracture Energy', 'Fracture Energy-conditions', 'Fracture Energy-units', 'Fracture Toughness', 'Fracture Toughness-conditions', 'Fracture Toughness-maximum', 'Fracture Toughness-minimum', 'Fracture Toughness-units', 'Friction Coefficient', 'Friction Coefficient-conditions', 'Friction Coefficient-maximum', 'Friction Coefficient-minimum', 'Grain Size', 'Grain Size-conditions', 'Grain Size-maximum', 'Grain Size-minimum', 'Grain Size-units', 'Grinding Rat', 'Grinding Rat-conditions', 'Grinding Rat-units', 'Gruneisen Parameter', 'Gruneisen Parameter-conditions', 'Hardness', 'Hardness-conditions', 'Hardness-maximum', 'Hardness-minimum', 'Hardness-units', 'Impurity', 'Impurity-conditions', 'InChI', 'Log Wear Coefficient', 'Log Wear Coefficient-conditions', 'Log Wear Rate', 'Log Wear Rate-conditions', 'Log Wear Rate-units', 'Manufacturer', 'Maximum-Use Temperature', 'Maximum-Use Temperature-conditions', 'Maximum-Use Temperature-units', 'Melting Point Temperature', 'Melting Point Temperature-conditions', 'Melting Point Temperature-units', 'Phase', 'Phase-conditions', 'Poissons Ratio', 'Poissons Ratio-conditions', 'Poissons Ratio-maximum', 'Poissons Ratio-minimum', 'Porosity', 'Porosity-conditions', 'Porosity-units', 'Production Form', 'Relative Atomic Coordinate', 'Relative Atomic Coordinate-conditions', 'SMILES', 'Shear Modulus', 'Shear Modulus-conditions', 'Shear Modulus-units', 'Sintering Aid', 'Sintering Aid-conditions', 'Sound Velocity', 'Sound Velocity-conditions', 'Sound Velocity-units', 'Space Group', 'Space Group-conditions', 'Specific Heat', 'Specific Heat-conditions', 'Specific Heat-units', 'Tensile Strength', 'Tensile Strength-conditions', 'Tensile Strength-maximum', 'Tensile Strength-minimum', 'Tensile Strength-units', 'Thermal Conductivity', 'Thermal Conductivity-conditions', 'Thermal Conductivity-units', 'Thermal Diffusivity', 'Thermal Diffusivity-conditions', 'Thermal Diffusivity-units', 'Thermal Expansion', 'Thermal Expansion-conditions', 'Thermal Expansion-units', 'Thermal Shock Resistance', 'Thermal Shock Resistance-conditions', 'Thermal Shock Resistance-units', 'Weibull Modulus', 'Weibull Modulus-conditions', 'Weibull Strength', 'Weibull Strength-conditions', 'Weibull Strength-units']\n"
     ]
    }
   ],
   "source": [
    "# Retrieve NIST SCD dataset from Citrine using matminer.\n",
    "# The data will be stored in the df DataFrame.\n",
    "\n",
    "first_retrieve = True #change it to indicate first time retrieve dataset or not\n",
    "\n",
    "from matminer.data_retrieval.retrieve_Citrine import CitrineDataRetrieval\n",
    "from os import environ\n",
    "\n",
    "if first_retrieve:\n",
    "\n",
    "    api_key = environ['CITRINATION_API_KEY'] # insert your api key here\n",
    "    c = CitrineDataRetrieval(api_key=api_key)\n",
    "    df = c.get_dataframe(criteria={'data_set_id': '151803'})\n",
    "    \n",
    "    # Save downloaded dataset\n",
    "    df.to_csv('NIST_CeramicDataSet.csv')\n",
    "    df.to_pickle('NIST_CeramicDataSet.pkl')\n",
    "else:\n",
    "    df  = pd.read_pickle('NIST_CeramicDataSet.pkl')"
   ]
  },
  {
   "cell_type": "code",
   "execution_count": 22,
   "metadata": {},
   "outputs": [
    {
     "data": {
      "text/plain": [
       "(4098, 161)"
      ]
     },
     "execution_count": 22,
     "metadata": {},
     "output_type": "execute_result"
    }
   ],
   "source": [
    "# Get the number of samples and number of features of the dataset\n",
    "df.shape"
   ]
  },
  {
   "cell_type": "code",
   "execution_count": 23,
   "metadata": {},
   "outputs": [
    {
     "data": {
      "text/html": [
       "<div>\n",
       "<style>\n",
       "    .dataframe thead tr:only-child th {\n",
       "        text-align: right;\n",
       "    }\n",
       "\n",
       "    .dataframe thead th {\n",
       "        text-align: left;\n",
       "    }\n",
       "\n",
       "    .dataframe tbody tr th {\n",
       "        vertical-align: top;\n",
       "    }\n",
       "</style>\n",
       "<table border=\"1\" class=\"dataframe\">\n",
       "  <thead>\n",
       "    <tr style=\"text-align: right;\">\n",
       "      <th></th>\n",
       "      <th>chemicalFormula</th>\n",
       "      <th>licenses</th>\n",
       "      <th>names</th>\n",
       "      <th>preparation</th>\n",
       "      <th>references</th>\n",
       "      <th>Axis Length</th>\n",
       "      <th>Axis Length-conditions</th>\n",
       "      <th>Axis Length-units</th>\n",
       "      <th>Bulk Modulus</th>\n",
       "      <th>Bulk Modulus-conditions</th>\n",
       "      <th>...</th>\n",
       "      <th>Thermal Expansion-conditions</th>\n",
       "      <th>Thermal Expansion-units</th>\n",
       "      <th>Thermal Shock Resistance</th>\n",
       "      <th>Thermal Shock Resistance-conditions</th>\n",
       "      <th>Thermal Shock Resistance-units</th>\n",
       "      <th>Weibull Modulus</th>\n",
       "      <th>Weibull Modulus-conditions</th>\n",
       "      <th>Weibull Strength</th>\n",
       "      <th>Weibull Strength-conditions</th>\n",
       "      <th>Weibull Strength-units</th>\n",
       "    </tr>\n",
       "  </thead>\n",
       "  <tbody>\n",
       "    <tr>\n",
       "      <th>1</th>\n",
       "      <td>SiO2</td>\n",
       "      <td>[{'name': 'NIST_SRD-30'}]</td>\n",
       "      <td>[Silica]</td>\n",
       "      <td>NaN</td>\n",
       "      <td>[{'citation': 'Gaseous Corrosion of Ceramics, ...</td>\n",
       "      <td>NaN</td>\n",
       "      <td>NaN</td>\n",
       "      <td>NaN</td>\n",
       "      <td>NaN</td>\n",
       "      <td>NaN</td>\n",
       "      <td>...</td>\n",
       "      <td>NaN</td>\n",
       "      <td>NaN</td>\n",
       "      <td>NaN</td>\n",
       "      <td>NaN</td>\n",
       "      <td>NaN</td>\n",
       "      <td>NaN</td>\n",
       "      <td>NaN</td>\n",
       "      <td>NaN</td>\n",
       "      <td>NaN</td>\n",
       "      <td>NaN</td>\n",
       "    </tr>\n",
       "    <tr>\n",
       "      <th>2</th>\n",
       "      <td>3Al2O3.2SiO2.xZrO2.yY2O3</td>\n",
       "      <td>[{'name': 'NIST_SRD-30'}]</td>\n",
       "      <td>[Mullite composite]</td>\n",
       "      <td>[{'name': 'Hot Pressing'}]</td>\n",
       "      <td>[{'citation': 'Thermal Diffusivity/Conductivit...</td>\n",
       "      <td>NaN</td>\n",
       "      <td>NaN</td>\n",
       "      <td>NaN</td>\n",
       "      <td>NaN</td>\n",
       "      <td>NaN</td>\n",
       "      <td>...</td>\n",
       "      <td>NaN</td>\n",
       "      <td>NaN</td>\n",
       "      <td>NaN</td>\n",
       "      <td>NaN</td>\n",
       "      <td>NaN</td>\n",
       "      <td>NaN</td>\n",
       "      <td>NaN</td>\n",
       "      <td>NaN</td>\n",
       "      <td>NaN</td>\n",
       "      <td>NaN</td>\n",
       "    </tr>\n",
       "    <tr>\n",
       "      <th>3</th>\n",
       "      <td>Al2O3</td>\n",
       "      <td>[{'name': 'NIST_SRD-30'}]</td>\n",
       "      <td>[Alumina]</td>\n",
       "      <td>[{'name': 'Hot Pressing'}]</td>\n",
       "      <td>[{'citation': 'Mechanical Properties of Pure, ...</td>\n",
       "      <td>NaN</td>\n",
       "      <td>NaN</td>\n",
       "      <td>NaN</td>\n",
       "      <td>NaN</td>\n",
       "      <td>NaN</td>\n",
       "      <td>...</td>\n",
       "      <td>NaN</td>\n",
       "      <td>NaN</td>\n",
       "      <td>NaN</td>\n",
       "      <td>NaN</td>\n",
       "      <td>NaN</td>\n",
       "      <td>NaN</td>\n",
       "      <td>NaN</td>\n",
       "      <td>NaN</td>\n",
       "      <td>NaN</td>\n",
       "      <td>NaN</td>\n",
       "    </tr>\n",
       "    <tr>\n",
       "      <th>4</th>\n",
       "      <td>Si3N4.xCeO2.ySiC</td>\n",
       "      <td>[{'name': 'NIST_SRD-30'}]</td>\n",
       "      <td>[Silicon nitride composite]</td>\n",
       "      <td>[{'name': 'Hot Pressing'}]</td>\n",
       "      <td>[{'citation': 'Effect of Silicon Carbide Whisk...</td>\n",
       "      <td>NaN</td>\n",
       "      <td>NaN</td>\n",
       "      <td>NaN</td>\n",
       "      <td>NaN</td>\n",
       "      <td>NaN</td>\n",
       "      <td>...</td>\n",
       "      <td>NaN</td>\n",
       "      <td>NaN</td>\n",
       "      <td>NaN</td>\n",
       "      <td>NaN</td>\n",
       "      <td>NaN</td>\n",
       "      <td>NaN</td>\n",
       "      <td>NaN</td>\n",
       "      <td>NaN</td>\n",
       "      <td>NaN</td>\n",
       "      <td>NaN</td>\n",
       "    </tr>\n",
       "    <tr>\n",
       "      <th>5</th>\n",
       "      <td>Si3N4</td>\n",
       "      <td>[{'name': 'NIST_SRD-30'}]</td>\n",
       "      <td>[Silicon nitride]</td>\n",
       "      <td>[{'name': 'Hot Isostatic Pressing'}]</td>\n",
       "      <td>[{'citation': 'Corrosion of Silicon Nitride Ce...</td>\n",
       "      <td>NaN</td>\n",
       "      <td>NaN</td>\n",
       "      <td>NaN</td>\n",
       "      <td>NaN</td>\n",
       "      <td>NaN</td>\n",
       "      <td>...</td>\n",
       "      <td>NaN</td>\n",
       "      <td>NaN</td>\n",
       "      <td>NaN</td>\n",
       "      <td>NaN</td>\n",
       "      <td>NaN</td>\n",
       "      <td>NaN</td>\n",
       "      <td>NaN</td>\n",
       "      <td>NaN</td>\n",
       "      <td>NaN</td>\n",
       "      <td>NaN</td>\n",
       "    </tr>\n",
       "  </tbody>\n",
       "</table>\n",
       "<p>5 rows × 161 columns</p>\n",
       "</div>"
      ],
      "text/plain": [
       "            chemicalFormula                   licenses  \\\n",
       "1                      SiO2  [{'name': 'NIST_SRD-30'}]   \n",
       "2  3Al2O3.2SiO2.xZrO2.yY2O3  [{'name': 'NIST_SRD-30'}]   \n",
       "3                     Al2O3  [{'name': 'NIST_SRD-30'}]   \n",
       "4          Si3N4.xCeO2.ySiC  [{'name': 'NIST_SRD-30'}]   \n",
       "5                     Si3N4  [{'name': 'NIST_SRD-30'}]   \n",
       "\n",
       "                         names                           preparation  \\\n",
       "1                     [Silica]                                   NaN   \n",
       "2          [Mullite composite]            [{'name': 'Hot Pressing'}]   \n",
       "3                    [Alumina]            [{'name': 'Hot Pressing'}]   \n",
       "4  [Silicon nitride composite]            [{'name': 'Hot Pressing'}]   \n",
       "5            [Silicon nitride]  [{'name': 'Hot Isostatic Pressing'}]   \n",
       "\n",
       "                                          references Axis Length  \\\n",
       "1  [{'citation': 'Gaseous Corrosion of Ceramics, ...         NaN   \n",
       "2  [{'citation': 'Thermal Diffusivity/Conductivit...         NaN   \n",
       "3  [{'citation': 'Mechanical Properties of Pure, ...         NaN   \n",
       "4  [{'citation': 'Effect of Silicon Carbide Whisk...         NaN   \n",
       "5  [{'citation': 'Corrosion of Silicon Nitride Ce...         NaN   \n",
       "\n",
       "  Axis Length-conditions Axis Length-units Bulk Modulus  \\\n",
       "1                    NaN               NaN          NaN   \n",
       "2                    NaN               NaN          NaN   \n",
       "3                    NaN               NaN          NaN   \n",
       "4                    NaN               NaN          NaN   \n",
       "5                    NaN               NaN          NaN   \n",
       "\n",
       "  Bulk Modulus-conditions          ...           Thermal Expansion-conditions  \\\n",
       "1                     NaN          ...                                    NaN   \n",
       "2                     NaN          ...                                    NaN   \n",
       "3                     NaN          ...                                    NaN   \n",
       "4                     NaN          ...                                    NaN   \n",
       "5                     NaN          ...                                    NaN   \n",
       "\n",
       "  Thermal Expansion-units Thermal Shock Resistance  \\\n",
       "1                     NaN                      NaN   \n",
       "2                     NaN                      NaN   \n",
       "3                     NaN                      NaN   \n",
       "4                     NaN                      NaN   \n",
       "5                     NaN                      NaN   \n",
       "\n",
       "  Thermal Shock Resistance-conditions Thermal Shock Resistance-units  \\\n",
       "1                                 NaN                            NaN   \n",
       "2                                 NaN                            NaN   \n",
       "3                                 NaN                            NaN   \n",
       "4                                 NaN                            NaN   \n",
       "5                                 NaN                            NaN   \n",
       "\n",
       "  Weibull Modulus Weibull Modulus-conditions Weibull Strength  \\\n",
       "1             NaN                        NaN              NaN   \n",
       "2             NaN                        NaN              NaN   \n",
       "3             NaN                        NaN              NaN   \n",
       "4             NaN                        NaN              NaN   \n",
       "5             NaN                        NaN              NaN   \n",
       "\n",
       "  Weibull Strength-conditions Weibull Strength-units  \n",
       "1                         NaN                    NaN  \n",
       "2                         NaN                    NaN  \n",
       "3                         NaN                    NaN  \n",
       "4                         NaN                    NaN  \n",
       "5                         NaN                    NaN  \n",
       "\n",
       "[5 rows x 161 columns]"
      ]
     },
     "execution_count": 23,
     "metadata": {},
     "output_type": "execute_result"
    }
   ],
   "source": [
    "# Looking at the first 5 entries\n",
    "df.head()"
   ]
  },
  {
   "cell_type": "code",
   "execution_count": 24,
   "metadata": {},
   "outputs": [
    {
     "data": {
      "text/plain": [
       "chemicalFormula                                               Al2O3.xSiC\n",
       "licenses                                       [{'name': 'NIST_SRD-30'}]\n",
       "names                                                [Alumina composite]\n",
       "preparation                                   [{'name': 'Hot Pressing'}]\n",
       "references             [{'citation': 'Strengthening and Toughening Me...\n",
       "Chemical Family                                                 Al-O:SiC\n",
       "Crystallinity                                            Polycrystalline\n",
       "Hardness                                                              19\n",
       "Hardness-conditions    [{'name': 'Volume Fraction of SiC', 'scalars':...\n",
       "Hardness-units                                                       GPa\n",
       "Name: 42, dtype: object"
      ]
     },
     "execution_count": 24,
     "metadata": {},
     "output_type": "execute_result"
    }
   ],
   "source": [
    "# Taking a look at a sample entry\n",
    "df.loc[42,:].dropna()"
   ]
  },
  {
   "cell_type": "code",
   "execution_count": 9,
   "metadata": {},
   "outputs": [
    {
     "data": {
      "image/png": "[encoded data removed]",
      "text/plain": [
       "<Figure size 576x1152 with 1 Axes>"
      ]
     },
     "metadata": {},
     "output_type": "display_data"
    }
   ],
   "source": [
    "# Plot a bar chart showing the 50 most common features\n",
    "plt.figure(figsize=(8,16))\n",
    "df.count().sort_values()[-50:].plot.barh()\n",
    "plt.show()"
   ]
  },
  {
   "cell_type": "code",
   "execution_count": 25,
   "metadata": {},
   "outputs": [
    {
     "data": {
      "image/png": "[encoded data removed]",
      "text/plain": [
       "<Figure size 432x288 with 1 Axes>"
      ]
     },
     "metadata": {},
     "output_type": "display_data"
    }
   ],
   "source": [
    "density = df['Density'].dropna()\n",
    "density = pd.to_numeric(density, errors='coerce')\n",
    "density.hist(bins=100)\n",
    "plt.xlabel('Density')\n",
    "plt.ylabel('# of samples')\n",
    "plt.show()"
   ]
  },
  {
   "cell_type": "markdown",
   "metadata": {},
   "source": [
    "# Featurization"
   ]
  },
  {
   "cell_type": "code",
   "execution_count": 26,
   "metadata": {
    "collapsed": true
   },
   "outputs": [],
   "source": [
    "# Create copy of original data to not mess with them\n",
    "feat = df.copy()"
   ]
  },
  {
   "cell_type": "markdown",
   "metadata": {},
   "source": [
    "### Make chemical formula compatible with pymatgen.core.composition"
   ]
  },
  {
   "cell_type": "code",
   "execution_count": 27,
   "metadata": {
    "collapsed": true
   },
   "outputs": [],
   "source": [
    "# Initialize composition column\n",
    "feat['composition'] = feat['chemicalFormula']"
   ]
  },
  {
   "cell_type": "code",
   "execution_count": 28,
   "metadata": {},
   "outputs": [
    {
     "name": "stdout",
     "output_type": "stream",
     "text": [
      "1608 errors in 4098 samples\n"
     ]
    }
   ],
   "source": [
    "# Check how many formulas cause an error when they are fed to pymatgen.core.composition (via str_to_composition)\n",
    "\n",
    "N_errors, N_total = 0, 0\n",
    "for entry in feat['composition']:\n",
    "    try:\n",
    "        pd.Series([entry]).transform(str_to_composition)\n",
    "    except:\n",
    "        N_errors +=1\n",
    "        #print(entry)\n",
    "    finally:\n",
    "        N_total +=1\n",
    "\n",
    "print('{0} errors in {1} samples'.format(N_errors, N_total))"
   ]
  },
  {
   "cell_type": "code",
   "execution_count": 29,
   "metadata": {
    "collapsed": true
   },
   "outputs": [],
   "source": [
    "# This function removes certain characters and expressions from a chemical formula\n",
    "# so that it can be converted using pymatgen.core.composition\n",
    "\n",
    "def make_chem_form_compatible(formula):\n",
    "    \n",
    "    for bad_str in ['\\.','x', 'y', '\\+', '\\-', 'z', 'w', '\\%', '\\^',   # individual characters\n",
    "                 'Cordierite','hisker','Sialon', # certain words that show up in some formulas\n",
    "                 '\\$(.*?)\\$',    # LaTeX expressions\n",
    "                 '\\((.*?)\\)',    # bracketed expressions\n",
    "                 '^\\d{1,2}']:    # leading numbers of 1 or 2 digits\n",
    "        formula = re.sub(bad_str, '', formula)\n",
    "    \n",
    "    return formula"
   ]
  },
  {
   "cell_type": "code",
   "execution_count": 30,
   "metadata": {
    "collapsed": true
   },
   "outputs": [],
   "source": [
    "# Convert chemical formulas using above function\n",
    "feat[\"composition\"] = feat[\"composition\"].transform(make_chem_form_compatible)\n",
    "\n",
    "# Converting chemical formula to composition object using\n",
    "# matminer.utils.conversions.str_to_composition\n",
    "# which in turn uses pymatgen.core.composition\n",
    "feat[\"composition\"] = feat[\"composition\"].transform(str_to_composition)"
   ]
  },
  {
   "cell_type": "code",
   "execution_count": 31,
   "metadata": {},
   "outputs": [
    {
     "data": {
      "text/plain": [
       "1               (Si, O)\n",
       "2    (Al, O, Si, Zr, Y)\n",
       "3               (Al, O)\n",
       "4     (Si, N, Ce, O, C)\n",
       "5               (Si, N)\n",
       "Name: composition, dtype: object"
      ]
     },
     "execution_count": 31,
     "metadata": {},
     "output_type": "execute_result"
    }
   ],
   "source": [
    "feat['composition'].head()"
   ]
  },
  {
   "cell_type": "markdown",
   "metadata": {},
   "source": [
    "### Parse chemical formula\n",
    "#### x, y, z, and w are setted to be 0.1 (can be modified)"
   ]
  },
  {
   "cell_type": "code",
   "execution_count": 32,
   "metadata": {
    "collapsed": true
   },
   "outputs": [],
   "source": [
    "df1 = df.copy()\n",
    "df1.loc[3892,'chemicalFormula'] = 'BN' #fix 'B-N' to 'BN'"
   ]
  },
  {
   "cell_type": "code",
   "execution_count": 33,
   "metadata": {
    "collapsed": true
   },
   "outputs": [],
   "source": [
    "# Parse the chemicalFormula\n",
    "def formula_decompose(formula):\n",
    "    '''\n",
    "    decompose chemical formula \n",
    "    return\n",
    "        composition: list, [(element,num),...]\n",
    "            element: string\n",
    "            num: string, can be math expression such as '1+0.5x'\n",
    "    '''\n",
    "\n",
    "    comp = []\n",
    "    p = re.compile(r'(\\d?[w-z]?)([A-Z][a-u]?)(\\d*\\+?\\-?\\d*\\.?\\d*[w-z]?)')\n",
    "\n",
    "    #split the chemical formula if there is dots, but not for cases like Mg1.5x\n",
    "    if re.search(r'\\.', formula) and not re.search(r'\\d+\\.\\d[w-z]', formula): \n",
    "        formula = formula.split('.')\n",
    "        for item in formula:\n",
    "            prefactor = '1'\n",
    "            for i in re.findall(p, item):\n",
    "                pre, elem, num = i\n",
    "                if pre:\n",
    "                    prefactor = pre\n",
    "                if num == '':\n",
    "                    num = '1'\n",
    "                num = prefactor + '*({})'.format(num)\n",
    "                comp.append((elem, num))\n",
    "    else:\n",
    "        prefactor = '1'\n",
    "        for i in re.findall(p, formula):\n",
    "            pre, elem, num = i\n",
    "            if pre:\n",
    "                prefactor = pre\n",
    "            if num == '':\n",
    "                num = '1'\n",
    "            num = prefactor + '*({})'.format(num)\n",
    "            comp.append((elem, num))\n",
    "    return comp \n",
    "\n",
    "def formula_reconstruct(composition, x=0.1, y=0.1, z=0.1, w=0.1):\n",
    "    '''\n",
    "    reconstruct chemical formula from composition\n",
    "    composition in form of [(element,num), (element,num),...]\n",
    "        element: string\n",
    "        num: string, can be math expression such as '1+0.5x'\n",
    "\n",
    "    return \n",
    "        flat chemcial formula: string, such as 'Ti1.5Cu0.1Au1.0'\n",
    "    '''\n",
    "    flat_list = []\n",
    "    for (elem, num) in composition:\n",
    "        num = re.sub(r'(\\d)([w-z])', r'\\1*\\2', num) #convert 5x to 5*x\n",
    "        flat_list.append(elem)\n",
    "        flat_list.append(format(eval(num), '.1f'))\n",
    "    return ''.join(flat_list)\n",
    "  \n",
    "def formula_parser(formula):\n",
    "    return formula_reconstruct(formula_decompose(formula))"
   ]
  },
  {
   "cell_type": "code",
   "execution_count": 34,
   "metadata": {},
   "outputs": [
    {
     "data": {
      "text/html": [
       "<div>\n",
       "<style>\n",
       "    .dataframe thead tr:only-child th {\n",
       "        text-align: right;\n",
       "    }\n",
       "\n",
       "    .dataframe thead th {\n",
       "        text-align: left;\n",
       "    }\n",
       "\n",
       "    .dataframe tbody tr th {\n",
       "        vertical-align: top;\n",
       "    }\n",
       "</style>\n",
       "<table border=\"1\" class=\"dataframe\">\n",
       "  <thead>\n",
       "    <tr style=\"text-align: right;\">\n",
       "      <th></th>\n",
       "      <th>chemicalFormula</th>\n",
       "      <th>licenses</th>\n",
       "      <th>references</th>\n",
       "      <th>Chemical Family</th>\n",
       "      <th>flatFormula</th>\n",
       "    </tr>\n",
       "  </thead>\n",
       "  <tbody>\n",
       "    <tr>\n",
       "      <th>1</th>\n",
       "      <td>SiO2</td>\n",
       "      <td>[{'name': 'NIST_SRD-30'}]</td>\n",
       "      <td>[{'citation': 'Gaseous Corrosion of Ceramics, ...</td>\n",
       "      <td>Si-O</td>\n",
       "      <td>Si1.0O2.0</td>\n",
       "    </tr>\n",
       "    <tr>\n",
       "      <th>2</th>\n",
       "      <td>3Al2O3.2SiO2.xZrO2.yY2O3</td>\n",
       "      <td>[{'name': 'NIST_SRD-30'}]</td>\n",
       "      <td>[{'citation': 'Thermal Diffusivity/Conductivit...</td>\n",
       "      <td>Al-Si-O:ZrO</td>\n",
       "      <td>Al6.0O9.0Si2.0O4.0Zr0.1O0.2Y0.2O0.3</td>\n",
       "    </tr>\n",
       "    <tr>\n",
       "      <th>3</th>\n",
       "      <td>Al2O3</td>\n",
       "      <td>[{'name': 'NIST_SRD-30'}]</td>\n",
       "      <td>[{'citation': 'Mechanical Properties of Pure, ...</td>\n",
       "      <td>Al-O</td>\n",
       "      <td>Al2.0O3.0</td>\n",
       "    </tr>\n",
       "    <tr>\n",
       "      <th>4</th>\n",
       "      <td>Si3N4.xCeO2.ySiC</td>\n",
       "      <td>[{'name': 'NIST_SRD-30'}]</td>\n",
       "      <td>[{'citation': 'Effect of Silicon Carbide Whisk...</td>\n",
       "      <td>Si-N:CeO</td>\n",
       "      <td>Si3.0N4.0Ce0.1O0.2Si0.1C0.1</td>\n",
       "    </tr>\n",
       "    <tr>\n",
       "      <th>5</th>\n",
       "      <td>Si3N4</td>\n",
       "      <td>[{'name': 'NIST_SRD-30'}]</td>\n",
       "      <td>[{'citation': 'Corrosion of Silicon Nitride Ce...</td>\n",
       "      <td>Si-N</td>\n",
       "      <td>Si3.0N4.0</td>\n",
       "    </tr>\n",
       "  </tbody>\n",
       "</table>\n",
       "</div>"
      ],
      "text/plain": [
       "            chemicalFormula                   licenses  \\\n",
       "1                      SiO2  [{'name': 'NIST_SRD-30'}]   \n",
       "2  3Al2O3.2SiO2.xZrO2.yY2O3  [{'name': 'NIST_SRD-30'}]   \n",
       "3                     Al2O3  [{'name': 'NIST_SRD-30'}]   \n",
       "4          Si3N4.xCeO2.ySiC  [{'name': 'NIST_SRD-30'}]   \n",
       "5                     Si3N4  [{'name': 'NIST_SRD-30'}]   \n",
       "\n",
       "                                          references Chemical Family  \\\n",
       "1  [{'citation': 'Gaseous Corrosion of Ceramics, ...            Si-O   \n",
       "2  [{'citation': 'Thermal Diffusivity/Conductivit...     Al-Si-O:ZrO   \n",
       "3  [{'citation': 'Mechanical Properties of Pure, ...            Al-O   \n",
       "4  [{'citation': 'Effect of Silicon Carbide Whisk...        Si-N:CeO   \n",
       "5  [{'citation': 'Corrosion of Silicon Nitride Ce...            Si-N   \n",
       "\n",
       "                           flatFormula  \n",
       "1                            Si1.0O2.0  \n",
       "2  Al6.0O9.0Si2.0O4.0Zr0.1O0.2Y0.2O0.3  \n",
       "3                            Al2.0O3.0  \n",
       "4          Si3.0N4.0Ce0.1O0.2Si0.1C0.1  \n",
       "5                            Si3.0N4.0  "
      ]
     },
     "execution_count": 34,
     "metadata": {},
     "output_type": "execute_result"
    }
   ],
   "source": [
    "df1[\"flatFormula\"] = df1[\"chemicalFormula\"].map(formula_parser)\n",
    "df1.dropna(axis=1).head()"
   ]
  },
  {
   "cell_type": "code",
   "execution_count": 35,
   "metadata": {},
   "outputs": [
    {
     "data": {
      "text/html": [
       "<div>\n",
       "<style>\n",
       "    .dataframe thead tr:only-child th {\n",
       "        text-align: right;\n",
       "    }\n",
       "\n",
       "    .dataframe thead th {\n",
       "        text-align: left;\n",
       "    }\n",
       "\n",
       "    .dataframe tbody tr th {\n",
       "        vertical-align: top;\n",
       "    }\n",
       "</style>\n",
       "<table border=\"1\" class=\"dataframe\">\n",
       "  <thead>\n",
       "    <tr style=\"text-align: right;\">\n",
       "      <th></th>\n",
       "      <th>chemicalFormula</th>\n",
       "      <th>licenses</th>\n",
       "      <th>references</th>\n",
       "      <th>Chemical Family</th>\n",
       "      <th>flatFormula</th>\n",
       "      <th>composition</th>\n",
       "    </tr>\n",
       "  </thead>\n",
       "  <tbody>\n",
       "    <tr>\n",
       "      <th>1</th>\n",
       "      <td>SiO2</td>\n",
       "      <td>[{'name': 'NIST_SRD-30'}]</td>\n",
       "      <td>[{'citation': 'Gaseous Corrosion of Ceramics, ...</td>\n",
       "      <td>Si-O</td>\n",
       "      <td>Si1.0O2.0</td>\n",
       "      <td>(Si, O)</td>\n",
       "    </tr>\n",
       "    <tr>\n",
       "      <th>2</th>\n",
       "      <td>3Al2O3.2SiO2.xZrO2.yY2O3</td>\n",
       "      <td>[{'name': 'NIST_SRD-30'}]</td>\n",
       "      <td>[{'citation': 'Thermal Diffusivity/Conductivit...</td>\n",
       "      <td>Al-Si-O:ZrO</td>\n",
       "      <td>Al6.0O9.0Si2.0O4.0Zr0.1O0.2Y0.2O0.3</td>\n",
       "      <td>(Al, O, Si, Zr, Y)</td>\n",
       "    </tr>\n",
       "    <tr>\n",
       "      <th>3</th>\n",
       "      <td>Al2O3</td>\n",
       "      <td>[{'name': 'NIST_SRD-30'}]</td>\n",
       "      <td>[{'citation': 'Mechanical Properties of Pure, ...</td>\n",
       "      <td>Al-O</td>\n",
       "      <td>Al2.0O3.0</td>\n",
       "      <td>(Al, O)</td>\n",
       "    </tr>\n",
       "    <tr>\n",
       "      <th>4</th>\n",
       "      <td>Si3N4.xCeO2.ySiC</td>\n",
       "      <td>[{'name': 'NIST_SRD-30'}]</td>\n",
       "      <td>[{'citation': 'Effect of Silicon Carbide Whisk...</td>\n",
       "      <td>Si-N:CeO</td>\n",
       "      <td>Si3.0N4.0Ce0.1O0.2Si0.1C0.1</td>\n",
       "      <td>(Si, N, Ce, O, C)</td>\n",
       "    </tr>\n",
       "    <tr>\n",
       "      <th>5</th>\n",
       "      <td>Si3N4</td>\n",
       "      <td>[{'name': 'NIST_SRD-30'}]</td>\n",
       "      <td>[{'citation': 'Corrosion of Silicon Nitride Ce...</td>\n",
       "      <td>Si-N</td>\n",
       "      <td>Si3.0N4.0</td>\n",
       "      <td>(Si, N)</td>\n",
       "    </tr>\n",
       "  </tbody>\n",
       "</table>\n",
       "</div>"
      ],
      "text/plain": [
       "            chemicalFormula                   licenses  \\\n",
       "1                      SiO2  [{'name': 'NIST_SRD-30'}]   \n",
       "2  3Al2O3.2SiO2.xZrO2.yY2O3  [{'name': 'NIST_SRD-30'}]   \n",
       "3                     Al2O3  [{'name': 'NIST_SRD-30'}]   \n",
       "4          Si3N4.xCeO2.ySiC  [{'name': 'NIST_SRD-30'}]   \n",
       "5                     Si3N4  [{'name': 'NIST_SRD-30'}]   \n",
       "\n",
       "                                          references Chemical Family  \\\n",
       "1  [{'citation': 'Gaseous Corrosion of Ceramics, ...            Si-O   \n",
       "2  [{'citation': 'Thermal Diffusivity/Conductivit...     Al-Si-O:ZrO   \n",
       "3  [{'citation': 'Mechanical Properties of Pure, ...            Al-O   \n",
       "4  [{'citation': 'Effect of Silicon Carbide Whisk...        Si-N:CeO   \n",
       "5  [{'citation': 'Corrosion of Silicon Nitride Ce...            Si-N   \n",
       "\n",
       "                           flatFormula         composition  \n",
       "1                            Si1.0O2.0             (Si, O)  \n",
       "2  Al6.0O9.0Si2.0O4.0Zr0.1O0.2Y0.2O0.3  (Al, O, Si, Zr, Y)  \n",
       "3                            Al2.0O3.0             (Al, O)  \n",
       "4          Si3.0N4.0Ce0.1O0.2Si0.1C0.1   (Si, N, Ce, O, C)  \n",
       "5                            Si3.0N4.0             (Si, N)  "
      ]
     },
     "execution_count": 35,
     "metadata": {},
     "output_type": "execute_result"
    }
   ],
   "source": [
    "df1[\"composition\"] =df1[\"flatFormula\"].transform(str_to_composition)\n",
    "df1.dropna(axis=1).head()"
   ]
  },
  {
   "cell_type": "code",
   "execution_count": 36,
   "metadata": {},
   "outputs": [
    {
     "data": {
      "text/plain": [
       "Comp: Ce0.1 Si3.1 C0.1 N4 O0.2"
      ]
     },
     "execution_count": 36,
     "metadata": {},
     "output_type": "execute_result"
    }
   ],
   "source": [
    "#check the composition object\n",
    "df1.loc[4,'composition']"
   ]
  },
  {
   "cell_type": "markdown",
   "metadata": {},
   "source": [
    "### Featurize with matminer"
   ]
  },
  {
   "cell_type": "code",
   "execution_count": 37,
   "metadata": {},
   "outputs": [
    {
     "data": {
      "text/plain": [
       "(4098, 163)"
      ]
     },
     "execution_count": 37,
     "metadata": {},
     "output_type": "execute_result"
    }
   ],
   "source": [
    "df1.shape"
   ]
  },
  {
   "cell_type": "code",
   "execution_count": 38,
   "metadata": {
    "collapsed": true
   },
   "outputs": [],
   "source": [
    "df1_feat = df1.copy()"
   ]
  },
  {
   "cell_type": "code",
   "execution_count": 39,
   "metadata": {
    "collapsed": true
   },
   "outputs": [],
   "source": [
    "# Add new features to df_feat\n",
    "ep_feat = ElementProperty.from_preset(preset_name=\"magpie\")\n",
    "df1_feat = ep_feat.featurize_dataframe(df1_feat, col_id=\"composition\", ignore_errors=True)"
   ]
  },
  {
   "cell_type": "code",
   "execution_count": 40,
   "metadata": {},
   "outputs": [
    {
     "data": {
      "text/plain": [
       "(4098, 295)"
      ]
     },
     "execution_count": 40,
     "metadata": {},
     "output_type": "execute_result"
    }
   ],
   "source": [
    "df1_feat.shape"
   ]
  },
  {
   "cell_type": "code",
   "execution_count": 41,
   "metadata": {
    "scrolled": false
   },
   "outputs": [
    {
     "data": {
      "text/plain": [
       "['range AtomicWeight',\n",
       " 'minimum NsUnfilled',\n",
       " 'maximum GSbandgap',\n",
       " 'maximum NfUnfilled',\n",
       " 'maximum CovalentRadius',\n",
       " 'mean Column',\n",
       " 'minimum MeltingT',\n",
       " 'minimum NUnfilled',\n",
       " 'avg_dev NUnfilled',\n",
       " 'maximum AtomicWeight',\n",
       " 'range GSmagmom',\n",
       " 'mean NUnfilled',\n",
       " 'maximum GSmagmom',\n",
       " 'maximum NpUnfilled',\n",
       " 'range Row',\n",
       " 'minimum NfUnfilled',\n",
       " 'mode AtomicWeight',\n",
       " 'mode Electronegativity',\n",
       " 'minimum GSvolume_pa',\n",
       " 'mode SpaceGroupNumber',\n",
       " 'mean Electronegativity',\n",
       " 'mean MendeleevNumber',\n",
       " 'minimum NdUnfilled',\n",
       " 'mean CovalentRadius',\n",
       " 'range NfUnfilled',\n",
       " 'maximum Column',\n",
       " 'maximum NdUnfilled',\n",
       " 'mode GSvolume_pa',\n",
       " 'avg_dev NdUnfilled',\n",
       " 'range NpUnfilled',\n",
       " 'maximum NfValence',\n",
       " 'mean GSvolume_pa',\n",
       " 'mean SpaceGroupNumber',\n",
       " 'avg_dev NpValence',\n",
       " 'mode Column',\n",
       " 'mean Row',\n",
       " 'avg_dev Electronegativity',\n",
       " 'avg_dev SpaceGroupNumber',\n",
       " 'range SpaceGroupNumber',\n",
       " 'mode Row',\n",
       " 'range MeltingT',\n",
       " 'minimum NfValence',\n",
       " 'minimum Row',\n",
       " 'mode NValence',\n",
       " 'range CovalentRadius',\n",
       " 'mean NdUnfilled',\n",
       " 'maximum GSvolume_pa',\n",
       " 'range NpValence',\n",
       " 'range NsValence',\n",
       " 'minimum NpUnfilled',\n",
       " 'avg_dev MeltingT',\n",
       " 'maximum MendeleevNumber',\n",
       " 'minimum MendeleevNumber',\n",
       " 'minimum NValence',\n",
       " 'maximum Row',\n",
       " 'minimum NsValence',\n",
       " 'minimum Electronegativity',\n",
       " 'mode NsUnfilled',\n",
       " 'range Electronegativity',\n",
       " 'maximum Number',\n",
       " 'avg_dev GSbandgap',\n",
       " 'minimum Column',\n",
       " 'mode NUnfilled',\n",
       " 'mode Number',\n",
       " 'minimum GSmagmom',\n",
       " 'maximum MeltingT',\n",
       " 'minimum SpaceGroupNumber',\n",
       " 'mode NpValence',\n",
       " 'minimum NdValence',\n",
       " 'range NsUnfilled',\n",
       " 'mean NfValence',\n",
       " 'avg_dev Column',\n",
       " 'mean GSbandgap',\n",
       " 'avg_dev NValence',\n",
       " 'avg_dev GSvolume_pa',\n",
       " 'range NUnfilled',\n",
       " 'mode NfValence',\n",
       " 'avg_dev MendeleevNumber',\n",
       " 'avg_dev NsUnfilled',\n",
       " 'mode NdValence',\n",
       " 'maximum NpValence',\n",
       " 'mode NsValence',\n",
       " 'maximum NValence',\n",
       " 'mode NfUnfilled',\n",
       " 'mode MeltingT',\n",
       " 'mean NsUnfilled',\n",
       " 'maximum NUnfilled',\n",
       " 'mode GSmagmom',\n",
       " 'mean NdValence',\n",
       " 'mean GSmagmom',\n",
       " 'avg_dev AtomicWeight',\n",
       " 'mean AtomicWeight',\n",
       " 'range GSbandgap',\n",
       " 'mean NpValence',\n",
       " 'avg_dev NfValence',\n",
       " 'range GSvolume_pa',\n",
       " 'range NValence',\n",
       " 'avg_dev CovalentRadius',\n",
       " 'mean MeltingT',\n",
       " 'minimum NpValence',\n",
       " 'minimum Number',\n",
       " 'avg_dev Row',\n",
       " 'maximum NsUnfilled',\n",
       " 'maximum NdValence',\n",
       " 'minimum GSbandgap',\n",
       " 'maximum Electronegativity',\n",
       " 'avg_dev GSmagmom',\n",
       " 'avg_dev NdValence',\n",
       " 'avg_dev NsValence',\n",
       " 'mean Number',\n",
       " 'avg_dev NpUnfilled',\n",
       " 'range NdValence',\n",
       " 'maximum NsValence',\n",
       " 'range NfValence',\n",
       " 'mode MendeleevNumber',\n",
       " 'mode GSbandgap',\n",
       " 'minimum CovalentRadius',\n",
       " 'mode NpUnfilled',\n",
       " 'avg_dev Number',\n",
       " 'avg_dev NfUnfilled',\n",
       " 'mean NpUnfilled',\n",
       " 'mode NdUnfilled',\n",
       " 'mean NfUnfilled',\n",
       " 'range Number',\n",
       " 'maximum SpaceGroupNumber',\n",
       " 'range NdUnfilled',\n",
       " 'mean NValence',\n",
       " 'mean NsValence',\n",
       " 'minimum AtomicWeight',\n",
       " 'range Column',\n",
       " 'range MendeleevNumber',\n",
       " 'mode CovalentRadius']"
      ]
     },
     "execution_count": 41,
     "metadata": {},
     "output_type": "execute_result"
    }
   ],
   "source": [
    "# List of the new columns\n",
    "list(set(df1_feat.columns) ^ set(df1))"
   ]
  },
  {
   "cell_type": "code",
   "execution_count": 42,
   "metadata": {},
   "outputs": [
    {
     "data": {
      "text/plain": [
       "1    725.422222\n",
       "2    516.580380\n",
       "3    421.761600\n",
       "4    823.174827\n",
       "5    795.404082\n",
       "Name: avg_dev MeltingT, dtype: float64"
      ]
     },
     "execution_count": 42,
     "metadata": {},
     "output_type": "execute_result"
    }
   ],
   "source": [
    "df1_feat['avg_dev MeltingT'].head()"
   ]
  },
  {
   "cell_type": "code",
   "execution_count": null,
   "metadata": {
    "collapsed": true
   },
   "outputs": [],
   "source": []
  }
 ],
 "metadata": {
  "kernelspec": {
   "display_name": "Python 3",
   "language": "python",
   "name": "python3"
  },
  "language_info": {
   "codemirror_mode": {
    "name": "ipython",
    "version": 3
   },
   "file_extension": ".py",
   "mimetype": "text/x-python",
   "name": "python",
   "nbconvert_exporter": "python",
   "pygments_lexer": "ipython3",
   "version": "3.6.6"
  }
 },
 "nbformat": 4,
 "nbformat_minor": 2
}
