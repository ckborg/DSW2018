{
 "cells": [
  {
   "cell_type": "code",
   "execution_count": 124,
   "metadata": {},
   "outputs": [],
   "source": [
    "import pandas as pd\n",
    "from os import environ\n",
    "from citrination_client import CitrinationClient\n",
    "from citrination_client import *\n",
    "from pypif import pif\n",
    "import csv\n",
    "\n",
    "from matminer.utils.conversions import str_to_composition\n",
    "from matminer.featurizers.composition import ElementProperty\n",
    "from matminer.featurizers.composition import ElementFraction"
   ]
  },
  {
   "cell_type": "code",
   "execution_count": 128,
   "metadata": {},
   "outputs": [],
   "source": [
    "client = CitrinationClient(environ['CITRINATION_API_KEY'], 'https://citrination.com')\n",
    "dataset_id = '151803'"
   ]
  },
  {
   "cell_type": "markdown",
   "metadata": {},
   "source": [
    "### Create csv file with properties and conditions"
   ]
  },
  {
   "cell_type": "code",
   "execution_count": 182,
   "metadata": {},
   "outputs": [],
   "source": [
    "# This function creates a csv files with columns for:\n",
    "# - the property specified in prop_name\n",
    "# - its units\n",
    "# - a corresponding property (e.g. temperature)\n",
    "# - crystallinity\n",
    "# - a refence\n",
    "\n",
    "def create_csv_prop(prop_name, cond_name):\n",
    "    value_query = FieldQuery(extract_as=prop_name, extract_all=True)\n",
    "    property_query = PropertyQuery(name=FieldQuery(filter=[Filter(equal=prop_name)]), value=value_query)\n",
    "    formula_query = ChemicalFieldQuery(extract_as=\"formula\") # Defines how to extract formula(?)\n",
    "    system_query = PifSystemQuery(chemical_formula=formula_query, properties=property_query)\n",
    "    dataset_query = DatasetQuery(id=[Filter(equal=dataset_id)]) # selects dataset\n",
    "    \n",
    "    data_query = DataQuery(dataset=dataset_query, system=system_query)\n",
    "    pif_query = PifSystemReturningQuery(size=5000, random_results=True, query=data_query)\n",
    "\n",
    "    search_result = client.search.pif_search(pif_query) # Actual pif query against the citrination database\n",
    "\n",
    "    print(\"We found {} records\".format(len(search_result.hits)))\n",
    "    #print([x.extracted for x in search_result.hits[0:2]])\n",
    "    \n",
    "    \n",
    "    rows = []\n",
    "    pif_records = [x.system for x in search_result.hits]\n",
    "    for system in pif_records:\n",
    "        if \"x\" not in system.chemical_formula and \".\" not in system.chemical_formula:\n",
    "            crystallinity_val = 'Unknown'\n",
    "            for prop in system.properties:\n",
    "                \n",
    "                if prop.name == 'Crystallinity': # look up crystallinity value for this material\n",
    "                    crystallinity_val = prop.scalars[0].value\n",
    "                    \n",
    "                if prop.name == prop_name: #only materials with the desired property\n",
    "                    \n",
    "\n",
    "                    for cond in prop.conditions: # loop through all conditions associated with the desired property\n",
    "\n",
    "                        if cond_name == 'None': # If no condition is specified (use all materials)\n",
    "                            row = [system.chemical_formula, prop.scalars[0].value, prop.units,  crystallinity_val,\\\n",
    "                                   system.references[0].citation]\n",
    "                            rows.append(row)\n",
    "                        else: # If a condition is specified\n",
    "                            if cond.name == cond_name:\n",
    "                                if len(prop.scalars) == len(cond.scalars):\n",
    "\n",
    "                                    for prop_sca, cond_sca in zip(prop.scalars, cond.scalars):\n",
    "                                        row = [system.chemical_formula, prop_sca.value, prop.units, cond_sca.value, \\\n",
    "                                               crystallinity_val, system.references[0].citation]\n",
    "                                        rows.append(row)\n",
    "\n",
    "                            \n",
    "\n",
    "                                \n",
    "\n",
    "\n",
    "    with open(prop_name + '.csv', 'w') as csvfile:\n",
    "        writer = csv.writer(csvfile)\n",
    "        if cond_name == 'None':\n",
    "            writer.writerow(['Formula', prop_name, 'Unit', 'Crystallinity', 'Reference'])\n",
    "        else:\n",
    "            writer.writerow(['Formula', prop_name, 'Unit', cond_name, 'Crystallinity', 'Reference'])\n",
    "            \n",
    "        writer.writerows(rows)\n"
   ]
  },
  {
   "cell_type": "code",
   "execution_count": 183,
   "metadata": {},
   "outputs": [],
   "source": [
    "condition_names = ['Specimen Number', 'Diagonal Direction', 'Typical Range', 'Test Type', 'Annealing Time at 1600 $^{\\\\circ}$C', 'x of 14Ni:xCof Additive', 'Film Thickness', 'Test Condition', 'Mass Fraction of Additive', 'Environment', 'Number of Quenches', 'Porosity', 'Test Temperature', 'Indentation Load', 'Density', 'Loadin Rate', 'Specimen Code', 'Deflection Angle', 'Method', 'Volume Fraction of SiC', 'Phase', 'Sintering Condition', 'Volume Fraction of BA', 'H/ERatio', 'Number of Tests', 'Specimen Thickness', 'Quenching Temperature', 'Numbers of Indents', 'Volume Fraction of TiO2', 'Additive', 'Test Environment', 'x of Alx', 'Specimen Condition', 'Crack Type', 'Notch Width', 'Notch Polishing', 'Orientation', 'Tensile Surface', 'Hot Pressing Time', 'Temperature', 'Relative Density', 'Volume Fraction of HA', 'Volume Fraction of TCP', 'Crystal Plane', 'Batch Number', 'Sample Number', 'Procedure', 'Sintering Temperature', 'Crosshead Speed', 'Mass Fraction of SiC', 'Load', 'Mole Fraction of Additive', 'Method Name', 'Tensile Axis', 'Material Type', 'Volume Swelling', 'Init. Relative Density', 'Measurement Temperature', 'Crack Length', 'Devitrified', 'Type of Zone', 'Crystallizing Treatment', 'Specimen Size', 'Mass Fraction of Ni', 'Fracture Plane', 'Volume Fraction of Porosity', 'Grain Size']\n",
    "#sorted(condition_names)"
   ]
  },
  {
   "cell_type": "markdown",
   "metadata": {},
   "source": [
    "### Featurizing with matminer"
   ]
  },
  {
   "cell_type": "code",
   "execution_count": 184,
   "metadata": {},
   "outputs": [],
   "source": [
    "def featurize_csv(file_name, prop_name):\n",
    "    \n",
    "    # Read csv file\n",
    "    df = pd.read_csv(file_name)\n",
    "    print('DataFrame shape pre-grouping: ', df.shape)\n",
    "    \n",
    "    # Remove errors given in parentheses from numerical columns\n",
    "    import re\n",
    "    def remove_par_errs(entry_str):\n",
    "        try:\n",
    "            entry_str = re.sub('- ', '-', entry_str)\n",
    "            ret = re.sub( '\\((.*?)\\)', '', entry_str)\n",
    "            if entry_str=='-':\n",
    "                ret=np.nan\n",
    "        except:\n",
    "            ret = entry_str\n",
    "        return ret\n",
    "\n",
    "    # Convert column to float (dropping values that have an error in parentheses)\n",
    "    def conv_to_float(df, column):\n",
    "        return df[column].transform(remove_par_errs).astype(float)\n",
    "    df[prop_name] = df[prop_name].transform(remove_par_errs).astype(float)\n",
    "    \n",
    "    # Group samples by chemical formula\n",
    "    df = df.groupby(['Formula','Crystallinity'], as_index=False).mean()\n",
    "    print('DataFrame shape post-grouping: ', df.shape)    \n",
    "    \n",
    "    # Create composition column\n",
    "    df[\"composition\"] = df[\"Formula\"].transform(str_to_composition)\n",
    "    \n",
    "    #Featurize dataframe\n",
    "    ep_feat = ElementProperty.from_preset(preset_name=\"magpie\")\n",
    "    df = ep_feat.featurize_dataframe(df, col_id=\"composition\", ignore_errors=True)\n",
    "    \n",
    "    # Write new csv file\n",
    "    new_file_name =  file_name[:-4] + '_featurized.csv'\n",
    "    df.to_csv(new_file_name)"
   ]
  },
  {
   "cell_type": "markdown",
   "metadata": {},
   "source": [
    "### Execute functions"
   ]
  },
  {
   "cell_type": "code",
   "execution_count": 186,
   "metadata": {},
   "outputs": [
    {
     "name": "stdout",
     "output_type": "stream",
     "text": [
      "We found 396 records\n",
      "DataFrame shape pre-grouping:  (540, 6)\n",
      "DataFrame shape post-grouping:  (13, 4)\n"
     ]
    }
   ],
   "source": [
    "prop_name = 'Fracture Toughness'\n",
    "file_name = prop_name + '.csv'\n",
    "create_csv_prop(prop_name, 'Temperature')\n",
    "featurize_csv(file_name, prop_name)"
   ]
  },
  {
   "cell_type": "markdown",
   "metadata": {},
   "source": [
    "### Test of featurization (used to develop above function)"
   ]
  },
  {
   "cell_type": "code",
   "execution_count": 172,
   "metadata": {
    "collapsed": true
   },
   "outputs": [],
   "source": [
    "df = pd.read_csv('Density.csv')"
   ]
  },
  {
   "cell_type": "code",
   "execution_count": 173,
   "metadata": {},
   "outputs": [
    {
     "data": {
      "text/html": [
       "<div>\n",
       "<style>\n",
       "    .dataframe thead tr:only-child th {\n",
       "        text-align: right;\n",
       "    }\n",
       "\n",
       "    .dataframe thead th {\n",
       "        text-align: left;\n",
       "    }\n",
       "\n",
       "    .dataframe tbody tr th {\n",
       "        vertical-align: top;\n",
       "    }\n",
       "</style>\n",
       "<table border=\"1\" class=\"dataframe\">\n",
       "  <thead>\n",
       "    <tr style=\"text-align: right;\">\n",
       "      <th></th>\n",
       "      <th>Formula</th>\n",
       "      <th>Density</th>\n",
       "      <th>Unit</th>\n",
       "      <th>Crystallinity</th>\n",
       "      <th>Reference</th>\n",
       "    </tr>\n",
       "  </thead>\n",
       "  <tbody>\n",
       "    <tr>\n",
       "      <th>0</th>\n",
       "      <td>Si3N4</td>\n",
       "      <td>3.39</td>\n",
       "      <td>g cm$^{-3}$</td>\n",
       "      <td>Polycrystalline</td>\n",
       "      <td>Ceramic Technology Project Data Base:  Septemb...</td>\n",
       "    </tr>\n",
       "    <tr>\n",
       "      <th>1</th>\n",
       "      <td>Si3N4</td>\n",
       "      <td>3.39</td>\n",
       "      <td>g cm$^{-3}$</td>\n",
       "      <td>Polycrystalline</td>\n",
       "      <td>Ceramic Technology Project Data Base:  Septemb...</td>\n",
       "    </tr>\n",
       "    <tr>\n",
       "      <th>2</th>\n",
       "      <td>TiB2</td>\n",
       "      <td>4.210</td>\n",
       "      <td>g cm$^{-3}$</td>\n",
       "      <td>Polycrystalline</td>\n",
       "      <td>Elastic Properties of Polycrystalline TiB2, Zr...</td>\n",
       "    </tr>\n",
       "    <tr>\n",
       "      <th>3</th>\n",
       "      <td>SiC</td>\n",
       "      <td>3.19</td>\n",
       "      <td>g cm$^{-3}$</td>\n",
       "      <td>Polycrystalline</td>\n",
       "      <td>Engineering Properties of Carbides, P.T.B. Sha...</td>\n",
       "    </tr>\n",
       "    <tr>\n",
       "      <th>4</th>\n",
       "      <td>SiC</td>\n",
       "      <td>3.19</td>\n",
       "      <td>g cm$^{-3}$</td>\n",
       "      <td>Polycrystalline</td>\n",
       "      <td>Engineering Properties of Carbides, P.T.B. Sha...</td>\n",
       "    </tr>\n",
       "  </tbody>\n",
       "</table>\n",
       "</div>"
      ],
      "text/plain": [
       "  Formula Density         Unit    Crystallinity  \\\n",
       "0   Si3N4    3.39  g cm$^{-3}$  Polycrystalline   \n",
       "1   Si3N4    3.39  g cm$^{-3}$  Polycrystalline   \n",
       "2    TiB2   4.210  g cm$^{-3}$  Polycrystalline   \n",
       "3     SiC    3.19  g cm$^{-3}$  Polycrystalline   \n",
       "4     SiC    3.19  g cm$^{-3}$  Polycrystalline   \n",
       "\n",
       "                                           Reference  \n",
       "0  Ceramic Technology Project Data Base:  Septemb...  \n",
       "1  Ceramic Technology Project Data Base:  Septemb...  \n",
       "2  Elastic Properties of Polycrystalline TiB2, Zr...  \n",
       "3  Engineering Properties of Carbides, P.T.B. Sha...  \n",
       "4  Engineering Properties of Carbides, P.T.B. Sha...  "
      ]
     },
     "execution_count": 173,
     "metadata": {},
     "output_type": "execute_result"
    }
   ],
   "source": [
    "df.head()"
   ]
  },
  {
   "cell_type": "code",
   "execution_count": 176,
   "metadata": {},
   "outputs": [],
   "source": [
    "# Remove errors given in parentheses from numerical columns\n",
    "import re\n",
    "def remove_par_errs(entry_str):\n",
    "    try:\n",
    "        entry_str = re.sub('- ', '-', entry_str)\n",
    "        ret = re.sub( '\\((.*?)\\)', '', entry_str)\n",
    "        if entry_str=='-':\n",
    "            ret=np.nan\n",
    "    except:\n",
    "        ret = entry_str\n",
    "    return ret\n",
    "\n",
    "# Convert column to float (dropping values that have an error in parentheses)\n",
    "def conv_to_float(df, column):\n",
    "    return df[column].transform(remove_par_errs).astype(float)\n",
    "\n",
    "df['Density'] = df['Density'].transform(remove_par_errs).astype(float)\n",
    "\n",
    "#conv_to_float(df, 'Axis Length').dropna().head()"
   ]
  },
  {
   "cell_type": "code",
   "execution_count": 177,
   "metadata": {},
   "outputs": [
    {
     "data": {
      "text/plain": [
       "(261, 5)"
      ]
     },
     "execution_count": 177,
     "metadata": {},
     "output_type": "execute_result"
    }
   ],
   "source": [
    "df.shape"
   ]
  },
  {
   "cell_type": "code",
   "execution_count": 179,
   "metadata": {},
   "outputs": [],
   "source": [
    "df = df.groupby(['Formula','Crystallinity'], as_index=False).mean()"
   ]
  },
  {
   "cell_type": "code",
   "execution_count": 180,
   "metadata": {},
   "outputs": [
    {
     "data": {
      "text/plain": [
       "(33, 3)"
      ]
     },
     "execution_count": 180,
     "metadata": {},
     "output_type": "execute_result"
    }
   ],
   "source": [
    "df.shape"
   ]
  },
  {
   "cell_type": "code",
   "execution_count": 112,
   "metadata": {},
   "outputs": [],
   "source": [
    "df[\"composition\"] = df[\"Formula\"].transform(str_to_composition)"
   ]
  },
  {
   "cell_type": "code",
   "execution_count": 113,
   "metadata": {},
   "outputs": [],
   "source": [
    "ep_feat = ElementProperty.from_preset(preset_name=\"magpie\")\n",
    "df = ep_feat.featurize_dataframe(df, col_id=\"composition\", ignore_errors=True)"
   ]
  },
  {
   "cell_type": "code",
   "execution_count": 114,
   "metadata": {},
   "outputs": [
    {
     "data": {
      "text/html": [
       "<div>\n",
       "<style>\n",
       "    .dataframe thead tr:only-child th {\n",
       "        text-align: right;\n",
       "    }\n",
       "\n",
       "    .dataframe thead th {\n",
       "        text-align: left;\n",
       "    }\n",
       "\n",
       "    .dataframe tbody tr th {\n",
       "        vertical-align: top;\n",
       "    }\n",
       "</style>\n",
       "<table border=\"1\" class=\"dataframe\">\n",
       "  <thead>\n",
       "    <tr style=\"text-align: right;\">\n",
       "      <th></th>\n",
       "      <th>Formula</th>\n",
       "      <th>Crystallinity</th>\n",
       "      <th>Fracture Toughness</th>\n",
       "      <th>Temperature</th>\n",
       "      <th>composition</th>\n",
       "      <th>minimum Number</th>\n",
       "      <th>maximum Number</th>\n",
       "      <th>range Number</th>\n",
       "      <th>mean Number</th>\n",
       "      <th>avg_dev Number</th>\n",
       "      <th>...</th>\n",
       "      <th>range GSmagmom</th>\n",
       "      <th>mean GSmagmom</th>\n",
       "      <th>avg_dev GSmagmom</th>\n",
       "      <th>mode GSmagmom</th>\n",
       "      <th>minimum SpaceGroupNumber</th>\n",
       "      <th>maximum SpaceGroupNumber</th>\n",
       "      <th>range SpaceGroupNumber</th>\n",
       "      <th>mean SpaceGroupNumber</th>\n",
       "      <th>avg_dev SpaceGroupNumber</th>\n",
       "      <th>mode SpaceGroupNumber</th>\n",
       "    </tr>\n",
       "  </thead>\n",
       "  <tbody>\n",
       "    <tr>\n",
       "      <th>0</th>\n",
       "      <td>Al2O3</td>\n",
       "      <td>Polycrystalline</td>\n",
       "      <td>2.861449</td>\n",
       "      <td>465.057971</td>\n",
       "      <td>(Al, O)</td>\n",
       "      <td>8.0</td>\n",
       "      <td>13.0</td>\n",
       "      <td>5.0</td>\n",
       "      <td>10.0</td>\n",
       "      <td>2.40</td>\n",
       "      <td>...</td>\n",
       "      <td>0.0</td>\n",
       "      <td>0.0</td>\n",
       "      <td>0.0</td>\n",
       "      <td>0.0</td>\n",
       "      <td>12.0</td>\n",
       "      <td>225.0</td>\n",
       "      <td>213.0</td>\n",
       "      <td>97.2</td>\n",
       "      <td>102.24</td>\n",
       "      <td>12.0</td>\n",
       "    </tr>\n",
       "    <tr>\n",
       "      <th>1</th>\n",
       "      <td>Al2O3</td>\n",
       "      <td>Single Crystal</td>\n",
       "      <td>2.223514</td>\n",
       "      <td>672.972973</td>\n",
       "      <td>(Al, O)</td>\n",
       "      <td>8.0</td>\n",
       "      <td>13.0</td>\n",
       "      <td>5.0</td>\n",
       "      <td>10.0</td>\n",
       "      <td>2.40</td>\n",
       "      <td>...</td>\n",
       "      <td>0.0</td>\n",
       "      <td>0.0</td>\n",
       "      <td>0.0</td>\n",
       "      <td>0.0</td>\n",
       "      <td>12.0</td>\n",
       "      <td>225.0</td>\n",
       "      <td>213.0</td>\n",
       "      <td>97.2</td>\n",
       "      <td>102.24</td>\n",
       "      <td>12.0</td>\n",
       "    </tr>\n",
       "    <tr>\n",
       "      <th>2</th>\n",
       "      <td>AlN</td>\n",
       "      <td>Polycrystalline</td>\n",
       "      <td>1.931250</td>\n",
       "      <td>1056.250000</td>\n",
       "      <td>(Al, N)</td>\n",
       "      <td>7.0</td>\n",
       "      <td>13.0</td>\n",
       "      <td>6.0</td>\n",
       "      <td>10.0</td>\n",
       "      <td>3.00</td>\n",
       "      <td>...</td>\n",
       "      <td>0.0</td>\n",
       "      <td>0.0</td>\n",
       "      <td>0.0</td>\n",
       "      <td>0.0</td>\n",
       "      <td>194.0</td>\n",
       "      <td>225.0</td>\n",
       "      <td>31.0</td>\n",
       "      <td>209.5</td>\n",
       "      <td>15.50</td>\n",
       "      <td>194.0</td>\n",
       "    </tr>\n",
       "    <tr>\n",
       "      <th>3</th>\n",
       "      <td>B4C</td>\n",
       "      <td>Polycrystalline</td>\n",
       "      <td>2.947500</td>\n",
       "      <td>745.000000</td>\n",
       "      <td>(B, C)</td>\n",
       "      <td>5.0</td>\n",
       "      <td>6.0</td>\n",
       "      <td>1.0</td>\n",
       "      <td>5.2</td>\n",
       "      <td>0.32</td>\n",
       "      <td>...</td>\n",
       "      <td>0.0</td>\n",
       "      <td>0.0</td>\n",
       "      <td>0.0</td>\n",
       "      <td>0.0</td>\n",
       "      <td>166.0</td>\n",
       "      <td>194.0</td>\n",
       "      <td>28.0</td>\n",
       "      <td>171.6</td>\n",
       "      <td>8.96</td>\n",
       "      <td>166.0</td>\n",
       "    </tr>\n",
       "    <tr>\n",
       "      <th>4</th>\n",
       "      <td>C</td>\n",
       "      <td>Polycrystalline</td>\n",
       "      <td>6.000000</td>\n",
       "      <td>23.000000</td>\n",
       "      <td>(C)</td>\n",
       "      <td>6.0</td>\n",
       "      <td>6.0</td>\n",
       "      <td>0.0</td>\n",
       "      <td>6.0</td>\n",
       "      <td>0.00</td>\n",
       "      <td>...</td>\n",
       "      <td>0.0</td>\n",
       "      <td>0.0</td>\n",
       "      <td>0.0</td>\n",
       "      <td>0.0</td>\n",
       "      <td>194.0</td>\n",
       "      <td>194.0</td>\n",
       "      <td>0.0</td>\n",
       "      <td>194.0</td>\n",
       "      <td>0.00</td>\n",
       "      <td>194.0</td>\n",
       "    </tr>\n",
       "  </tbody>\n",
       "</table>\n",
       "<p>5 rows × 137 columns</p>\n",
       "</div>"
      ],
      "text/plain": [
       "  Formula    Crystallinity  Fracture Toughness  Temperature composition  \\\n",
       "0   Al2O3  Polycrystalline            2.861449   465.057971     (Al, O)   \n",
       "1   Al2O3   Single Crystal            2.223514   672.972973     (Al, O)   \n",
       "2     AlN  Polycrystalline            1.931250  1056.250000     (Al, N)   \n",
       "3     B4C  Polycrystalline            2.947500   745.000000      (B, C)   \n",
       "4       C  Polycrystalline            6.000000    23.000000         (C)   \n",
       "\n",
       "   minimum Number  maximum Number  range Number  mean Number  avg_dev Number  \\\n",
       "0             8.0            13.0           5.0         10.0            2.40   \n",
       "1             8.0            13.0           5.0         10.0            2.40   \n",
       "2             7.0            13.0           6.0         10.0            3.00   \n",
       "3             5.0             6.0           1.0          5.2            0.32   \n",
       "4             6.0             6.0           0.0          6.0            0.00   \n",
       "\n",
       "           ...            range GSmagmom  mean GSmagmom  avg_dev GSmagmom  \\\n",
       "0          ...                       0.0            0.0               0.0   \n",
       "1          ...                       0.0            0.0               0.0   \n",
       "2          ...                       0.0            0.0               0.0   \n",
       "3          ...                       0.0            0.0               0.0   \n",
       "4          ...                       0.0            0.0               0.0   \n",
       "\n",
       "   mode GSmagmom  minimum SpaceGroupNumber  maximum SpaceGroupNumber  \\\n",
       "0            0.0                      12.0                     225.0   \n",
       "1            0.0                      12.0                     225.0   \n",
       "2            0.0                     194.0                     225.0   \n",
       "3            0.0                     166.0                     194.0   \n",
       "4            0.0                     194.0                     194.0   \n",
       "\n",
       "   range SpaceGroupNumber  mean SpaceGroupNumber  avg_dev SpaceGroupNumber  \\\n",
       "0                   213.0                   97.2                    102.24   \n",
       "1                   213.0                   97.2                    102.24   \n",
       "2                    31.0                  209.5                     15.50   \n",
       "3                    28.0                  171.6                      8.96   \n",
       "4                     0.0                  194.0                      0.00   \n",
       "\n",
       "   mode SpaceGroupNumber  \n",
       "0                   12.0  \n",
       "1                   12.0  \n",
       "2                  194.0  \n",
       "3                  166.0  \n",
       "4                  194.0  \n",
       "\n",
       "[5 rows x 137 columns]"
      ]
     },
     "execution_count": 114,
     "metadata": {},
     "output_type": "execute_result"
    }
   ],
   "source": [
    "df.head()"
   ]
  },
  {
   "cell_type": "code",
   "execution_count": 107,
   "metadata": {
    "collapsed": true
   },
   "outputs": [],
   "source": [
    "df.to_csv('fracture_toughness_featurized.csv')"
   ]
  }
 ],
 "metadata": {
  "kernelspec": {
   "display_name": "Python 3",
   "language": "python",
   "name": "python3"
  },
  "language_info": {
   "codemirror_mode": {
    "name": "ipython",
    "version": 3
   },
   "file_extension": ".py",
   "mimetype": "text/x-python",
   "name": "python",
   "nbconvert_exporter": "python",
   "pygments_lexer": "ipython3",
   "version": "3.6.5"
  }
 },
 "nbformat": 4,
 "nbformat_minor": 2
}
