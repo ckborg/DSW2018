{
 "cells": [
  {
   "cell_type": "code",
   "execution_count": 1,
   "metadata": {},
   "outputs": [],
   "source": [
    "import pandas as pd\n",
    "import re\n",
    "\n",
    "from matminer.utils.conversions import str_to_composition\n",
    "from matminer.featurizers import composition"
   ]
  },
  {
   "cell_type": "code",
   "execution_count": 2,
   "metadata": {},
   "outputs": [
    {
     "data": {
      "text/html": [
       "<div>\n",
       "<style scoped>\n",
       "    .dataframe tbody tr th:only-of-type {\n",
       "        vertical-align: middle;\n",
       "    }\n",
       "\n",
       "    .dataframe tbody tr th {\n",
       "        vertical-align: top;\n",
       "    }\n",
       "\n",
       "    .dataframe thead th {\n",
       "        text-align: right;\n",
       "    }\n",
       "</style>\n",
       "<table border=\"1\" class=\"dataframe\">\n",
       "  <thead>\n",
       "    <tr style=\"text-align: right;\">\n",
       "      <th></th>\n",
       "      <th>chemicalFormula</th>\n",
       "      <th>licenses</th>\n",
       "      <th>names</th>\n",
       "      <th>preparation</th>\n",
       "      <th>references</th>\n",
       "      <th>Axis Length</th>\n",
       "      <th>Axis Length-conditions</th>\n",
       "      <th>Axis Length-units</th>\n",
       "      <th>Bulk Modulus</th>\n",
       "      <th>Bulk Modulus-conditions</th>\n",
       "      <th>...</th>\n",
       "      <th>Thermal Expansion-conditions</th>\n",
       "      <th>Thermal Expansion-units</th>\n",
       "      <th>Thermal Shock Resistance</th>\n",
       "      <th>Thermal Shock Resistance-conditions</th>\n",
       "      <th>Thermal Shock Resistance-units</th>\n",
       "      <th>Weibull Modulus</th>\n",
       "      <th>Weibull Modulus-conditions</th>\n",
       "      <th>Weibull Strength</th>\n",
       "      <th>Weibull Strength-conditions</th>\n",
       "      <th>Weibull Strength-units</th>\n",
       "    </tr>\n",
       "  </thead>\n",
       "  <tbody>\n",
       "    <tr>\n",
       "      <th>1</th>\n",
       "      <td>SiO2</td>\n",
       "      <td>[{'name': 'NIST_SRD-30'}]</td>\n",
       "      <td>[Silica]</td>\n",
       "      <td>NaN</td>\n",
       "      <td>[{'citation': 'Gaseous Corrosion of Ceramics, ...</td>\n",
       "      <td>NaN</td>\n",
       "      <td>NaN</td>\n",
       "      <td>NaN</td>\n",
       "      <td>NaN</td>\n",
       "      <td>NaN</td>\n",
       "      <td>...</td>\n",
       "      <td>NaN</td>\n",
       "      <td>NaN</td>\n",
       "      <td>NaN</td>\n",
       "      <td>NaN</td>\n",
       "      <td>NaN</td>\n",
       "      <td>NaN</td>\n",
       "      <td>NaN</td>\n",
       "      <td>NaN</td>\n",
       "      <td>NaN</td>\n",
       "      <td>NaN</td>\n",
       "    </tr>\n",
       "    <tr>\n",
       "      <th>2</th>\n",
       "      <td>3Al2O3.2SiO2.xZrO2.yY2O3</td>\n",
       "      <td>[{'name': 'NIST_SRD-30'}]</td>\n",
       "      <td>[Mullite composite]</td>\n",
       "      <td>[{'name': 'Hot Pressing'}]</td>\n",
       "      <td>[{'citation': 'Thermal Diffusivity/Conductivit...</td>\n",
       "      <td>NaN</td>\n",
       "      <td>NaN</td>\n",
       "      <td>NaN</td>\n",
       "      <td>NaN</td>\n",
       "      <td>NaN</td>\n",
       "      <td>...</td>\n",
       "      <td>NaN</td>\n",
       "      <td>NaN</td>\n",
       "      <td>NaN</td>\n",
       "      <td>NaN</td>\n",
       "      <td>NaN</td>\n",
       "      <td>NaN</td>\n",
       "      <td>NaN</td>\n",
       "      <td>NaN</td>\n",
       "      <td>NaN</td>\n",
       "      <td>NaN</td>\n",
       "    </tr>\n",
       "    <tr>\n",
       "      <th>3</th>\n",
       "      <td>Al2O3</td>\n",
       "      <td>[{'name': 'NIST_SRD-30'}]</td>\n",
       "      <td>[Alumina]</td>\n",
       "      <td>[{'name': 'Hot Pressing'}]</td>\n",
       "      <td>[{'citation': 'Mechanical Properties of Pure, ...</td>\n",
       "      <td>NaN</td>\n",
       "      <td>NaN</td>\n",
       "      <td>NaN</td>\n",
       "      <td>NaN</td>\n",
       "      <td>NaN</td>\n",
       "      <td>...</td>\n",
       "      <td>NaN</td>\n",
       "      <td>NaN</td>\n",
       "      <td>NaN</td>\n",
       "      <td>NaN</td>\n",
       "      <td>NaN</td>\n",
       "      <td>NaN</td>\n",
       "      <td>NaN</td>\n",
       "      <td>NaN</td>\n",
       "      <td>NaN</td>\n",
       "      <td>NaN</td>\n",
       "    </tr>\n",
       "    <tr>\n",
       "      <th>4</th>\n",
       "      <td>Si3N4.xCeO2.ySiC</td>\n",
       "      <td>[{'name': 'NIST_SRD-30'}]</td>\n",
       "      <td>[Silicon nitride composite]</td>\n",
       "      <td>[{'name': 'Hot Pressing'}]</td>\n",
       "      <td>[{'citation': 'Effect of Silicon Carbide Whisk...</td>\n",
       "      <td>NaN</td>\n",
       "      <td>NaN</td>\n",
       "      <td>NaN</td>\n",
       "      <td>NaN</td>\n",
       "      <td>NaN</td>\n",
       "      <td>...</td>\n",
       "      <td>NaN</td>\n",
       "      <td>NaN</td>\n",
       "      <td>NaN</td>\n",
       "      <td>NaN</td>\n",
       "      <td>NaN</td>\n",
       "      <td>NaN</td>\n",
       "      <td>NaN</td>\n",
       "      <td>NaN</td>\n",
       "      <td>NaN</td>\n",
       "      <td>NaN</td>\n",
       "    </tr>\n",
       "    <tr>\n",
       "      <th>5</th>\n",
       "      <td>Si3N4</td>\n",
       "      <td>[{'name': 'NIST_SRD-30'}]</td>\n",
       "      <td>[Silicon nitride]</td>\n",
       "      <td>[{'name': 'Hot Isostatic Pressing'}]</td>\n",
       "      <td>[{'citation': 'Corrosion of Silicon Nitride Ce...</td>\n",
       "      <td>NaN</td>\n",
       "      <td>NaN</td>\n",
       "      <td>NaN</td>\n",
       "      <td>NaN</td>\n",
       "      <td>NaN</td>\n",
       "      <td>...</td>\n",
       "      <td>NaN</td>\n",
       "      <td>NaN</td>\n",
       "      <td>NaN</td>\n",
       "      <td>NaN</td>\n",
       "      <td>NaN</td>\n",
       "      <td>NaN</td>\n",
       "      <td>NaN</td>\n",
       "      <td>NaN</td>\n",
       "      <td>NaN</td>\n",
       "      <td>NaN</td>\n",
       "    </tr>\n",
       "  </tbody>\n",
       "</table>\n",
       "<p>5 rows × 161 columns</p>\n",
       "</div>"
      ],
      "text/plain": [
       "            chemicalFormula                   licenses  \\\n",
       "1                      SiO2  [{'name': 'NIST_SRD-30'}]   \n",
       "2  3Al2O3.2SiO2.xZrO2.yY2O3  [{'name': 'NIST_SRD-30'}]   \n",
       "3                     Al2O3  [{'name': 'NIST_SRD-30'}]   \n",
       "4          Si3N4.xCeO2.ySiC  [{'name': 'NIST_SRD-30'}]   \n",
       "5                     Si3N4  [{'name': 'NIST_SRD-30'}]   \n",
       "\n",
       "                         names                           preparation  \\\n",
       "1                     [Silica]                                   NaN   \n",
       "2          [Mullite composite]            [{'name': 'Hot Pressing'}]   \n",
       "3                    [Alumina]            [{'name': 'Hot Pressing'}]   \n",
       "4  [Silicon nitride composite]            [{'name': 'Hot Pressing'}]   \n",
       "5            [Silicon nitride]  [{'name': 'Hot Isostatic Pressing'}]   \n",
       "\n",
       "                                          references Axis Length  \\\n",
       "1  [{'citation': 'Gaseous Corrosion of Ceramics, ...         NaN   \n",
       "2  [{'citation': 'Thermal Diffusivity/Conductivit...         NaN   \n",
       "3  [{'citation': 'Mechanical Properties of Pure, ...         NaN   \n",
       "4  [{'citation': 'Effect of Silicon Carbide Whisk...         NaN   \n",
       "5  [{'citation': 'Corrosion of Silicon Nitride Ce...         NaN   \n",
       "\n",
       "  Axis Length-conditions Axis Length-units Bulk Modulus  \\\n",
       "1                    NaN               NaN          NaN   \n",
       "2                    NaN               NaN          NaN   \n",
       "3                    NaN               NaN          NaN   \n",
       "4                    NaN               NaN          NaN   \n",
       "5                    NaN               NaN          NaN   \n",
       "\n",
       "  Bulk Modulus-conditions          ...           Thermal Expansion-conditions  \\\n",
       "1                     NaN          ...                                    NaN   \n",
       "2                     NaN          ...                                    NaN   \n",
       "3                     NaN          ...                                    NaN   \n",
       "4                     NaN          ...                                    NaN   \n",
       "5                     NaN          ...                                    NaN   \n",
       "\n",
       "  Thermal Expansion-units Thermal Shock Resistance  \\\n",
       "1                     NaN                      NaN   \n",
       "2                     NaN                      NaN   \n",
       "3                     NaN                      NaN   \n",
       "4                     NaN                      NaN   \n",
       "5                     NaN                      NaN   \n",
       "\n",
       "  Thermal Shock Resistance-conditions Thermal Shock Resistance-units  \\\n",
       "1                                 NaN                            NaN   \n",
       "2                                 NaN                            NaN   \n",
       "3                                 NaN                            NaN   \n",
       "4                                 NaN                            NaN   \n",
       "5                                 NaN                            NaN   \n",
       "\n",
       "  Weibull Modulus Weibull Modulus-conditions Weibull Strength  \\\n",
       "1             NaN                        NaN              NaN   \n",
       "2             NaN                        NaN              NaN   \n",
       "3             NaN                        NaN              NaN   \n",
       "4             NaN                        NaN              NaN   \n",
       "5             NaN                        NaN              NaN   \n",
       "\n",
       "  Weibull Strength-conditions Weibull Strength-units  \n",
       "1                         NaN                    NaN  \n",
       "2                         NaN                    NaN  \n",
       "3                         NaN                    NaN  \n",
       "4                         NaN                    NaN  \n",
       "5                         NaN                    NaN  \n",
       "\n",
       "[5 rows x 161 columns]"
      ]
     },
     "execution_count": 2,
     "metadata": {},
     "output_type": "execute_result"
    }
   ],
   "source": [
    "df  = pd.read_pickle('../deliver/NIST_CeramicDataSet.pkl')\n",
    "df.head()"
   ]
  },
  {
   "cell_type": "markdown",
   "metadata": {},
   "source": [
    "## Composition parser via regular expression"
   ]
  },
  {
   "cell_type": "code",
   "execution_count": 3,
   "metadata": {},
   "outputs": [],
   "source": [
    "# Parse the chemicalFormula, v2\n",
    "# it cannot dealing leading parentheses well yet, such as  (3+x)Al2O3.(2-x)SiO2\n",
    "\n",
    "def cleanUp(formula): #modified from Chris's function: make_chem_form_compatible\n",
    "    \n",
    "    for bad_str in ['whisker', r'\\(([a-z]{3,}\\-?[a-z]{3,})\\)']:    # delete bad strings, (solidsolution), (two-phase)\n",
    "        formula = re.sub(bad_str, '', formula)\n",
    "        \n",
    "    formula = re.sub(r'\\$(.*?)\\$-', '', formula) # LaTeX expressions\n",
    "    formula = re.sub(r'Cordierite', 'Mg2Fe2Al4Si5O18', formula) #chemical formular for Cordierite\n",
    "    formula = re.sub(r'xSialon', 'Si2–xAlxO1+xN2–x', formula) #chemical formular for Sialon\n",
    "    \n",
    "    return formula\n",
    "\n",
    "def formula_decompose(formula):\n",
    "    '''\n",
    "    decompose chemical formula \n",
    "    return\n",
    "        composition: list, [(element,num),...]\n",
    "            element: string\n",
    "            num: string, can be math expression such as '1+0.5x'\n",
    "    '''\n",
    "\n",
    "    comp = []\n",
    "\n",
    "    formula = cleanUp(formula)\n",
    "    \n",
    "    # recognize (prefactor)(elements)(numbers)\n",
    "    # for example: 2Al2O3 is recognized as 4Al and 6O\n",
    "    p = re.compile(r'(\\d?[w-z]?)([A-Z][a-u]?)(\\d*\\+?\\-?\\d*\\.?\\d*[w-z]?)')\n",
    "\n",
    "    #split the chemical formula if there is dots, but not for cases like Mg1.5x\n",
    "    if re.search(r'\\.', formula) and not re.search(r'\\d+\\.\\d[w-z]', formula): \n",
    "        formula = formula.split('.')\n",
    "        for item in formula:\n",
    "            prefactor = '1'\n",
    "            for i in re.findall(p, item):\n",
    "                pre, elem, num = i\n",
    "                if pre:\n",
    "                    prefactor = pre\n",
    "                if num == '':\n",
    "                    num = '1'\n",
    "                num = prefactor + '*({})'.format(num)\n",
    "                comp.append((elem, num))\n",
    "    else:\n",
    "        prefactor = '1'\n",
    "        for i in re.findall(p, formula):\n",
    "            pre, elem, num = i\n",
    "            if pre:\n",
    "                prefactor = pre\n",
    "            if num == '':\n",
    "                num = '1'\n",
    "            num = prefactor + '*({})'.format(num)\n",
    "            comp.append((elem, num))\n",
    "    return comp \n",
    "\n",
    "def formula_reconstruct(composition, x=0.1, y=0.1, z=0.1, w=0.1):\n",
    "    '''\n",
    "    reconstruct chemical formula from composition\n",
    "    composition in form of [(element,num), (element,num),...]\n",
    "        element: string\n",
    "        num: string, can be math expression such as '1+0.5x'\n",
    "\n",
    "    return \n",
    "        flat chemcial formula: string, such as 'Ti1.5Cu0.1Au1.0'\n",
    "    '''\n",
    "    flat_list = []\n",
    "    for (elem, num) in composition:\n",
    "        num = re.sub(r'(\\d)([w-z])', r'\\1*\\2', num) #convert 5x to 5*x\n",
    "        flat_list.append(elem)\n",
    "        flat_list.append(format(eval(num), '.1f'))\n",
    "    return ''.join(flat_list)\n",
    "  \n",
    "def formula_parser(formula):\n",
    "    return formula_reconstruct(formula_decompose(formula))"
   ]
  },
  {
   "cell_type": "markdown",
   "metadata": {},
   "source": [
    "##  Manually Clean up Data Set"
   ]
  },
  {
   "cell_type": "code",
   "execution_count": 4,
   "metadata": {},
   "outputs": [
    {
     "name": "stdout",
     "output_type": "stream",
     "text": [
      "1185: 3.16 (1%)\n",
      "2696: Si3N4.x(BaOY2O3)\n",
      "3892: B-N\n",
      "3863: ^(13)C\n",
      "2902: (3+x)Al2O3.(2-x)SiO2 ------leading parentheses cannot be parsed correctly yet\n"
     ]
    }
   ],
   "source": [
    "# problematic entries\n",
    "print('1185: ' + df.loc[1185,'Density'])\n",
    "print('2696: ' + df.loc[2696, \"chemicalFormula\"])\n",
    "print('3892: ' + df.loc[3892,\"chemicalFormula\"])\n",
    "print('3863: ' + df.loc[3863, \"chemicalFormula\"])\n",
    "\n",
    "# need to modify parser to take care of leading parentheses\n",
    "print('2902: ' + df.loc[2902, \"chemicalFormula\"] + ' ------leading parentheses cannot be parsed correctly yet')"
   ]
  },
  {
   "cell_type": "code",
   "execution_count": 5,
   "metadata": {},
   "outputs": [],
   "source": [
    "# update chemicalFormula by manually clean-up\n",
    "df.loc[1185,\"Density\"] = '3.16'\n",
    "df.loc[2696,\"chemicalFormula\"] = 'Si3N4.xBaOY2O3'\n",
    "df.loc[3892,\"chemicalFormula\"] = 'BN'\n",
    "df.loc[3863,\"chemicalFormula\"] = 'C'\n",
    "# update chemicalFormula with cleanUp function\n",
    "df[\"chemicalFormula\"] = df[\"chemicalFormula\"].map(cleanUp)"
   ]
  },
  {
   "cell_type": "markdown",
   "metadata": {},
   "source": [
    "## DataFrame with new features"
   ]
  },
  {
   "cell_type": "code",
   "execution_count": 6,
   "metadata": {},
   "outputs": [
    {
     "data": {
      "text/plain": [
       "(4098, 163)"
      ]
     },
     "execution_count": 6,
     "metadata": {},
     "output_type": "execute_result"
    }
   ],
   "source": [
    "# create composition feature based on parsed formula\n",
    "df[\"flatFormula\"] = df[\"chemicalFormula\"].map(formula_parser)\n",
    "df[\"composition\"] =df[\"flatFormula\"].transform(str_to_composition)\n",
    "df.shape"
   ]
  },
  {
   "cell_type": "markdown",
   "metadata": {},
   "source": [
    "### add features based on composition (composition with floats)"
   ]
  },
  {
   "cell_type": "code",
   "execution_count": 7,
   "metadata": {},
   "outputs": [
    {
     "data": {
      "text/plain": [
       "(4098, 295)"
      ]
     },
     "execution_count": 7,
     "metadata": {},
     "output_type": "execute_result"
    }
   ],
   "source": [
    "# element property \n",
    "ep_feat = composition.ElementProperty.from_preset(preset_name=\"magpie\")\n",
    "df = ep_feat.featurize_dataframe(df, col_id=\"composition\", ignore_errors=True)# input the \"composition\" column to the featurizer\n",
    "df.shape"
   ]
  },
  {
   "cell_type": "code",
   "execution_count": 8,
   "metadata": {},
   "outputs": [
    {
     "data": {
      "text/plain": [
       "(4098, 302)"
      ]
     },
     "execution_count": 8,
     "metadata": {},
     "output_type": "execute_result"
    }
   ],
   "source": [
    "# atomic orbitals\n",
    "ao_feat = composition.AtomicOrbitals()\n",
    "df = ao_feat.featurize_dataframe(df, col_id=\"composition\", ignore_errors=True)  \n",
    "df.shape"
   ]
  },
  {
   "cell_type": "code",
   "execution_count": 9,
   "metadata": {},
   "outputs": [
    {
     "data": {
      "text/plain": [
       "(4098, 303)"
      ]
     },
     "execution_count": 9,
     "metadata": {},
     "output_type": "execute_result"
    }
   ],
   "source": [
    "# band center\n",
    "bc_feat  = composition.BandCenter()\n",
    "df = bc_feat.featurize_dataframe(df, col_id=\"composition\", ignore_errors=True) \n",
    "df.shape"
   ]
  },
  {
   "cell_type": "code",
   "execution_count": 10,
   "metadata": {},
   "outputs": [
    {
     "data": {
      "text/plain": [
       "(4098, 304)"
      ]
     },
     "execution_count": 10,
     "metadata": {},
     "output_type": "execute_result"
    }
   ],
   "source": [
    "# miedema\n",
    "m_feat  = composition.Miedema()\n",
    "df = m_feat.featurize_dataframe(df, col_id=\"composition\", ignore_errors=True) \n",
    "df.shape"
   ]
  },
  {
   "cell_type": "code",
   "execution_count": 11,
   "metadata": {},
   "outputs": [
    {
     "data": {
      "text/plain": [
       "(4098, 310)"
      ]
     },
     "execution_count": 11,
     "metadata": {},
     "output_type": "execute_result"
    }
   ],
   "source": [
    "# stoichiometry\n",
    "s_feat  = composition.Stoichiometry()\n",
    "df = s_feat.featurize_dataframe(df, col_id=\"composition\", ignore_errors=True) \n",
    "df.shape"
   ]
  },
  {
   "cell_type": "code",
   "execution_count": 12,
   "metadata": {},
   "outputs": [
    {
     "data": {
      "text/plain": [
       "(4098, 311)"
      ]
     },
     "execution_count": 12,
     "metadata": {},
     "output_type": "execute_result"
    }
   ],
   "source": [
    "# t metal fraction\n",
    "tmf_feat  = composition.TMetalFraction()\n",
    "df = tmf_feat.featurize_dataframe(df, col_id=\"composition\", ignore_errors=True) \n",
    "df.shape"
   ]
  },
  {
   "cell_type": "code",
   "execution_count": 13,
   "metadata": {},
   "outputs": [
    {
     "data": {
      "text/plain": [
       "(4098, 319)"
      ]
     },
     "execution_count": 13,
     "metadata": {},
     "output_type": "execute_result"
    }
   ],
   "source": [
    "# valence orbital\n",
    "vo_feat  = composition.ValenceOrbital()\n",
    "df = vo_feat.featurize_dataframe(df, col_id=\"composition\", ignore_errors=True) \n",
    "df.shape"
   ]
  },
  {
   "cell_type": "code",
   "execution_count": 14,
   "metadata": {},
   "outputs": [
    {
     "data": {
      "text/plain": [
       "(4098, 321)"
      ]
     },
     "execution_count": 14,
     "metadata": {},
     "output_type": "execute_result"
    }
   ],
   "source": [
    "# yang solid solution\n",
    "yss_feat  = composition.YangSolidSolution()\n",
    "df = yss_feat.featurize_dataframe(df, col_id=\"composition\", ignore_errors=True) \n",
    "df.shape"
   ]
  },
  {
   "cell_type": "code",
   "execution_count": 15,
   "metadata": {},
   "outputs": [
    {
     "data": {
      "text/html": [
       "<div>\n",
       "<style scoped>\n",
       "    .dataframe tbody tr th:only-of-type {\n",
       "        vertical-align: middle;\n",
       "    }\n",
       "\n",
       "    .dataframe tbody tr th {\n",
       "        vertical-align: top;\n",
       "    }\n",
       "\n",
       "    .dataframe thead th {\n",
       "        text-align: right;\n",
       "    }\n",
       "</style>\n",
       "<table border=\"1\" class=\"dataframe\">\n",
       "  <thead>\n",
       "    <tr style=\"text-align: right;\">\n",
       "      <th></th>\n",
       "      <th>chemicalFormula</th>\n",
       "      <th>licenses</th>\n",
       "      <th>names</th>\n",
       "      <th>preparation</th>\n",
       "      <th>references</th>\n",
       "      <th>Axis Length</th>\n",
       "      <th>Axis Length-conditions</th>\n",
       "      <th>Axis Length-units</th>\n",
       "      <th>Bulk Modulus</th>\n",
       "      <th>Bulk Modulus-conditions</th>\n",
       "      <th>...</th>\n",
       "      <th>avg s valence electrons</th>\n",
       "      <th>avg p valence electrons</th>\n",
       "      <th>avg d valence electrons</th>\n",
       "      <th>avg f valence electrons</th>\n",
       "      <th>frac s valence electrons</th>\n",
       "      <th>frac p valence electrons</th>\n",
       "      <th>frac d valence electrons</th>\n",
       "      <th>frac f valence electrons</th>\n",
       "      <th>Yang omega</th>\n",
       "      <th>Yang delta</th>\n",
       "    </tr>\n",
       "  </thead>\n",
       "  <tbody>\n",
       "    <tr>\n",
       "      <th>1</th>\n",
       "      <td>SiO2</td>\n",
       "      <td>[{'name': 'NIST_SRD-30'}]</td>\n",
       "      <td>[Silica]</td>\n",
       "      <td>NaN</td>\n",
       "      <td>[{'citation': 'Gaseous Corrosion of Ceramics, ...</td>\n",
       "      <td>NaN</td>\n",
       "      <td>NaN</td>\n",
       "      <td>NaN</td>\n",
       "      <td>NaN</td>\n",
       "      <td>NaN</td>\n",
       "      <td>...</td>\n",
       "      <td>2.0</td>\n",
       "      <td>3.333333</td>\n",
       "      <td>0.000000</td>\n",
       "      <td>0.000000</td>\n",
       "      <td>0.375000</td>\n",
       "      <td>0.625000</td>\n",
       "      <td>0.000000</td>\n",
       "      <td>0.000000</td>\n",
       "      <td>NaN</td>\n",
       "      <td>0.273335</td>\n",
       "    </tr>\n",
       "    <tr>\n",
       "      <th>2</th>\n",
       "      <td>3Al2O3.2SiO2.xZrO2.yY2O3</td>\n",
       "      <td>[{'name': 'NIST_SRD-30'}]</td>\n",
       "      <td>[Mullite composite]</td>\n",
       "      <td>[{'name': 'Hot Pressing'}]</td>\n",
       "      <td>[{'citation': 'Thermal Diffusivity/Conductivit...</td>\n",
       "      <td>NaN</td>\n",
       "      <td>NaN</td>\n",
       "      <td>NaN</td>\n",
       "      <td>NaN</td>\n",
       "      <td>NaN</td>\n",
       "      <td>...</td>\n",
       "      <td>2.0</td>\n",
       "      <td>2.935780</td>\n",
       "      <td>0.018349</td>\n",
       "      <td>0.000000</td>\n",
       "      <td>0.403704</td>\n",
       "      <td>0.592593</td>\n",
       "      <td>0.003704</td>\n",
       "      <td>0.000000</td>\n",
       "      <td>NaN</td>\n",
       "      <td>0.391165</td>\n",
       "    </tr>\n",
       "    <tr>\n",
       "      <th>3</th>\n",
       "      <td>Al2O3</td>\n",
       "      <td>[{'name': 'NIST_SRD-30'}]</td>\n",
       "      <td>[Alumina]</td>\n",
       "      <td>[{'name': 'Hot Pressing'}]</td>\n",
       "      <td>[{'citation': 'Mechanical Properties of Pure, ...</td>\n",
       "      <td>NaN</td>\n",
       "      <td>NaN</td>\n",
       "      <td>NaN</td>\n",
       "      <td>NaN</td>\n",
       "      <td>NaN</td>\n",
       "      <td>...</td>\n",
       "      <td>2.0</td>\n",
       "      <td>2.800000</td>\n",
       "      <td>0.000000</td>\n",
       "      <td>0.000000</td>\n",
       "      <td>0.416667</td>\n",
       "      <td>0.583333</td>\n",
       "      <td>0.000000</td>\n",
       "      <td>0.000000</td>\n",
       "      <td>NaN</td>\n",
       "      <td>0.397913</td>\n",
       "    </tr>\n",
       "    <tr>\n",
       "      <th>4</th>\n",
       "      <td>Si3N4.xCeO2.ySiC</td>\n",
       "      <td>[{'name': 'NIST_SRD-30'}]</td>\n",
       "      <td>[Silicon nitride composite]</td>\n",
       "      <td>[{'name': 'Hot Pressing'}]</td>\n",
       "      <td>[{'citation': 'Effect of Silicon Carbide Whisk...</td>\n",
       "      <td>NaN</td>\n",
       "      <td>NaN</td>\n",
       "      <td>NaN</td>\n",
       "      <td>NaN</td>\n",
       "      <td>NaN</td>\n",
       "      <td>...</td>\n",
       "      <td>2.0</td>\n",
       "      <td>2.560000</td>\n",
       "      <td>0.013333</td>\n",
       "      <td>0.013333</td>\n",
       "      <td>0.436047</td>\n",
       "      <td>0.558140</td>\n",
       "      <td>0.002907</td>\n",
       "      <td>0.002907</td>\n",
       "      <td>NaN</td>\n",
       "      <td>0.243599</td>\n",
       "    </tr>\n",
       "    <tr>\n",
       "      <th>5</th>\n",
       "      <td>Si3N4</td>\n",
       "      <td>[{'name': 'NIST_SRD-30'}]</td>\n",
       "      <td>[Silicon nitride]</td>\n",
       "      <td>[{'name': 'Hot Isostatic Pressing'}]</td>\n",
       "      <td>[{'citation': 'Corrosion of Silicon Nitride Ce...</td>\n",
       "      <td>NaN</td>\n",
       "      <td>NaN</td>\n",
       "      <td>NaN</td>\n",
       "      <td>NaN</td>\n",
       "      <td>NaN</td>\n",
       "      <td>...</td>\n",
       "      <td>2.0</td>\n",
       "      <td>2.571429</td>\n",
       "      <td>0.000000</td>\n",
       "      <td>0.000000</td>\n",
       "      <td>0.437500</td>\n",
       "      <td>0.562500</td>\n",
       "      <td>0.000000</td>\n",
       "      <td>0.000000</td>\n",
       "      <td>0.054313</td>\n",
       "      <td>0.213003</td>\n",
       "    </tr>\n",
       "  </tbody>\n",
       "</table>\n",
       "<p>5 rows × 321 columns</p>\n",
       "</div>"
      ],
      "text/plain": [
       "            chemicalFormula                   licenses  \\\n",
       "1                      SiO2  [{'name': 'NIST_SRD-30'}]   \n",
       "2  3Al2O3.2SiO2.xZrO2.yY2O3  [{'name': 'NIST_SRD-30'}]   \n",
       "3                     Al2O3  [{'name': 'NIST_SRD-30'}]   \n",
       "4          Si3N4.xCeO2.ySiC  [{'name': 'NIST_SRD-30'}]   \n",
       "5                     Si3N4  [{'name': 'NIST_SRD-30'}]   \n",
       "\n",
       "                         names                           preparation  \\\n",
       "1                     [Silica]                                   NaN   \n",
       "2          [Mullite composite]            [{'name': 'Hot Pressing'}]   \n",
       "3                    [Alumina]            [{'name': 'Hot Pressing'}]   \n",
       "4  [Silicon nitride composite]            [{'name': 'Hot Pressing'}]   \n",
       "5            [Silicon nitride]  [{'name': 'Hot Isostatic Pressing'}]   \n",
       "\n",
       "                                          references Axis Length  \\\n",
       "1  [{'citation': 'Gaseous Corrosion of Ceramics, ...         NaN   \n",
       "2  [{'citation': 'Thermal Diffusivity/Conductivit...         NaN   \n",
       "3  [{'citation': 'Mechanical Properties of Pure, ...         NaN   \n",
       "4  [{'citation': 'Effect of Silicon Carbide Whisk...         NaN   \n",
       "5  [{'citation': 'Corrosion of Silicon Nitride Ce...         NaN   \n",
       "\n",
       "  Axis Length-conditions Axis Length-units Bulk Modulus  \\\n",
       "1                    NaN               NaN          NaN   \n",
       "2                    NaN               NaN          NaN   \n",
       "3                    NaN               NaN          NaN   \n",
       "4                    NaN               NaN          NaN   \n",
       "5                    NaN               NaN          NaN   \n",
       "\n",
       "  Bulk Modulus-conditions    ...     avg s valence electrons  \\\n",
       "1                     NaN    ...                         2.0   \n",
       "2                     NaN    ...                         2.0   \n",
       "3                     NaN    ...                         2.0   \n",
       "4                     NaN    ...                         2.0   \n",
       "5                     NaN    ...                         2.0   \n",
       "\n",
       "  avg p valence electrons avg d valence electrons avg f valence electrons  \\\n",
       "1                3.333333                0.000000                0.000000   \n",
       "2                2.935780                0.018349                0.000000   \n",
       "3                2.800000                0.000000                0.000000   \n",
       "4                2.560000                0.013333                0.013333   \n",
       "5                2.571429                0.000000                0.000000   \n",
       "\n",
       "  frac s valence electrons frac p valence electrons frac d valence electrons  \\\n",
       "1                 0.375000                 0.625000                 0.000000   \n",
       "2                 0.403704                 0.592593                 0.003704   \n",
       "3                 0.416667                 0.583333                 0.000000   \n",
       "4                 0.436047                 0.558140                 0.002907   \n",
       "5                 0.437500                 0.562500                 0.000000   \n",
       "\n",
       "  frac f valence electrons Yang omega Yang delta  \n",
       "1                 0.000000        NaN   0.273335  \n",
       "2                 0.000000        NaN   0.391165  \n",
       "3                 0.000000        NaN   0.397913  \n",
       "4                 0.002907        NaN   0.243599  \n",
       "5                 0.000000   0.054313   0.213003  \n",
       "\n",
       "[5 rows x 321 columns]"
      ]
     },
     "execution_count": 15,
     "metadata": {},
     "output_type": "execute_result"
    }
   ],
   "source": [
    "df.head()"
   ]
  },
  {
   "cell_type": "code",
   "execution_count": null,
   "metadata": {},
   "outputs": [],
   "source": []
  },
  {
   "cell_type": "markdown",
   "metadata": {},
   "source": [
    "## the following three feature-generators also work; however...\n",
    "- calculation of cohesive energy takes a long time\n",
    "- calculation of atomic packing efficiency takes a  really really long time\n",
    "- element fraction adds a lot of null columns. we might not need this"
   ]
  },
  {
   "cell_type": "code",
   "execution_count": null,
   "metadata": {},
   "outputs": [],
   "source": [
    "# cohesive energy\n",
    "# long calculation time\n",
    "ce_feat  = composition.CohesiveEnergy()\n",
    "df = ce_feat.featurize_dataframe(df, col_id=\"composition\", ignore_errors=True) \n",
    "df.shape"
   ]
  },
  {
   "cell_type": "code",
   "execution_count": null,
   "metadata": {},
   "outputs": [],
   "source": [
    "# atomic packing efficiency\n",
    "# very very long calculation time\n",
    "ape_feat  = composition.AtomicPackingEfficiency()\n",
    "df = ape_feat.featurize_dataframe(df, col_id=\"composition\", ignore_errors=True) \n",
    "df.shape"
   ]
  },
  {
   "cell_type": "code",
   "execution_count": null,
   "metadata": {},
   "outputs": [],
   "source": [
    "# element fraction\n",
    "# It adds a lot null columns of elements\n",
    "ef_feat  = composition.ElementFraction()\n",
    "df = ef_feat.featurize_dataframe(df, col_id=\"composition\", ignore_errors=True) \n",
    "df.shape"
   ]
  }
 ],
 "metadata": {
  "kernelspec": {
   "display_name": "Python 3",
   "language": "python",
   "name": "python3"
  },
  "language_info": {
   "codemirror_mode": {
    "name": "ipython",
    "version": 3
   },
   "file_extension": ".py",
   "mimetype": "text/x-python",
   "name": "python",
   "nbconvert_exporter": "python",
   "pygments_lexer": "ipython3",
   "version": "3.5.5"
  }
 },
 "nbformat": 4,
 "nbformat_minor": 2
}
