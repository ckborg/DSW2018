{
 "cells": [
  {
   "cell_type": "code",
   "execution_count": 53,
   "metadata": {
    "collapsed": true
   },
   "outputs": [],
   "source": [
    "import numpy as np\n",
    "import pandas as pd\n",
    "import matplotlib.pyplot as plt\n",
    "import re\n",
    "\n",
    "from matminer.utils.conversions import str_to_composition\n",
    "from matminer.featurizers.composition import ElementProperty\n",
    "from matminer.featurizers.composition import ElementFraction"
   ]
  },
  {
   "cell_type": "code",
   "execution_count": 2,
   "metadata": {},
   "outputs": [
    {
     "data": {
      "text/html": [
       "<div>\n",
       "<style>\n",
       "    .dataframe thead tr:only-child th {\n",
       "        text-align: right;\n",
       "    }\n",
       "\n",
       "    .dataframe thead th {\n",
       "        text-align: left;\n",
       "    }\n",
       "\n",
       "    .dataframe tbody tr th {\n",
       "        vertical-align: top;\n",
       "    }\n",
       "</style>\n",
       "<table border=\"1\" class=\"dataframe\">\n",
       "  <thead>\n",
       "    <tr style=\"text-align: right;\">\n",
       "      <th></th>\n",
       "      <th>chemicalFormula</th>\n",
       "      <th>licenses</th>\n",
       "      <th>names</th>\n",
       "      <th>preparation</th>\n",
       "      <th>references</th>\n",
       "      <th>Axis Length</th>\n",
       "      <th>Axis Length-conditions</th>\n",
       "      <th>Axis Length-units</th>\n",
       "      <th>Bulk Modulus</th>\n",
       "      <th>Bulk Modulus-conditions</th>\n",
       "      <th>...</th>\n",
       "      <th>Thermal Expansion-conditions</th>\n",
       "      <th>Thermal Expansion-units</th>\n",
       "      <th>Thermal Shock Resistance</th>\n",
       "      <th>Thermal Shock Resistance-conditions</th>\n",
       "      <th>Thermal Shock Resistance-units</th>\n",
       "      <th>Weibull Modulus</th>\n",
       "      <th>Weibull Modulus-conditions</th>\n",
       "      <th>Weibull Strength</th>\n",
       "      <th>Weibull Strength-conditions</th>\n",
       "      <th>Weibull Strength-units</th>\n",
       "    </tr>\n",
       "  </thead>\n",
       "  <tbody>\n",
       "    <tr>\n",
       "      <th>1</th>\n",
       "      <td>SiO2</td>\n",
       "      <td>[{'name': 'NIST_SRD-30'}]</td>\n",
       "      <td>[Silica]</td>\n",
       "      <td>NaN</td>\n",
       "      <td>[{'citation': 'Gaseous Corrosion of Ceramics, ...</td>\n",
       "      <td>NaN</td>\n",
       "      <td>NaN</td>\n",
       "      <td>NaN</td>\n",
       "      <td>NaN</td>\n",
       "      <td>NaN</td>\n",
       "      <td>...</td>\n",
       "      <td>NaN</td>\n",
       "      <td>NaN</td>\n",
       "      <td>NaN</td>\n",
       "      <td>NaN</td>\n",
       "      <td>NaN</td>\n",
       "      <td>NaN</td>\n",
       "      <td>NaN</td>\n",
       "      <td>NaN</td>\n",
       "      <td>NaN</td>\n",
       "      <td>NaN</td>\n",
       "    </tr>\n",
       "    <tr>\n",
       "      <th>2</th>\n",
       "      <td>3Al2O3.2SiO2.xZrO2.yY2O3</td>\n",
       "      <td>[{'name': 'NIST_SRD-30'}]</td>\n",
       "      <td>[Mullite composite]</td>\n",
       "      <td>[{'name': 'Hot Pressing'}]</td>\n",
       "      <td>[{'citation': 'Thermal Diffusivity/Conductivit...</td>\n",
       "      <td>NaN</td>\n",
       "      <td>NaN</td>\n",
       "      <td>NaN</td>\n",
       "      <td>NaN</td>\n",
       "      <td>NaN</td>\n",
       "      <td>...</td>\n",
       "      <td>NaN</td>\n",
       "      <td>NaN</td>\n",
       "      <td>NaN</td>\n",
       "      <td>NaN</td>\n",
       "      <td>NaN</td>\n",
       "      <td>NaN</td>\n",
       "      <td>NaN</td>\n",
       "      <td>NaN</td>\n",
       "      <td>NaN</td>\n",
       "      <td>NaN</td>\n",
       "    </tr>\n",
       "    <tr>\n",
       "      <th>3</th>\n",
       "      <td>Al2O3</td>\n",
       "      <td>[{'name': 'NIST_SRD-30'}]</td>\n",
       "      <td>[Alumina]</td>\n",
       "      <td>[{'name': 'Hot Pressing'}]</td>\n",
       "      <td>[{'citation': 'Mechanical Properties of Pure, ...</td>\n",
       "      <td>NaN</td>\n",
       "      <td>NaN</td>\n",
       "      <td>NaN</td>\n",
       "      <td>NaN</td>\n",
       "      <td>NaN</td>\n",
       "      <td>...</td>\n",
       "      <td>NaN</td>\n",
       "      <td>NaN</td>\n",
       "      <td>NaN</td>\n",
       "      <td>NaN</td>\n",
       "      <td>NaN</td>\n",
       "      <td>NaN</td>\n",
       "      <td>NaN</td>\n",
       "      <td>NaN</td>\n",
       "      <td>NaN</td>\n",
       "      <td>NaN</td>\n",
       "    </tr>\n",
       "    <tr>\n",
       "      <th>4</th>\n",
       "      <td>Si3N4.xCeO2.ySiC</td>\n",
       "      <td>[{'name': 'NIST_SRD-30'}]</td>\n",
       "      <td>[Silicon nitride composite]</td>\n",
       "      <td>[{'name': 'Hot Pressing'}]</td>\n",
       "      <td>[{'citation': 'Effect of Silicon Carbide Whisk...</td>\n",
       "      <td>NaN</td>\n",
       "      <td>NaN</td>\n",
       "      <td>NaN</td>\n",
       "      <td>NaN</td>\n",
       "      <td>NaN</td>\n",
       "      <td>...</td>\n",
       "      <td>NaN</td>\n",
       "      <td>NaN</td>\n",
       "      <td>NaN</td>\n",
       "      <td>NaN</td>\n",
       "      <td>NaN</td>\n",
       "      <td>NaN</td>\n",
       "      <td>NaN</td>\n",
       "      <td>NaN</td>\n",
       "      <td>NaN</td>\n",
       "      <td>NaN</td>\n",
       "    </tr>\n",
       "    <tr>\n",
       "      <th>5</th>\n",
       "      <td>Si3N4</td>\n",
       "      <td>[{'name': 'NIST_SRD-30'}]</td>\n",
       "      <td>[Silicon nitride]</td>\n",
       "      <td>[{'name': 'Hot Isostatic Pressing'}]</td>\n",
       "      <td>[{'citation': 'Corrosion of Silicon Nitride Ce...</td>\n",
       "      <td>NaN</td>\n",
       "      <td>NaN</td>\n",
       "      <td>NaN</td>\n",
       "      <td>NaN</td>\n",
       "      <td>NaN</td>\n",
       "      <td>...</td>\n",
       "      <td>NaN</td>\n",
       "      <td>NaN</td>\n",
       "      <td>NaN</td>\n",
       "      <td>NaN</td>\n",
       "      <td>NaN</td>\n",
       "      <td>NaN</td>\n",
       "      <td>NaN</td>\n",
       "      <td>NaN</td>\n",
       "      <td>NaN</td>\n",
       "      <td>NaN</td>\n",
       "    </tr>\n",
       "  </tbody>\n",
       "</table>\n",
       "<p>5 rows × 161 columns</p>\n",
       "</div>"
      ],
      "text/plain": [
       "            chemicalFormula                   licenses  \\\n",
       "1                      SiO2  [{'name': 'NIST_SRD-30'}]   \n",
       "2  3Al2O3.2SiO2.xZrO2.yY2O3  [{'name': 'NIST_SRD-30'}]   \n",
       "3                     Al2O3  [{'name': 'NIST_SRD-30'}]   \n",
       "4          Si3N4.xCeO2.ySiC  [{'name': 'NIST_SRD-30'}]   \n",
       "5                     Si3N4  [{'name': 'NIST_SRD-30'}]   \n",
       "\n",
       "                         names                           preparation  \\\n",
       "1                     [Silica]                                   NaN   \n",
       "2          [Mullite composite]            [{'name': 'Hot Pressing'}]   \n",
       "3                    [Alumina]            [{'name': 'Hot Pressing'}]   \n",
       "4  [Silicon nitride composite]            [{'name': 'Hot Pressing'}]   \n",
       "5            [Silicon nitride]  [{'name': 'Hot Isostatic Pressing'}]   \n",
       "\n",
       "                                          references Axis Length  \\\n",
       "1  [{'citation': 'Gaseous Corrosion of Ceramics, ...         NaN   \n",
       "2  [{'citation': 'Thermal Diffusivity/Conductivit...         NaN   \n",
       "3  [{'citation': 'Mechanical Properties of Pure, ...         NaN   \n",
       "4  [{'citation': 'Effect of Silicon Carbide Whisk...         NaN   \n",
       "5  [{'citation': 'Corrosion of Silicon Nitride Ce...         NaN   \n",
       "\n",
       "  Axis Length-conditions Axis Length-units Bulk Modulus  \\\n",
       "1                    NaN               NaN          NaN   \n",
       "2                    NaN               NaN          NaN   \n",
       "3                    NaN               NaN          NaN   \n",
       "4                    NaN               NaN          NaN   \n",
       "5                    NaN               NaN          NaN   \n",
       "\n",
       "  Bulk Modulus-conditions          ...           Thermal Expansion-conditions  \\\n",
       "1                     NaN          ...                                    NaN   \n",
       "2                     NaN          ...                                    NaN   \n",
       "3                     NaN          ...                                    NaN   \n",
       "4                     NaN          ...                                    NaN   \n",
       "5                     NaN          ...                                    NaN   \n",
       "\n",
       "  Thermal Expansion-units Thermal Shock Resistance  \\\n",
       "1                     NaN                      NaN   \n",
       "2                     NaN                      NaN   \n",
       "3                     NaN                      NaN   \n",
       "4                     NaN                      NaN   \n",
       "5                     NaN                      NaN   \n",
       "\n",
       "  Thermal Shock Resistance-conditions Thermal Shock Resistance-units  \\\n",
       "1                                 NaN                            NaN   \n",
       "2                                 NaN                            NaN   \n",
       "3                                 NaN                            NaN   \n",
       "4                                 NaN                            NaN   \n",
       "5                                 NaN                            NaN   \n",
       "\n",
       "  Weibull Modulus Weibull Modulus-conditions Weibull Strength  \\\n",
       "1             NaN                        NaN              NaN   \n",
       "2             NaN                        NaN              NaN   \n",
       "3             NaN                        NaN              NaN   \n",
       "4             NaN                        NaN              NaN   \n",
       "5             NaN                        NaN              NaN   \n",
       "\n",
       "  Weibull Strength-conditions Weibull Strength-units  \n",
       "1                         NaN                    NaN  \n",
       "2                         NaN                    NaN  \n",
       "3                         NaN                    NaN  \n",
       "4                         NaN                    NaN  \n",
       "5                         NaN                    NaN  \n",
       "\n",
       "[5 rows x 161 columns]"
      ]
     },
     "execution_count": 2,
     "metadata": {},
     "output_type": "execute_result"
    }
   ],
   "source": [
    "df  = pd.read_pickle('../deliver/NIST_CeramicDataSet.pkl')\n",
    "df.head()"
   ]
  },
  {
   "cell_type": "markdown",
   "metadata": {},
   "source": [
    "# Prepare dataset"
   ]
  },
  {
   "cell_type": "markdown",
   "metadata": {},
   "source": [
    "### Drop non-density materials"
   ]
  },
  {
   "cell_type": "code",
   "execution_count": 27,
   "metadata": {},
   "outputs": [],
   "source": [
    "# New DataFrame containing only samples with a density value\n",
    "df = df[df.isnull()['Density'] == False]"
   ]
  },
  {
   "cell_type": "code",
   "execution_count": 28,
   "metadata": {},
   "outputs": [
    {
     "data": {
      "text/plain": [
       "(398, 161)"
      ]
     },
     "execution_count": 28,
     "metadata": {},
     "output_type": "execute_result"
    }
   ],
   "source": [
    "df.shape"
   ]
  },
  {
   "cell_type": "code",
   "execution_count": 29,
   "metadata": {},
   "outputs": [
    {
     "data": {
      "image/png": "[encoded data removed]",
      "text/plain": [
       "<matplotlib.figure.Figure at 0x116e75978>"
      ]
     },
     "metadata": {},
     "output_type": "display_data"
    }
   ],
   "source": [
    "# Plot occurrence of features of the reduced dataset\n",
    "df.count().sort_values()[-17:].plot.barh()\n",
    "plt.show()"
   ]
  },
  {
   "cell_type": "code",
   "execution_count": 30,
   "metadata": {},
   "outputs": [],
   "source": [
    "# Drop all columns that contain less than 300 entries \n",
    "# (crystallinity is only features left with NaN)\n",
    "df = df.dropna(axis=1, thresh=300)"
   ]
  },
  {
   "cell_type": "markdown",
   "metadata": {},
   "source": [
    "### Clean up columns"
   ]
  },
  {
   "cell_type": "markdown",
   "metadata": {},
   "source": [
    "#### Check if all density units are the same"
   ]
  },
  {
   "cell_type": "code",
   "execution_count": 31,
   "metadata": {},
   "outputs": [
    {
     "data": {
      "text/plain": [
       "array(['g cm$^{-3}$'], dtype=object)"
      ]
     },
     "execution_count": 31,
     "metadata": {},
     "output_type": "execute_result"
    }
   ],
   "source": [
    "# Check if all density units are the same, in which case we don't need the units.\n",
    "df['Density-units'].unique()"
   ]
  },
  {
   "cell_type": "markdown",
   "metadata": {},
   "source": [
    "#### Fill missing crystallinity values"
   ]
  },
  {
   "cell_type": "code",
   "execution_count": 33,
   "metadata": {},
   "outputs": [
    {
     "name": "stdout",
     "output_type": "stream",
     "text": [
      "Polycrystalline: (354,), Single crystal: (27,)\n"
     ]
    }
   ],
   "source": [
    "# Determine number of polycrystalline / single crystal samples\n",
    "N_polyX = df[df['Crystallinity']=='Polycrystalline']['Crystallinity'].shape\n",
    "N_singleX = df[df['Crystallinity']=='Single Crystal']['Crystallinity'].shape\n",
    "print('Polycrystalline: {0}, Single crystal: {1}'.format(N_polyX, N_singleX))"
   ]
  },
  {
   "cell_type": "code",
   "execution_count": 34,
   "metadata": {},
   "outputs": [],
   "source": [
    "#Fill NaN values in crystallinity with polycrystalline:\n",
    "df['Crystallinity'] = df['Crystallinity'].fillna('Polycrystalline')"
   ]
  },
  {
   "cell_type": "markdown",
   "metadata": {},
   "source": [
    "#### Convert density to float"
   ]
  },
  {
   "cell_type": "code",
   "execution_count": 35,
   "metadata": {},
   "outputs": [
    {
     "name": "stdout",
     "output_type": "stream",
     "text": [
      "3.16 (1%)\n",
      "1 errors in 398 samples\n"
     ]
    }
   ],
   "source": [
    "# Check how density values cannot simply be transformed from string to int\n",
    "\n",
    "N_errors, N_total = 0, 0\n",
    "for entry in df['Density']:\n",
    "    try:\n",
    "        pd.Series([entry]).astype(float)\n",
    "    except:\n",
    "        N_errors +=1\n",
    "        print(entry)\n",
    "    finally:\n",
    "        N_total +=1\n",
    "\n",
    "print('{0} errors in {1} samples'.format(N_errors, N_total))"
   ]
  },
  {
   "cell_type": "code",
   "execution_count": 36,
   "metadata": {},
   "outputs": [
    {
     "data": {
      "text/plain": [
       "'3.16'"
      ]
     },
     "execution_count": 36,
     "metadata": {},
     "output_type": "execute_result"
    }
   ],
   "source": [
    "#convert the troublesome density value to a good value\n",
    "df.set_value(1185, 'Density', '3.16');\n",
    "df.loc[1185,'Density']"
   ]
  },
  {
   "cell_type": "code",
   "execution_count": 37,
   "metadata": {},
   "outputs": [],
   "source": [
    "# Convert densities to float\n",
    "df['Density'] = df['Density'].astype(float)"
   ]
  },
  {
   "cell_type": "markdown",
   "metadata": {},
   "source": [
    "#### Remove useless columns"
   ]
  },
  {
   "cell_type": "code",
   "execution_count": 38,
   "metadata": {},
   "outputs": [],
   "source": [
    "#Drop columns that don't contain numerical or categorical data\n",
    "df = df.drop(['licenses','names','references','Density-units','Density-conditions','Chemical Family'], axis=1)"
   ]
  },
  {
   "cell_type": "markdown",
   "metadata": {},
   "source": [
    "### Eliminate duplicate materials"
   ]
  },
  {
   "cell_type": "code",
   "execution_count": 39,
   "metadata": {},
   "outputs": [
    {
     "name": "stdout",
     "output_type": "stream",
     "text": [
      "There are just 110 unique entries in the 122 materials.\n"
     ]
    }
   ],
   "source": [
    "N_unique_entries = len(df['chemicalFormula'].unique())\n",
    "print('There are just {0} unique entries in the {1} materials.'.format(N_unique_entries,df_dens.shape[0]))"
   ]
  },
  {
   "cell_type": "code",
   "execution_count": 40,
   "metadata": {},
   "outputs": [],
   "source": [
    "df = df.groupby(['chemicalFormula','Crystallinity'], as_index=False).mean()"
   ]
  },
  {
   "cell_type": "markdown",
   "metadata": {},
   "source": [
    "### Composition with Chih-Hao's method"
   ]
  },
  {
   "cell_type": "code",
   "execution_count": 41,
   "metadata": {
    "collapsed": true
   },
   "outputs": [],
   "source": [
    "df.loc[3892,'chemicalFormula'] = 'BN' #fix 'B-N' to 'BN'\n",
    "\n",
    "# Parse the chemicalFormula\n",
    "def formula_decompose(formula):\n",
    "    '''\n",
    "    decompose chemical formula \n",
    "    return\n",
    "        composition: list, [(element,num),...]\n",
    "            element: string\n",
    "            num: string, can be math expression such as '1+0.5x'\n",
    "    '''\n",
    "\n",
    "    comp = []\n",
    "    p = re.compile(r'(\\d?[w-z]?)([A-Z][a-u]?)(\\d*\\+?\\-?\\d*\\.?\\d*[w-z]?)')\n",
    "\n",
    "    #split the chemical formula if there is dots, but not for cases like Mg1.5x\n",
    "    if re.search(r'\\.', formula) and not re.search(r'\\d+\\.\\d[w-z]', formula): \n",
    "        formula = formula.split('.')\n",
    "        for item in formula:\n",
    "            prefactor = '1'\n",
    "            for i in re.findall(p, item):\n",
    "                pre, elem, num = i\n",
    "                if pre:\n",
    "                    prefactor = pre\n",
    "                if num == '':\n",
    "                    num = '1'\n",
    "                num = prefactor + '*({})'.format(num)\n",
    "                comp.append((elem, num))\n",
    "    else:\n",
    "        prefactor = '1'\n",
    "        for i in re.findall(p, formula):\n",
    "            pre, elem, num = i\n",
    "            if pre:\n",
    "                prefactor = pre\n",
    "            if num == '':\n",
    "                num = '1'\n",
    "            num = prefactor + '*({})'.format(num)\n",
    "            comp.append((elem, num))\n",
    "    return comp \n",
    "\n",
    "def formula_reconstruct(composition, x=0.1, y=0.1, z=0.1, w=0.1):\n",
    "    '''\n",
    "    reconstruct chemical formula from composition\n",
    "    composition in form of [(element,num), (element,num),...]\n",
    "        element: string\n",
    "        num: string, can be math expression such as '1+0.5x'\n",
    "\n",
    "    return \n",
    "        flat chemcial formula: string, such as 'Ti1.5Cu0.1Au1.0'\n",
    "    '''\n",
    "    flat_list = []\n",
    "    for (elem, num) in composition:\n",
    "        num = re.sub(r'(\\d)([w-z])', r'\\1*\\2', num) #convert 5x to 5*x\n",
    "        flat_list.append(elem)\n",
    "        flat_list.append(format(eval(num), '.1f'))\n",
    "    return ''.join(flat_list)\n",
    "  \n",
    "def formula_parser(formula):\n",
    "    return formula_reconstruct(formula_decompose(formula))\n",
    "\n",
    "df[\"flatFormula\"] = df[\"chemicalFormula\"].map(formula_parser)\n",
    "df[\"composition\"] = df[\"flatFormula\"].transform(str_to_composition)"
   ]
  },
  {
   "cell_type": "markdown",
   "metadata": {},
   "source": [
    "### Composition with Chris' method"
   ]
  },
  {
   "cell_type": "code",
   "execution_count": 42,
   "metadata": {
    "collapsed": true
   },
   "outputs": [],
   "source": [
    "# Add second composition column (that doesn't have float stoichiometries; Chris' version)\n",
    "def make_chem_form_compatible(formula):\n",
    "    \n",
    "    for bad_str in ['\\.','x', 'y', '\\+', '\\-', 'z', 'w', '\\%', '\\^',   # individual characters\n",
    "                 'Cordierite','hisker','Sialon', # certain words that show up in some formulas\n",
    "                 '\\$(.*?)\\$',    # LaTeX expressions\n",
    "                 '\\((.*?)\\)',    # bracketed expressions\n",
    "                 '^\\d{1,2}']:    # leading numbers of 1 or 2 digits\n",
    "        formula = re.sub(bad_str, '', formula)\n",
    "    \n",
    "    return formula\n",
    "\n",
    "# Convert chemical formulas using above function\n",
    "df[\"comp_int\"] = df[\"chemicalFormula\"].transform(make_chem_form_compatible)\n",
    "\n",
    "# Converting chemical formula to composition object using\n",
    "# matminer.utils.conversions.str_to_composition\n",
    "# which in turn uses pymatgen.core.composition\n",
    "df[\"comp_int\"] = df[\"comp_int\"].transform(str_to_composition)"
   ]
  },
  {
   "cell_type": "code",
   "execution_count": 43,
   "metadata": {},
   "outputs": [
    {
     "data": {
      "text/html": [
       "<div>\n",
       "<style>\n",
       "    .dataframe thead tr:only-child th {\n",
       "        text-align: right;\n",
       "    }\n",
       "\n",
       "    .dataframe thead th {\n",
       "        text-align: left;\n",
       "    }\n",
       "\n",
       "    .dataframe tbody tr th {\n",
       "        vertical-align: top;\n",
       "    }\n",
       "</style>\n",
       "<table border=\"1\" class=\"dataframe\">\n",
       "  <thead>\n",
       "    <tr style=\"text-align: right;\">\n",
       "      <th></th>\n",
       "      <th>chemicalFormula</th>\n",
       "      <th>Crystallinity</th>\n",
       "      <th>Density</th>\n",
       "      <th>flatFormula</th>\n",
       "      <th>composition</th>\n",
       "      <th>comp_int</th>\n",
       "    </tr>\n",
       "  </thead>\n",
       "  <tbody>\n",
       "    <tr>\n",
       "      <th>0</th>\n",
       "      <td>$\\beta$-Si3Al3O3N5</td>\n",
       "      <td>Polycrystalline</td>\n",
       "      <td>3.091000</td>\n",
       "      <td>Si3.0Al3.0O3.0N5.0</td>\n",
       "      <td>(Si, Al, O, N)</td>\n",
       "      <td>(Si, Al, O, N)</td>\n",
       "    </tr>\n",
       "    <tr>\n",
       "      <th>1</th>\n",
       "      <td>(1-x-y)Al2O3.xAlN.yTiN</td>\n",
       "      <td>Polycrystalline</td>\n",
       "      <td>4.380000</td>\n",
       "      <td>Al2.0O3.0Al0.1N0.1Ti0.1N0.1</td>\n",
       "      <td>(Al, O, N, Ti)</td>\n",
       "      <td>(Al, O, N, Ti)</td>\n",
       "    </tr>\n",
       "    <tr>\n",
       "      <th>2</th>\n",
       "      <td>0.5SiO2.(0.5-x)Al2O3.xE2O3</td>\n",
       "      <td>Noncrystalline</td>\n",
       "      <td>3.520000</td>\n",
       "      <td>Si5.0O10.0Al2.0O3.0E0.2O0.3</td>\n",
       "      <td>(Si, O, Al, E0+)</td>\n",
       "      <td>(Si, O, Al, E0+)</td>\n",
       "    </tr>\n",
       "    <tr>\n",
       "      <th>3</th>\n",
       "      <td>3Al2O3.2SiO2</td>\n",
       "      <td>Polycrystalline</td>\n",
       "      <td>3.097167</td>\n",
       "      <td>Al6.0O9.0Si2.0O4.0</td>\n",
       "      <td>(Al, O, Si)</td>\n",
       "      <td>(Al, O, Si)</td>\n",
       "    </tr>\n",
       "    <tr>\n",
       "      <th>4</th>\n",
       "      <td>3Al2O3.2SiO2.xCordierite</td>\n",
       "      <td>Polycrystalline</td>\n",
       "      <td>2.720000</td>\n",
       "      <td>Al6.0O9.0Si2.0O4.0Co0.1</td>\n",
       "      <td>(Al, O, Si, Co)</td>\n",
       "      <td>(Al, O, Si)</td>\n",
       "    </tr>\n",
       "  </tbody>\n",
       "</table>\n",
       "</div>"
      ],
      "text/plain": [
       "              chemicalFormula    Crystallinity   Density  \\\n",
       "0          $\\beta$-Si3Al3O3N5  Polycrystalline  3.091000   \n",
       "1      (1-x-y)Al2O3.xAlN.yTiN  Polycrystalline  4.380000   \n",
       "2  0.5SiO2.(0.5-x)Al2O3.xE2O3   Noncrystalline  3.520000   \n",
       "3                3Al2O3.2SiO2  Polycrystalline  3.097167   \n",
       "4    3Al2O3.2SiO2.xCordierite  Polycrystalline  2.720000   \n",
       "\n",
       "                   flatFormula       composition          comp_int  \n",
       "0           Si3.0Al3.0O3.0N5.0    (Si, Al, O, N)    (Si, Al, O, N)  \n",
       "1  Al2.0O3.0Al0.1N0.1Ti0.1N0.1    (Al, O, N, Ti)    (Al, O, N, Ti)  \n",
       "2  Si5.0O10.0Al2.0O3.0E0.2O0.3  (Si, O, Al, E0+)  (Si, O, Al, E0+)  \n",
       "3           Al6.0O9.0Si2.0O4.0       (Al, O, Si)       (Al, O, Si)  \n",
       "4      Al6.0O9.0Si2.0O4.0Co0.1   (Al, O, Si, Co)       (Al, O, Si)  "
      ]
     },
     "execution_count": 43,
     "metadata": {},
     "output_type": "execute_result"
    }
   ],
   "source": [
    "df.head()"
   ]
  },
  {
   "cell_type": "code",
   "execution_count": 44,
   "metadata": {},
   "outputs": [
    {
     "name": "stdout",
     "output_type": "stream",
     "text": [
      "chemical formula:  3Al2O3.2SiO2.xSiC\n",
      "composition : Al6 O13 Si2.1 C0.1\n",
      "comp_int : Al2 O34 Si2 C1\n"
     ]
    }
   ],
   "source": [
    "sample=5\n",
    "print('chemical formula: ', df.loc[sample,'chemicalFormula'])\n",
    "print('composition :', df.loc[sample,'composition'])\n",
    "print('comp_int :', df.loc[sample,'comp_int'])"
   ]
  },
  {
   "cell_type": "markdown",
   "metadata": {},
   "source": [
    "# Add Additional Features with matminer"
   ]
  },
  {
   "cell_type": "code",
   "execution_count": 45,
   "metadata": {
    "collapsed": true
   },
   "outputs": [],
   "source": [
    "df_feat = df.copy() # Create new DataFrame for featurization"
   ]
  },
  {
   "cell_type": "markdown",
   "metadata": {},
   "source": [
    "### ElementProperty"
   ]
  },
  {
   "cell_type": "code",
   "execution_count": 46,
   "metadata": {},
   "outputs": [
    {
     "data": {
      "text/plain": [
       "(123, 6)"
      ]
     },
     "execution_count": 46,
     "metadata": {},
     "output_type": "execute_result"
    }
   ],
   "source": [
    "df_feat.shape"
   ]
  },
  {
   "cell_type": "code",
   "execution_count": 47,
   "metadata": {},
   "outputs": [],
   "source": [
    "# Add features with matminer (using the floating point composition by Chih-Hao)\n",
    "ep_feat = ElementProperty.from_preset(preset_name=\"magpie\")\n",
    "df_feat = ep_feat.featurize_dataframe(df_feat, col_id=\"composition\", ignore_errors=True)"
   ]
  },
  {
   "cell_type": "code",
   "execution_count": 48,
   "metadata": {},
   "outputs": [
    {
     "data": {
      "text/plain": [
       "(123, 138)"
      ]
     },
     "execution_count": 48,
     "metadata": {},
     "output_type": "execute_result"
    }
   ],
   "source": [
    "df_feat.shape"
   ]
  },
  {
   "cell_type": "code",
   "execution_count": 51,
   "metadata": {},
   "outputs": [
    {
     "data": {
      "text/plain": [
       "['mean NfUnfilled',\n",
       " 'maximum MendeleevNumber',\n",
       " 'mode Column',\n",
       " 'mean GSmagmom',\n",
       " 'mean GSbandgap',\n",
       " 'minimum GSvolume_pa',\n",
       " 'avg_dev NpUnfilled',\n",
       " 'mean SpaceGroupNumber',\n",
       " 'mean Row',\n",
       " 'mean CovalentRadius']"
      ]
     },
     "execution_count": 51,
     "metadata": {},
     "output_type": "execute_result"
    }
   ],
   "source": [
    "# List of the new columns\n",
    "list(set(df_feat.columns) ^ set(df.columns))[:10]"
   ]
  },
  {
   "cell_type": "markdown",
   "metadata": {},
   "source": [
    "### ElementFraction"
   ]
  },
  {
   "cell_type": "code",
   "execution_count": 55,
   "metadata": {},
   "outputs": [],
   "source": [
    "# Adds a column for every element. Values are fraction of atoms that belong to that element.\n",
    "ep_frac = ElementFraction()\n",
    "df_feat = ep_frac.featurize_dataframe(df_feat, col_id = \"composition\", ignore_errors = True)"
   ]
  },
  {
   "cell_type": "code",
   "execution_count": 65,
   "metadata": {},
   "outputs": [
    {
     "data": {
      "text/html": [
       "<div>\n",
       "<style>\n",
       "    .dataframe thead tr:only-child th {\n",
       "        text-align: right;\n",
       "    }\n",
       "\n",
       "    .dataframe thead th {\n",
       "        text-align: left;\n",
       "    }\n",
       "\n",
       "    .dataframe tbody tr th {\n",
       "        vertical-align: top;\n",
       "    }\n",
       "</style>\n",
       "<table border=\"1\" class=\"dataframe\">\n",
       "  <thead>\n",
       "    <tr style=\"text-align: right;\">\n",
       "      <th></th>\n",
       "      <th>chemicalFormula</th>\n",
       "      <th>Crystallinity</th>\n",
       "      <th>Density</th>\n",
       "      <th>flatFormula</th>\n",
       "      <th>composition</th>\n",
       "      <th>comp_int</th>\n",
       "      <th>minimum Number</th>\n",
       "      <th>maximum Number</th>\n",
       "      <th>range Number</th>\n",
       "      <th>mean Number</th>\n",
       "      <th>...</th>\n",
       "      <th>Pu</th>\n",
       "      <th>Am</th>\n",
       "      <th>Cm</th>\n",
       "      <th>Bk</th>\n",
       "      <th>Cf</th>\n",
       "      <th>Es</th>\n",
       "      <th>Fm</th>\n",
       "      <th>Md</th>\n",
       "      <th>No</th>\n",
       "      <th>Lr</th>\n",
       "    </tr>\n",
       "  </thead>\n",
       "  <tbody>\n",
       "    <tr>\n",
       "      <th>0</th>\n",
       "      <td>$\\beta$-Si3Al3O3N5</td>\n",
       "      <td>Polycrystalline</td>\n",
       "      <td>3.091000</td>\n",
       "      <td>Si3.0Al3.0O3.0N5.0</td>\n",
       "      <td>(Si, Al, O, N)</td>\n",
       "      <td>(Si, Al, O, N)</td>\n",
       "      <td>7.0</td>\n",
       "      <td>14.0</td>\n",
       "      <td>7.0</td>\n",
       "      <td>10.000000</td>\n",
       "      <td>...</td>\n",
       "      <td>0.0</td>\n",
       "      <td>0.0</td>\n",
       "      <td>0.0</td>\n",
       "      <td>0.0</td>\n",
       "      <td>0.0</td>\n",
       "      <td>0.0</td>\n",
       "      <td>0.0</td>\n",
       "      <td>0.0</td>\n",
       "      <td>0.0</td>\n",
       "      <td>0.0</td>\n",
       "    </tr>\n",
       "    <tr>\n",
       "      <th>1</th>\n",
       "      <td>(1-x-y)Al2O3.xAlN.yTiN</td>\n",
       "      <td>Polycrystalline</td>\n",
       "      <td>4.380000</td>\n",
       "      <td>Al2.0O3.0Al0.1N0.1Ti0.1N0.1</td>\n",
       "      <td>(Al, O, N, Ti)</td>\n",
       "      <td>(Al, O, N, Ti)</td>\n",
       "      <td>7.0</td>\n",
       "      <td>22.0</td>\n",
       "      <td>15.0</td>\n",
       "      <td>10.166667</td>\n",
       "      <td>...</td>\n",
       "      <td>0.0</td>\n",
       "      <td>0.0</td>\n",
       "      <td>0.0</td>\n",
       "      <td>0.0</td>\n",
       "      <td>0.0</td>\n",
       "      <td>0.0</td>\n",
       "      <td>0.0</td>\n",
       "      <td>0.0</td>\n",
       "      <td>0.0</td>\n",
       "      <td>0.0</td>\n",
       "    </tr>\n",
       "    <tr>\n",
       "      <th>2</th>\n",
       "      <td>0.5SiO2.(0.5-x)Al2O3.xE2O3</td>\n",
       "      <td>Noncrystalline</td>\n",
       "      <td>3.520000</td>\n",
       "      <td>Si5.0O10.0Al2.0O3.0E0.2O0.3</td>\n",
       "      <td>(Si, O, Al, E0+)</td>\n",
       "      <td>(Si, O, Al, E0+)</td>\n",
       "      <td>NaN</td>\n",
       "      <td>NaN</td>\n",
       "      <td>NaN</td>\n",
       "      <td>NaN</td>\n",
       "      <td>...</td>\n",
       "      <td>NaN</td>\n",
       "      <td>NaN</td>\n",
       "      <td>NaN</td>\n",
       "      <td>NaN</td>\n",
       "      <td>NaN</td>\n",
       "      <td>NaN</td>\n",
       "      <td>NaN</td>\n",
       "      <td>NaN</td>\n",
       "      <td>NaN</td>\n",
       "      <td>NaN</td>\n",
       "    </tr>\n",
       "    <tr>\n",
       "      <th>3</th>\n",
       "      <td>3Al2O3.2SiO2</td>\n",
       "      <td>Polycrystalline</td>\n",
       "      <td>3.097167</td>\n",
       "      <td>Al6.0O9.0Si2.0O4.0</td>\n",
       "      <td>(Al, O, Si)</td>\n",
       "      <td>(Al, O, Si)</td>\n",
       "      <td>8.0</td>\n",
       "      <td>14.0</td>\n",
       "      <td>6.0</td>\n",
       "      <td>10.000000</td>\n",
       "      <td>...</td>\n",
       "      <td>0.0</td>\n",
       "      <td>0.0</td>\n",
       "      <td>0.0</td>\n",
       "      <td>0.0</td>\n",
       "      <td>0.0</td>\n",
       "      <td>0.0</td>\n",
       "      <td>0.0</td>\n",
       "      <td>0.0</td>\n",
       "      <td>0.0</td>\n",
       "      <td>0.0</td>\n",
       "    </tr>\n",
       "    <tr>\n",
       "      <th>4</th>\n",
       "      <td>3Al2O3.2SiO2.xCordierite</td>\n",
       "      <td>Polycrystalline</td>\n",
       "      <td>2.720000</td>\n",
       "      <td>Al6.0O9.0Si2.0O4.0Co0.1</td>\n",
       "      <td>(Al, O, Si, Co)</td>\n",
       "      <td>(Al, O, Si)</td>\n",
       "      <td>8.0</td>\n",
       "      <td>27.0</td>\n",
       "      <td>19.0</td>\n",
       "      <td>10.080569</td>\n",
       "      <td>...</td>\n",
       "      <td>0.0</td>\n",
       "      <td>0.0</td>\n",
       "      <td>0.0</td>\n",
       "      <td>0.0</td>\n",
       "      <td>0.0</td>\n",
       "      <td>0.0</td>\n",
       "      <td>0.0</td>\n",
       "      <td>0.0</td>\n",
       "      <td>0.0</td>\n",
       "      <td>0.0</td>\n",
       "    </tr>\n",
       "  </tbody>\n",
       "</table>\n",
       "<p>5 rows × 241 columns</p>\n",
       "</div>"
      ],
      "text/plain": [
       "              chemicalFormula    Crystallinity   Density  \\\n",
       "0          $\\beta$-Si3Al3O3N5  Polycrystalline  3.091000   \n",
       "1      (1-x-y)Al2O3.xAlN.yTiN  Polycrystalline  4.380000   \n",
       "2  0.5SiO2.(0.5-x)Al2O3.xE2O3   Noncrystalline  3.520000   \n",
       "3                3Al2O3.2SiO2  Polycrystalline  3.097167   \n",
       "4    3Al2O3.2SiO2.xCordierite  Polycrystalline  2.720000   \n",
       "\n",
       "                   flatFormula       composition          comp_int  \\\n",
       "0           Si3.0Al3.0O3.0N5.0    (Si, Al, O, N)    (Si, Al, O, N)   \n",
       "1  Al2.0O3.0Al0.1N0.1Ti0.1N0.1    (Al, O, N, Ti)    (Al, O, N, Ti)   \n",
       "2  Si5.0O10.0Al2.0O3.0E0.2O0.3  (Si, O, Al, E0+)  (Si, O, Al, E0+)   \n",
       "3           Al6.0O9.0Si2.0O4.0       (Al, O, Si)       (Al, O, Si)   \n",
       "4      Al6.0O9.0Si2.0O4.0Co0.1   (Al, O, Si, Co)       (Al, O, Si)   \n",
       "\n",
       "   minimum Number  maximum Number  range Number  mean Number ...    Pu   Am  \\\n",
       "0             7.0            14.0           7.0    10.000000 ...   0.0  0.0   \n",
       "1             7.0            22.0          15.0    10.166667 ...   0.0  0.0   \n",
       "2             NaN             NaN           NaN          NaN ...   NaN  NaN   \n",
       "3             8.0            14.0           6.0    10.000000 ...   0.0  0.0   \n",
       "4             8.0            27.0          19.0    10.080569 ...   0.0  0.0   \n",
       "\n",
       "    Cm   Bk   Cf   Es   Fm   Md   No   Lr  \n",
       "0  0.0  0.0  0.0  0.0  0.0  0.0  0.0  0.0  \n",
       "1  0.0  0.0  0.0  0.0  0.0  0.0  0.0  0.0  \n",
       "2  NaN  NaN  NaN  NaN  NaN  NaN  NaN  NaN  \n",
       "3  0.0  0.0  0.0  0.0  0.0  0.0  0.0  0.0  \n",
       "4  0.0  0.0  0.0  0.0  0.0  0.0  0.0  0.0  \n",
       "\n",
       "[5 rows x 241 columns]"
      ]
     },
     "execution_count": 65,
     "metadata": {},
     "output_type": "execute_result"
    }
   ],
   "source": [
    "df_feat.head()"
   ]
  }
 ],
 "metadata": {
  "kernelspec": {
   "display_name": "Python 3",
   "language": "python",
   "name": "python3"
  },
  "language_info": {
   "codemirror_mode": {
    "name": "ipython",
    "version": 3
   },
   "file_extension": ".py",
   "mimetype": "text/x-python",
   "name": "python",
   "nbconvert_exporter": "python",
   "pygments_lexer": "ipython3",
   "version": "3.6.5"
  }
 },
 "nbformat": 4,
 "nbformat_minor": 2
}
