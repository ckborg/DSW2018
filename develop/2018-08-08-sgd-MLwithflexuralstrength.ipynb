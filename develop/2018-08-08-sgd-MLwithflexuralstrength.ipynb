{
 "cells": [
  {
   "cell_type": "code",
   "execution_count": 1,
   "metadata": {
    "collapsed": true
   },
   "outputs": [],
   "source": [
    "import numpy as np\n",
    "import os\n",
    "import matplotlib.pyplot as plt\n",
    "from os import environ\n",
    "from citrination_client import CitrinationClient\n",
    "from citrination_client import *\n",
    "from pypif import pif\n",
    "from pypif.obj import *\n",
    "import csv\n",
    "import pandas as pd\n",
    "%matplotlib inline"
   ]
  },
  {
   "cell_type": "markdown",
   "metadata": {},
   "source": [
    "# Getting Flexural Strength CSV"
   ]
  },
  {
   "cell_type": "code",
   "execution_count": null,
   "metadata": {},
   "outputs": [],
   "source": [
    "client = CitrinationClient(environ['CITRINATION_API_KEY'], 'https://citrination.com')\n",
    "dataset_id = '151803'\n",
    "value_query = FieldQuery(extract_as=\"Flexural Strength\", extract_all=True)\n",
    "property_query = PropertyQuery(name=FieldQuery(filter=[Filter(equal=\"Flexural Strength\")]), value=value_query)\n",
    "formula_query = ChemicalFieldQuery(extract_as=\"formula\")\n",
    "system_query = PifSystemQuery(chemical_formula=formula_query, properties=property_query)\n",
    "dataset_query = DatasetQuery(id=[Filter(equal=dataset_id)])\n",
    "data_query = DataQuery(dataset=dataset_query, system=system_query)\n",
    "pif_query = PifSystemReturningQuery(size=10000, random_results=False, query=data_query)\n",
    "search_result = client.search.pif_search(pif_query)\n",
    "\n",
    "print(\"We found {} records\".format(len(search_result.hits)))\n",
    "print([x.extracted for x in search_result.hits[0:5]])"
   ]
  },
  {
   "cell_type": "code",
   "execution_count": null,
   "metadata": {},
   "outputs": [],
   "source": [
    "rows = []\n",
    "pif_records = [x.system for x in search_result.hits]\n",
    "for system in pif_records:\n",
    "    \n",
    "    cryst_value= None\n",
    "    for prop in system.properties:\n",
    "        if prop.name == 'Crystallinity':\n",
    "            cryst_value= prop.scalars[0].value\n",
    "    for prop in system.properties:\n",
    "        if prop.name == \"Flexural Strength\" and prop.units == \"MPa\":\n",
    "            for cond in prop.conditions:\n",
    "                if cond.name == \"Temperature\":\n",
    "                    if cond.units==\"$^{\\\\circ}$C\":\n",
    "                        add= 273.\n",
    "                    elif cond.units=='K':\n",
    "                        add= 0.\n",
    "                    if len(prop.scalars) == len(cond.scalars):\n",
    "                        for prop_sca, cond_sca in zip(prop.scalars, cond.scalars):\n",
    "                            row = [system.chemical_formula, prop_sca.value, (float(cond_sca.value)+add), \n",
    "                                    cryst_value, system.references[0].citation]\n",
    "                            rows.append(row)\n",
    "\n",
    "with open('flexural_strength_temperature.csv', 'w') as csvfile:\n",
    "    writer = csv.writer(csvfile)\n",
    "    writer.writerow(['Formula', 'Flexural Strength (MPa)', 'Temperature (K)', 'Crystallinity','Reference'])\n",
    "    writer.writerows(rows)"
   ]
  },
  {
   "cell_type": "code",
   "execution_count": null,
   "metadata": {
    "collapsed": true
   },
   "outputs": [],
   "source": [
    "#this code is to only use the entries with no \"x\" or \".\" in the chemical formula\n",
    "\n",
    "\n",
    "# rows = []\n",
    "# pif_records = [x.system for x in search_result.hits]\n",
    "# for system in pif_records:\n",
    "#     if \"x\" not in system.chemical_formula and \".\" not in system.chemical_formula:\n",
    "#         cryst_value= None\n",
    "#         for prop in system.properties:\n",
    "#             if prop.name == 'Crystallinity':\n",
    "#                 cryst_value= prop.scalars[0].value\n",
    "#         for prop in system.properties:\n",
    "#             if prop.name == \"Flexural Strength\" and prop.units == \"MPa\":\n",
    "#                 for cond in prop.conditions:\n",
    "#                     if cond.name == \"Temperature\":\n",
    "#                         if cond.units==\"$^{\\\\circ}$C\":\n",
    "#                             add= 273.\n",
    "#                         elif cond.units=='K':\n",
    "#                             add= 0.\n",
    "#                         if len(prop.scalars) == len(cond.scalars):\n",
    "#                             for prop_sca, cond_sca in zip(prop.scalars, cond.scalars):\n",
    "#                                 row = [system.chemical_formula, prop_sca.value, (float(cond_sca.value)+add), \n",
    "#                                        cryst_value, system.references[0].citation]\n",
    "#                                 rows.append(row)\n",
    "\n",
    "# with open('flexural_strength_temperature.csv', 'w') as csvfile:\n",
    "#     writer = csv.writer(csvfile)\n",
    "#     writer.writerow(['Formula', 'Flexural Strength (MPa)', 'Temperature (K)', 'Crystallinity','Reference'])\n",
    "#     writer.writerows(rows)"
   ]
  },
  {
   "cell_type": "markdown",
   "metadata": {},
   "source": [
    "## Clean up the raw CSV and generate composition"
   ]
  },
  {
   "cell_type": "code",
   "execution_count": 2,
   "metadata": {
    "collapsed": true
   },
   "outputs": [],
   "source": [
    "import re\n",
    "from matminer.utils.conversions import str_to_composition"
   ]
  },
  {
   "cell_type": "code",
   "execution_count": 26,
   "metadata": {},
   "outputs": [
    {
     "data": {
      "text/html": [
       "<div>\n",
       "<style>\n",
       "    .dataframe thead tr:only-child th {\n",
       "        text-align: right;\n",
       "    }\n",
       "\n",
       "    .dataframe thead th {\n",
       "        text-align: left;\n",
       "    }\n",
       "\n",
       "    .dataframe tbody tr th {\n",
       "        vertical-align: top;\n",
       "    }\n",
       "</style>\n",
       "<table border=\"1\" class=\"dataframe\">\n",
       "  <thead>\n",
       "    <tr style=\"text-align: right;\">\n",
       "      <th></th>\n",
       "      <th>Formula</th>\n",
       "      <th>Flexural Strength (MPa)</th>\n",
       "      <th>Temperature (K)</th>\n",
       "      <th>Crystallinity</th>\n",
       "      <th>Reference</th>\n",
       "    </tr>\n",
       "  </thead>\n",
       "  <tbody>\n",
       "    <tr>\n",
       "      <th>0</th>\n",
       "      <td>Si3N4.xY2O3.ySrO</td>\n",
       "      <td>707</td>\n",
       "      <td>298.0</td>\n",
       "      <td>Polycrystalline</td>\n",
       "      <td>Ceramic Technology Project Data Base:  Septemb...</td>\n",
       "    </tr>\n",
       "    <tr>\n",
       "      <th>1</th>\n",
       "      <td>Si3N4.xY2O3.ySrO</td>\n",
       "      <td>609</td>\n",
       "      <td>1373.0</td>\n",
       "      <td>Polycrystalline</td>\n",
       "      <td>Ceramic Technology Project Data Base:  Septemb...</td>\n",
       "    </tr>\n",
       "    <tr>\n",
       "      <th>2</th>\n",
       "      <td>Si3N4.xY2O3.ySrO</td>\n",
       "      <td>649</td>\n",
       "      <td>1373.0</td>\n",
       "      <td>Polycrystalline</td>\n",
       "      <td>Ceramic Technology Project Data Base:  Septemb...</td>\n",
       "    </tr>\n",
       "    <tr>\n",
       "      <th>3</th>\n",
       "      <td>Si3N4.xY2O3.ySrO</td>\n",
       "      <td>675</td>\n",
       "      <td>1373.0</td>\n",
       "      <td>Polycrystalline</td>\n",
       "      <td>Ceramic Technology Project Data Base:  Septemb...</td>\n",
       "    </tr>\n",
       "    <tr>\n",
       "      <th>4</th>\n",
       "      <td>Si3N4.xY2O3.ySrO</td>\n",
       "      <td>697</td>\n",
       "      <td>1373.0</td>\n",
       "      <td>Polycrystalline</td>\n",
       "      <td>Ceramic Technology Project Data Base:  Septemb...</td>\n",
       "    </tr>\n",
       "  </tbody>\n",
       "</table>\n",
       "</div>"
      ],
      "text/plain": [
       "            Formula Flexural Strength (MPa)  Temperature (K)    Crystallinity  \\\n",
       "0  Si3N4.xY2O3.ySrO                     707            298.0  Polycrystalline   \n",
       "1  Si3N4.xY2O3.ySrO                     609           1373.0  Polycrystalline   \n",
       "2  Si3N4.xY2O3.ySrO                     649           1373.0  Polycrystalline   \n",
       "3  Si3N4.xY2O3.ySrO                     675           1373.0  Polycrystalline   \n",
       "4  Si3N4.xY2O3.ySrO                     697           1373.0  Polycrystalline   \n",
       "\n",
       "                                           Reference  \n",
       "0  Ceramic Technology Project Data Base:  Septemb...  \n",
       "1  Ceramic Technology Project Data Base:  Septemb...  \n",
       "2  Ceramic Technology Project Data Base:  Septemb...  \n",
       "3  Ceramic Technology Project Data Base:  Septemb...  \n",
       "4  Ceramic Technology Project Data Base:  Septemb...  "
      ]
     },
     "execution_count": 26,
     "metadata": {},
     "output_type": "execute_result"
    }
   ],
   "source": [
    "fs= pd.read_csv('flexural_strength_temperature.csv', encoding = \"ISO-8859-1\")\n",
    "fs.head()"
   ]
  },
  {
   "cell_type": "code",
   "execution_count": 27,
   "metadata": {},
   "outputs": [
    {
     "data": {
      "text/plain": [
       "117"
      ]
     },
     "execution_count": 27,
     "metadata": {},
     "output_type": "execute_result"
    }
   ],
   "source": [
    "len(fs['Reference'].unique())"
   ]
  },
  {
   "cell_type": "code",
   "execution_count": 28,
   "metadata": {},
   "outputs": [
    {
     "name": "stdout",
     "output_type": "stream",
     "text": [
      "(1934, 5)\n",
      "Polycrystalline: (1776,), Single crystal: (19,)\n"
     ]
    }
   ],
   "source": [
    "print(fs.shape)\n",
    "# Determine number of polycrystalline / single crystal samples\n",
    "N_polyX = fs[fs['Crystallinity']=='Polycrystalline']['Crystallinity'].shape\n",
    "N_singleX = fs[fs['Crystallinity']=='Single Crystal']['Crystallinity'].shape\n",
    "print('Polycrystalline: {0}, Single crystal: {1}'.format(N_polyX, N_singleX))"
   ]
  },
  {
   "cell_type": "code",
   "execution_count": 29,
   "metadata": {},
   "outputs": [
    {
     "name": "stdout",
     "output_type": "stream",
     "text": [
      "Polycrystalline: (1915,), Single crystal: (19,)\n"
     ]
    }
   ],
   "source": [
    "#Fill NaN values in crystallinity with polycrystalline:\n",
    "fs['Crystallinity'] = fs['Crystallinity'].fillna('Polycrystalline')\n",
    "N_polyX = fs[fs['Crystallinity']=='Polycrystalline']['Crystallinity'].shape\n",
    "N_singleX = fs[fs['Crystallinity']=='Single Crystal']['Crystallinity'].shape\n",
    "print('Polycrystalline: {0}, Single crystal: {1}'.format(N_polyX, N_singleX))"
   ]
  },
  {
   "cell_type": "code",
   "execution_count": 30,
   "metadata": {},
   "outputs": [
    {
     "name": "stdout",
     "output_type": "stream",
     "text": [
      "359 (15%)\n",
      "1016\n",
      "1 errors in 1934 samples\n"
     ]
    }
   ],
   "source": [
    "# Check how many values cannot simply be transformed from string to int\n",
    "#also locate which row the errors occur in\n",
    "\n",
    "N_errors, N_total, row = 0, 0, -1\n",
    "for entry in fs['Flexural Strength (MPa)']:\n",
    "    row+=1\n",
    "    try:\n",
    "        pd.Series([entry]).astype(float)\n",
    "    except:\n",
    "        N_errors +=1\n",
    "        print(entry)\n",
    "        print(row)\n",
    "        \n",
    "    finally:\n",
    "        N_total +=1\n",
    "\n",
    "print('{0} errors in {1} samples'.format(N_errors, N_total))"
   ]
  },
  {
   "cell_type": "code",
   "execution_count": 31,
   "metadata": {},
   "outputs": [
    {
     "data": {
      "text/plain": [
       "'Material Properties of a Sintered $\\\\alpha$-SiC, R.G. Munro, Journal of Physical and Chemical Reference Data, Vol. 26 5, pp. 1195-1203 (1997), published by American Chemical Society.'"
      ]
     },
     "execution_count": 31,
     "metadata": {},
     "output_type": "execute_result"
    }
   ],
   "source": [
    "fs.loc[1016, 'Reference']"
   ]
  },
  {
   "cell_type": "code",
   "execution_count": 32,
   "metadata": {},
   "outputs": [
    {
     "data": {
      "text/html": [
       "<div>\n",
       "<style>\n",
       "    .dataframe thead tr:only-child th {\n",
       "        text-align: right;\n",
       "    }\n",
       "\n",
       "    .dataframe thead th {\n",
       "        text-align: left;\n",
       "    }\n",
       "\n",
       "    .dataframe tbody tr th {\n",
       "        vertical-align: top;\n",
       "    }\n",
       "</style>\n",
       "<table border=\"1\" class=\"dataframe\">\n",
       "  <thead>\n",
       "    <tr style=\"text-align: right;\">\n",
       "      <th></th>\n",
       "      <th>Formula</th>\n",
       "      <th>Flexural Strength (MPa)</th>\n",
       "      <th>Temperature (K)</th>\n",
       "      <th>Crystallinity</th>\n",
       "      <th>Reference</th>\n",
       "    </tr>\n",
       "  </thead>\n",
       "  <tbody>\n",
       "    <tr>\n",
       "      <th>1016</th>\n",
       "      <td>SiC</td>\n",
       "      <td>359 (15%)</td>\n",
       "      <td>293.0</td>\n",
       "      <td>Polycrystalline</td>\n",
       "      <td>Material Properties of a Sintered $\\alpha$-SiC...</td>\n",
       "    </tr>\n",
       "    <tr>\n",
       "      <th>1017</th>\n",
       "      <td>SiC</td>\n",
       "      <td>359</td>\n",
       "      <td>773.0</td>\n",
       "      <td>Polycrystalline</td>\n",
       "      <td>Material Properties of a Sintered $\\alpha$-SiC...</td>\n",
       "    </tr>\n",
       "    <tr>\n",
       "      <th>1018</th>\n",
       "      <td>SiC</td>\n",
       "      <td>397</td>\n",
       "      <td>1273.0</td>\n",
       "      <td>Polycrystalline</td>\n",
       "      <td>Material Properties of a Sintered $\\alpha$-SiC...</td>\n",
       "    </tr>\n",
       "    <tr>\n",
       "      <th>1019</th>\n",
       "      <td>SiC</td>\n",
       "      <td>437</td>\n",
       "      <td>1473.0</td>\n",
       "      <td>Polycrystalline</td>\n",
       "      <td>Material Properties of a Sintered $\\alpha$-SiC...</td>\n",
       "    </tr>\n",
       "    <tr>\n",
       "      <th>1020</th>\n",
       "      <td>SiC</td>\n",
       "      <td>446</td>\n",
       "      <td>1673.0</td>\n",
       "      <td>Polycrystalline</td>\n",
       "      <td>Material Properties of a Sintered $\\alpha$-SiC...</td>\n",
       "    </tr>\n",
       "    <tr>\n",
       "      <th>1021</th>\n",
       "      <td>SiC</td>\n",
       "      <td>446</td>\n",
       "      <td>1773.0</td>\n",
       "      <td>Polycrystalline</td>\n",
       "      <td>Material Properties of a Sintered $\\alpha$-SiC...</td>\n",
       "    </tr>\n",
       "  </tbody>\n",
       "</table>\n",
       "</div>"
      ],
      "text/plain": [
       "     Formula Flexural Strength (MPa)  Temperature (K)    Crystallinity  \\\n",
       "1016     SiC               359 (15%)            293.0  Polycrystalline   \n",
       "1017     SiC                     359            773.0  Polycrystalline   \n",
       "1018     SiC                     397           1273.0  Polycrystalline   \n",
       "1019     SiC                     437           1473.0  Polycrystalline   \n",
       "1020     SiC                     446           1673.0  Polycrystalline   \n",
       "1021     SiC                     446           1773.0  Polycrystalline   \n",
       "\n",
       "                                              Reference  \n",
       "1016  Material Properties of a Sintered $\\alpha$-SiC...  \n",
       "1017  Material Properties of a Sintered $\\alpha$-SiC...  \n",
       "1018  Material Properties of a Sintered $\\alpha$-SiC...  \n",
       "1019  Material Properties of a Sintered $\\alpha$-SiC...  \n",
       "1020  Material Properties of a Sintered $\\alpha$-SiC...  \n",
       "1021  Material Properties of a Sintered $\\alpha$-SiC...  "
      ]
     },
     "execution_count": 32,
     "metadata": {},
     "output_type": "execute_result"
    }
   ],
   "source": [
    "fs.loc[fs['Reference']=='Material Properties of a Sintered $\\\\alpha$-SiC, R.G. Munro, Journal of Physical and Chemical Reference Data, Vol. 26 5, pp. 1195-1203 (1997), published by American Chemical Society.']"
   ]
  },
  {
   "cell_type": "code",
   "execution_count": 33,
   "metadata": {},
   "outputs": [
    {
     "data": {
      "text/plain": [
       "Formula                                                                  SiC\n",
       "Flexural Strength (MPa)                                                  359\n",
       "Temperature (K)                                                          293\n",
       "Crystallinity                                                Polycrystalline\n",
       "Reference                  Material Properties of a Sintered $\\alpha$-SiC...\n",
       "Name: 1016, dtype: object"
      ]
     },
     "execution_count": 33,
     "metadata": {},
     "output_type": "execute_result"
    }
   ],
   "source": [
    "fs.at[1016, 'Flexural Strength (MPa)'] = 359\n",
    "fs.loc[1016]"
   ]
  },
  {
   "cell_type": "code",
   "execution_count": 34,
   "metadata": {},
   "outputs": [],
   "source": [
    "fs['Flexural Strength (MPa)'] = fs['Flexural Strength (MPa)'].astype(float)\n",
    "# fs.sort_values(by='Flexural Strength (MPa)')"
   ]
  },
  {
   "cell_type": "code",
   "execution_count": 35,
   "metadata": {},
   "outputs": [
    {
     "name": "stdout",
     "output_type": "stream",
     "text": [
      "There are just 73 unique entries in the 1934 materials.\n"
     ]
    }
   ],
   "source": [
    "N_unique_entries = len(fs['Formula'].unique())\n",
    "print('There are just {0} unique entries in the {1} materials.'.format(N_unique_entries,fs.shape[0]))"
   ]
  },
  {
   "cell_type": "code",
   "execution_count": 36,
   "metadata": {},
   "outputs": [
    {
     "data": {
      "image/png": "[encoded data removed]",
      "text/plain": [
       "<Figure size 432x288 with 1 Axes>"
      ]
     },
     "metadata": {},
     "output_type": "display_data"
    }
   ],
   "source": [
    "#look at the disribution of the data \n",
    "fsn = fs['Flexural Strength (MPa)']\n",
    "fsn = pd.to_numeric(fsn, errors = 'coerce')\n",
    "fsn.hist(bins=100)\n",
    "plt.xlabel('Flexural Strength')\n",
    "plt.ylabel('# of samples')\n",
    "plt.show()"
   ]
  },
  {
   "cell_type": "code",
   "execution_count": 37,
   "metadata": {},
   "outputs": [
    {
     "data": {
      "text/plain": [
       "'Strength of Diamond, D.J. Weidner, Y. Wang, and M.T. Vaughan, Science, Vol. 266, pp. 419-421 (1994), published by American Association for the Advancement of Science.'"
      ]
     },
     "execution_count": 37,
     "metadata": {},
     "output_type": "execute_result"
    }
   ],
   "source": [
    "fs.loc[1673, 'Reference']"
   ]
  },
  {
   "cell_type": "code",
   "execution_count": 38,
   "metadata": {
    "collapsed": true
   },
   "outputs": [],
   "source": [
    "#remove the outliers from the dataset in case they give the machine learning models toruble\n",
    "fs = fs[fs.Reference != 'Strength of Diamond, D.J. Weidner, Y. Wang, and M.T. Vaughan, Science, Vol. 266, pp. 419-421 (1994), published by American Association for the Advancement of Science.']"
   ]
  },
  {
   "cell_type": "code",
   "execution_count": 39,
   "metadata": {},
   "outputs": [
    {
     "data": {
      "image/png": "[encoded data removed]",
      "text/plain": [
       "<Figure size 432x288 with 1 Axes>"
      ]
     },
     "metadata": {},
     "output_type": "display_data"
    }
   ],
   "source": [
    "fsn = fs['Flexural Strength (MPa)']\n",
    "fsn = pd.to_numeric(fsn, errors = 'coerce')\n",
    "fsn.hist(bins=50)\n",
    "plt.xlabel('Flexural Strength')\n",
    "plt.ylabel('# of samples')\n",
    "plt.show()"
   ]
  },
  {
   "cell_type": "code",
   "execution_count": 40,
   "metadata": {},
   "outputs": [
    {
     "data": {
      "text/plain": [
       "(1930, 5)"
      ]
     },
     "execution_count": 40,
     "metadata": {},
     "output_type": "execute_result"
    }
   ],
   "source": [
    "fs.shape"
   ]
  },
  {
   "cell_type": "code",
   "execution_count": 41,
   "metadata": {
    "collapsed": true
   },
   "outputs": [],
   "source": [
    "\n",
    "# Parse the chemicalFormula\n",
    "def formula_decompose(formula):\n",
    "    '''\n",
    "    decompose chemical formula \n",
    "    return\n",
    "        composition: list, [(element,num),...]\n",
    "            element: string\n",
    "            num: string, can be math expression such as '1+0.5x'\n",
    "    '''\n",
    "\n",
    "    comp = []\n",
    "    p = re.compile(r'(\\d?[w-z]?)([A-Z][a-u]?)(\\d*\\+?\\-?\\d*\\.?\\d*[w-z]?)')\n",
    "\n",
    "    #split the chemical formula if there is dots, but not for cases like Mg1.5x\n",
    "    if re.search(r'\\.', formula) and not re.search(r'\\d+\\.\\d[w-z]', formula): \n",
    "        formula = formula.split('.')\n",
    "        for item in formula:\n",
    "            prefactor = '1'\n",
    "            for i in re.findall(p, item):\n",
    "                pre, elem, num = i\n",
    "                if pre:\n",
    "                    prefactor = pre\n",
    "                if num == '':\n",
    "                    num = '1'\n",
    "                num = prefactor + '*({})'.format(num)\n",
    "                comp.append((elem, num))\n",
    "    else:\n",
    "        prefactor = '1'\n",
    "        for i in re.findall(p, formula):\n",
    "            pre, elem, num = i\n",
    "            if pre:\n",
    "                prefactor = pre\n",
    "            if num == '':\n",
    "                num = '1'\n",
    "            num = prefactor + '*({})'.format(num)\n",
    "            comp.append((elem, num))\n",
    "    return comp \n",
    "\n",
    "def formula_reconstruct(composition, x=0.1, y=0.1, z=0.1, w=0.1):\n",
    "    '''\n",
    "    reconstruct chemical formula from composition\n",
    "    composition in form of [(element,num), (element,num),...]\n",
    "        element: string\n",
    "        num: string, can be math expression such as '1+0.5x'\n",
    "\n",
    "    return \n",
    "        flat chemcial formula: string, such as 'Ti1.5Cu0.1Au1.0'\n",
    "    '''\n",
    "    flat_list = []\n",
    "    for (elem, num) in composition:\n",
    "        num = re.sub(r'(\\d)([w-z])', r'\\1*\\2', num) #convert 5x to 5*x\n",
    "        flat_list.append(elem)\n",
    "        flat_list.append(format(eval(num), '.1f'))\n",
    "    return ''.join(flat_list)\n",
    "  \n",
    "def formula_parser(formula):\n",
    "    return formula_reconstruct(formula_decompose(formula))"
   ]
  },
  {
   "cell_type": "code",
   "execution_count": 42,
   "metadata": {},
   "outputs": [
    {
     "data": {
      "text/html": [
       "<div>\n",
       "<style>\n",
       "    .dataframe thead tr:only-child th {\n",
       "        text-align: right;\n",
       "    }\n",
       "\n",
       "    .dataframe thead th {\n",
       "        text-align: left;\n",
       "    }\n",
       "\n",
       "    .dataframe tbody tr th {\n",
       "        vertical-align: top;\n",
       "    }\n",
       "</style>\n",
       "<table border=\"1\" class=\"dataframe\">\n",
       "  <thead>\n",
       "    <tr style=\"text-align: right;\">\n",
       "      <th></th>\n",
       "      <th>Formula</th>\n",
       "      <th>Flexural Strength (MPa)</th>\n",
       "      <th>Temperature (K)</th>\n",
       "      <th>Crystallinity</th>\n",
       "      <th>Reference</th>\n",
       "      <th>flatFormula</th>\n",
       "    </tr>\n",
       "  </thead>\n",
       "  <tbody>\n",
       "    <tr>\n",
       "      <th>0</th>\n",
       "      <td>Si3N4.xY2O3.ySrO</td>\n",
       "      <td>707.0</td>\n",
       "      <td>298.0</td>\n",
       "      <td>Polycrystalline</td>\n",
       "      <td>Ceramic Technology Project Data Base:  Septemb...</td>\n",
       "      <td>Si3.0N4.0Y0.2O0.3Sr0.1O0.1</td>\n",
       "    </tr>\n",
       "    <tr>\n",
       "      <th>1</th>\n",
       "      <td>Si3N4.xY2O3.ySrO</td>\n",
       "      <td>609.0</td>\n",
       "      <td>1373.0</td>\n",
       "      <td>Polycrystalline</td>\n",
       "      <td>Ceramic Technology Project Data Base:  Septemb...</td>\n",
       "      <td>Si3.0N4.0Y0.2O0.3Sr0.1O0.1</td>\n",
       "    </tr>\n",
       "    <tr>\n",
       "      <th>2</th>\n",
       "      <td>Si3N4.xY2O3.ySrO</td>\n",
       "      <td>649.0</td>\n",
       "      <td>1373.0</td>\n",
       "      <td>Polycrystalline</td>\n",
       "      <td>Ceramic Technology Project Data Base:  Septemb...</td>\n",
       "      <td>Si3.0N4.0Y0.2O0.3Sr0.1O0.1</td>\n",
       "    </tr>\n",
       "    <tr>\n",
       "      <th>3</th>\n",
       "      <td>Si3N4.xY2O3.ySrO</td>\n",
       "      <td>675.0</td>\n",
       "      <td>1373.0</td>\n",
       "      <td>Polycrystalline</td>\n",
       "      <td>Ceramic Technology Project Data Base:  Septemb...</td>\n",
       "      <td>Si3.0N4.0Y0.2O0.3Sr0.1O0.1</td>\n",
       "    </tr>\n",
       "    <tr>\n",
       "      <th>4</th>\n",
       "      <td>Si3N4.xY2O3.ySrO</td>\n",
       "      <td>697.0</td>\n",
       "      <td>1373.0</td>\n",
       "      <td>Polycrystalline</td>\n",
       "      <td>Ceramic Technology Project Data Base:  Septemb...</td>\n",
       "      <td>Si3.0N4.0Y0.2O0.3Sr0.1O0.1</td>\n",
       "    </tr>\n",
       "  </tbody>\n",
       "</table>\n",
       "</div>"
      ],
      "text/plain": [
       "            Formula  Flexural Strength (MPa)  Temperature (K)  \\\n",
       "0  Si3N4.xY2O3.ySrO                    707.0            298.0   \n",
       "1  Si3N4.xY2O3.ySrO                    609.0           1373.0   \n",
       "2  Si3N4.xY2O3.ySrO                    649.0           1373.0   \n",
       "3  Si3N4.xY2O3.ySrO                    675.0           1373.0   \n",
       "4  Si3N4.xY2O3.ySrO                    697.0           1373.0   \n",
       "\n",
       "     Crystallinity                                          Reference  \\\n",
       "0  Polycrystalline  Ceramic Technology Project Data Base:  Septemb...   \n",
       "1  Polycrystalline  Ceramic Technology Project Data Base:  Septemb...   \n",
       "2  Polycrystalline  Ceramic Technology Project Data Base:  Septemb...   \n",
       "3  Polycrystalline  Ceramic Technology Project Data Base:  Septemb...   \n",
       "4  Polycrystalline  Ceramic Technology Project Data Base:  Septemb...   \n",
       "\n",
       "                  flatFormula  \n",
       "0  Si3.0N4.0Y0.2O0.3Sr0.1O0.1  \n",
       "1  Si3.0N4.0Y0.2O0.3Sr0.1O0.1  \n",
       "2  Si3.0N4.0Y0.2O0.3Sr0.1O0.1  \n",
       "3  Si3.0N4.0Y0.2O0.3Sr0.1O0.1  \n",
       "4  Si3.0N4.0Y0.2O0.3Sr0.1O0.1  "
      ]
     },
     "execution_count": 42,
     "metadata": {},
     "output_type": "execute_result"
    }
   ],
   "source": [
    "fs1 = fs.copy()\n",
    "fs1[\"flatFormula\"] = fs1[\"Formula\"].map(formula_parser)\n",
    "fs1.head()\n",
    "#fs1.dropna(axis=1).head()"
   ]
  },
  {
   "cell_type": "code",
   "execution_count": 43,
   "metadata": {},
   "outputs": [
    {
     "data": {
      "text/html": [
       "<div>\n",
       "<style>\n",
       "    .dataframe thead tr:only-child th {\n",
       "        text-align: right;\n",
       "    }\n",
       "\n",
       "    .dataframe thead th {\n",
       "        text-align: left;\n",
       "    }\n",
       "\n",
       "    .dataframe tbody tr th {\n",
       "        vertical-align: top;\n",
       "    }\n",
       "</style>\n",
       "<table border=\"1\" class=\"dataframe\">\n",
       "  <thead>\n",
       "    <tr style=\"text-align: right;\">\n",
       "      <th></th>\n",
       "      <th>Formula</th>\n",
       "      <th>Flexural Strength (MPa)</th>\n",
       "      <th>Temperature (K)</th>\n",
       "      <th>Crystallinity</th>\n",
       "      <th>Reference</th>\n",
       "      <th>flatFormula</th>\n",
       "      <th>composition</th>\n",
       "    </tr>\n",
       "  </thead>\n",
       "  <tbody>\n",
       "    <tr>\n",
       "      <th>0</th>\n",
       "      <td>Si3N4.xY2O3.ySrO</td>\n",
       "      <td>707.0</td>\n",
       "      <td>298.0</td>\n",
       "      <td>Polycrystalline</td>\n",
       "      <td>Ceramic Technology Project Data Base:  Septemb...</td>\n",
       "      <td>Si3.0N4.0Y0.2O0.3Sr0.1O0.1</td>\n",
       "      <td>(Si, N, Y, O, Sr)</td>\n",
       "    </tr>\n",
       "    <tr>\n",
       "      <th>1</th>\n",
       "      <td>Si3N4.xY2O3.ySrO</td>\n",
       "      <td>609.0</td>\n",
       "      <td>1373.0</td>\n",
       "      <td>Polycrystalline</td>\n",
       "      <td>Ceramic Technology Project Data Base:  Septemb...</td>\n",
       "      <td>Si3.0N4.0Y0.2O0.3Sr0.1O0.1</td>\n",
       "      <td>(Si, N, Y, O, Sr)</td>\n",
       "    </tr>\n",
       "    <tr>\n",
       "      <th>2</th>\n",
       "      <td>Si3N4.xY2O3.ySrO</td>\n",
       "      <td>649.0</td>\n",
       "      <td>1373.0</td>\n",
       "      <td>Polycrystalline</td>\n",
       "      <td>Ceramic Technology Project Data Base:  Septemb...</td>\n",
       "      <td>Si3.0N4.0Y0.2O0.3Sr0.1O0.1</td>\n",
       "      <td>(Si, N, Y, O, Sr)</td>\n",
       "    </tr>\n",
       "    <tr>\n",
       "      <th>3</th>\n",
       "      <td>Si3N4.xY2O3.ySrO</td>\n",
       "      <td>675.0</td>\n",
       "      <td>1373.0</td>\n",
       "      <td>Polycrystalline</td>\n",
       "      <td>Ceramic Technology Project Data Base:  Septemb...</td>\n",
       "      <td>Si3.0N4.0Y0.2O0.3Sr0.1O0.1</td>\n",
       "      <td>(Si, N, Y, O, Sr)</td>\n",
       "    </tr>\n",
       "    <tr>\n",
       "      <th>4</th>\n",
       "      <td>Si3N4.xY2O3.ySrO</td>\n",
       "      <td>697.0</td>\n",
       "      <td>1373.0</td>\n",
       "      <td>Polycrystalline</td>\n",
       "      <td>Ceramic Technology Project Data Base:  Septemb...</td>\n",
       "      <td>Si3.0N4.0Y0.2O0.3Sr0.1O0.1</td>\n",
       "      <td>(Si, N, Y, O, Sr)</td>\n",
       "    </tr>\n",
       "  </tbody>\n",
       "</table>\n",
       "</div>"
      ],
      "text/plain": [
       "            Formula  Flexural Strength (MPa)  Temperature (K)  \\\n",
       "0  Si3N4.xY2O3.ySrO                    707.0            298.0   \n",
       "1  Si3N4.xY2O3.ySrO                    609.0           1373.0   \n",
       "2  Si3N4.xY2O3.ySrO                    649.0           1373.0   \n",
       "3  Si3N4.xY2O3.ySrO                    675.0           1373.0   \n",
       "4  Si3N4.xY2O3.ySrO                    697.0           1373.0   \n",
       "\n",
       "     Crystallinity                                          Reference  \\\n",
       "0  Polycrystalline  Ceramic Technology Project Data Base:  Septemb...   \n",
       "1  Polycrystalline  Ceramic Technology Project Data Base:  Septemb...   \n",
       "2  Polycrystalline  Ceramic Technology Project Data Base:  Septemb...   \n",
       "3  Polycrystalline  Ceramic Technology Project Data Base:  Septemb...   \n",
       "4  Polycrystalline  Ceramic Technology Project Data Base:  Septemb...   \n",
       "\n",
       "                  flatFormula        composition  \n",
       "0  Si3.0N4.0Y0.2O0.3Sr0.1O0.1  (Si, N, Y, O, Sr)  \n",
       "1  Si3.0N4.0Y0.2O0.3Sr0.1O0.1  (Si, N, Y, O, Sr)  \n",
       "2  Si3.0N4.0Y0.2O0.3Sr0.1O0.1  (Si, N, Y, O, Sr)  \n",
       "3  Si3.0N4.0Y0.2O0.3Sr0.1O0.1  (Si, N, Y, O, Sr)  \n",
       "4  Si3.0N4.0Y0.2O0.3Sr0.1O0.1  (Si, N, Y, O, Sr)  "
      ]
     },
     "execution_count": 43,
     "metadata": {},
     "output_type": "execute_result"
    }
   ],
   "source": [
    "fs1[\"composition\"] =fs1[\"flatFormula\"].transform(str_to_composition)\n",
    "fs1.head()"
   ]
  },
  {
   "cell_type": "code",
   "execution_count": 44,
   "metadata": {},
   "outputs": [
    {
     "name": "stdout",
     "output_type": "stream",
     "text": [
      "70\n",
      "72\n"
     ]
    }
   ],
   "source": [
    "print(len(fs1['composition'].unique()))\n",
    "print(len(fs1['Formula'].unique()))"
   ]
  },
  {
   "cell_type": "markdown",
   "metadata": {},
   "source": [
    "## Featurize the Dataframe"
   ]
  },
  {
   "cell_type": "code",
   "execution_count": 22,
   "metadata": {
    "collapsed": true
   },
   "outputs": [],
   "source": [
    "from matminer.featurizers import composition\n",
    "from matminer.featurizers.composition import ElementFraction"
   ]
  },
  {
   "cell_type": "code",
   "execution_count": 23,
   "metadata": {
    "collapsed": true
   },
   "outputs": [],
   "source": [
    "# select featurizers\n",
    "\n",
    "# elemental property\n",
    "ep_feat = composition.ElementProperty.from_preset(preset_name=\"magpie\")\n",
    "\n",
    "# atomic packing efficiency\n",
    "ape_feat= composition.AtomicPackingEfficiency()\n",
    "\n",
    "#element fraction\n",
    "ep_frac = ElementFraction()\n",
    "\n",
    "# atomic orbitals\n",
    "ao_feat = composition.AtomicOrbitals()\n",
    "\n",
    "# band center\n",
    "bc_feat  = composition.BandCenter()\n",
    "\n",
    "# miedema\n",
    "m_feat  = composition.Miedema()\n",
    "\n",
    "# stoichiometry\n",
    "s_feat  = composition.Stoichiometry()\n",
    "\n",
    "# t metal fraction\n",
    "tmf_feat  = composition.TMetalFraction()\n",
    "\n",
    "# valence orbital\n",
    "vo_feat  = composition.ValenceOrbital()\n"
   ]
  },
  {
   "cell_type": "code",
   "execution_count": 45,
   "metadata": {},
   "outputs": [
    {
     "data": {
      "text/html": [
       "<div>\n",
       "<style>\n",
       "    .dataframe thead tr:only-child th {\n",
       "        text-align: right;\n",
       "    }\n",
       "\n",
       "    .dataframe thead th {\n",
       "        text-align: left;\n",
       "    }\n",
       "\n",
       "    .dataframe tbody tr th {\n",
       "        vertical-align: top;\n",
       "    }\n",
       "</style>\n",
       "<table border=\"1\" class=\"dataframe\">\n",
       "  <thead>\n",
       "    <tr style=\"text-align: right;\">\n",
       "      <th></th>\n",
       "      <th>Formula</th>\n",
       "      <th>Flexural Strength (MPa)</th>\n",
       "      <th>Temperature (K)</th>\n",
       "      <th>Crystallinity</th>\n",
       "      <th>Reference</th>\n",
       "      <th>flatFormula</th>\n",
       "      <th>composition</th>\n",
       "    </tr>\n",
       "  </thead>\n",
       "  <tbody>\n",
       "    <tr>\n",
       "      <th>0</th>\n",
       "      <td>Si3N4.xY2O3.ySrO</td>\n",
       "      <td>707.0</td>\n",
       "      <td>298.0</td>\n",
       "      <td>Polycrystalline</td>\n",
       "      <td>Ceramic Technology Project Data Base:  Septemb...</td>\n",
       "      <td>Si3.0N4.0Y0.2O0.3Sr0.1O0.1</td>\n",
       "      <td>(Si, N, Y, O, Sr)</td>\n",
       "    </tr>\n",
       "    <tr>\n",
       "      <th>1</th>\n",
       "      <td>Si3N4.xY2O3.ySrO</td>\n",
       "      <td>609.0</td>\n",
       "      <td>1373.0</td>\n",
       "      <td>Polycrystalline</td>\n",
       "      <td>Ceramic Technology Project Data Base:  Septemb...</td>\n",
       "      <td>Si3.0N4.0Y0.2O0.3Sr0.1O0.1</td>\n",
       "      <td>(Si, N, Y, O, Sr)</td>\n",
       "    </tr>\n",
       "    <tr>\n",
       "      <th>5</th>\n",
       "      <td>Si3N4.xY2O3.ySrO</td>\n",
       "      <td>537.0</td>\n",
       "      <td>1473.0</td>\n",
       "      <td>Polycrystalline</td>\n",
       "      <td>Ceramic Technology Project Data Base:  Septemb...</td>\n",
       "      <td>Si3.0N4.0Y0.2O0.3Sr0.1O0.1</td>\n",
       "      <td>(Si, N, Y, O, Sr)</td>\n",
       "    </tr>\n",
       "    <tr>\n",
       "      <th>7</th>\n",
       "      <td>Si3N4.xY2O3.ySrO</td>\n",
       "      <td>513.0</td>\n",
       "      <td>1573.0</td>\n",
       "      <td>Polycrystalline</td>\n",
       "      <td>Ceramic Technology Project Data Base:  Septemb...</td>\n",
       "      <td>Si3.0N4.0Y0.2O0.3Sr0.1O0.1</td>\n",
       "      <td>(Si, N, Y, O, Sr)</td>\n",
       "    </tr>\n",
       "    <tr>\n",
       "      <th>10</th>\n",
       "      <td>ZrO2.xMgO</td>\n",
       "      <td>677.0</td>\n",
       "      <td>298.0</td>\n",
       "      <td>Polycrystalline</td>\n",
       "      <td>Characterization Studies of Transformation-Tou...</td>\n",
       "      <td>Zr1.0O2.0Mg0.1O0.1</td>\n",
       "      <td>(Zr, O, Mg)</td>\n",
       "    </tr>\n",
       "  </tbody>\n",
       "</table>\n",
       "</div>"
      ],
      "text/plain": [
       "             Formula  Flexural Strength (MPa)  Temperature (K)  \\\n",
       "0   Si3N4.xY2O3.ySrO                    707.0            298.0   \n",
       "1   Si3N4.xY2O3.ySrO                    609.0           1373.0   \n",
       "5   Si3N4.xY2O3.ySrO                    537.0           1473.0   \n",
       "7   Si3N4.xY2O3.ySrO                    513.0           1573.0   \n",
       "10         ZrO2.xMgO                    677.0            298.0   \n",
       "\n",
       "      Crystallinity                                          Reference  \\\n",
       "0   Polycrystalline  Ceramic Technology Project Data Base:  Septemb...   \n",
       "1   Polycrystalline  Ceramic Technology Project Data Base:  Septemb...   \n",
       "5   Polycrystalline  Ceramic Technology Project Data Base:  Septemb...   \n",
       "7   Polycrystalline  Ceramic Technology Project Data Base:  Septemb...   \n",
       "10  Polycrystalline  Characterization Studies of Transformation-Tou...   \n",
       "\n",
       "                   flatFormula        composition  \n",
       "0   Si3.0N4.0Y0.2O0.3Sr0.1O0.1  (Si, N, Y, O, Sr)  \n",
       "1   Si3.0N4.0Y0.2O0.3Sr0.1O0.1  (Si, N, Y, O, Sr)  \n",
       "5   Si3.0N4.0Y0.2O0.3Sr0.1O0.1  (Si, N, Y, O, Sr)  \n",
       "7   Si3.0N4.0Y0.2O0.3Sr0.1O0.1  (Si, N, Y, O, Sr)  \n",
       "10          Zr1.0O2.0Mg0.1O0.1        (Zr, O, Mg)  "
      ]
     },
     "execution_count": 45,
     "metadata": {},
     "output_type": "execute_result"
    }
   ],
   "source": [
    "fsg=fs1.drop_duplicates(['Formula','Temperature (K)','Crystallinity'])\n",
    "# print('Shape of dataset with no duplicates: %s'%str(fsg.shape))\n",
    "# print('Number of unique chemical Formulae in the dataset: %i'%(fsg['Formula'].nunique()))\n",
    "fsg.head()"
   ]
  },
  {
   "cell_type": "code",
   "execution_count": 46,
   "metadata": {
    "collapsed": true
   },
   "outputs": [],
   "source": [
    "fsg= ep_feat.featurize_dataframe(fsg,col_id='composition',ignore_errors=True)\n",
    "fsg= ape_feat.featurize_dataframe(fsg,col_id='composition',ignore_errors=True)\n",
    "fsg = ep_frac.featurize_dataframe(fsg, col_id = \"composition\", ignore_errors = True)\n",
    "fsg = ao_feat.featurize_dataframe(fsg, col_id=\"composition\", ignore_errors=True)  \n",
    "fsg = bc_feat.featurize_dataframe(fsg, col_id=\"composition\", ignore_errors=True) \n",
    "fsg = m_feat.featurize_dataframe(fsg, col_id=\"composition\", ignore_errors=True) \n",
    "fsg = s_feat.featurize_dataframe(fsg, col_id=\"composition\", ignore_errors=True) \n",
    "fsg = tmf_feat.featurize_dataframe(fsg, col_id=\"composition\", ignore_errors=True) \n",
    "fsg = vo_feat.featurize_dataframe(fsg, col_id=\"composition\", ignore_errors=True) "
   ]
  },
  {
   "cell_type": "code",
   "execution_count": 47,
   "metadata": {},
   "outputs": [
    {
     "name": "stdout",
     "output_type": "stream",
     "text": [
      "Shape of dataset with Features: (553, 271)\n"
     ]
    }
   ],
   "source": [
    "fsg.to_pickle('flexural_strength_temperature_with_features.pkl')\n",
    "print('Shape of dataset with Features: %s'%str(fsg.shape))"
   ]
  },
  {
   "cell_type": "code",
   "execution_count": null,
   "metadata": {},
   "outputs": [],
   "source": [
    "# fsg2= fs1.drop_duplicates(['Formula','Temperature (K)','Crystallinity'])\n",
    "# fsg2= ep_feat.featurize_dataframe(fsg2,col_id='composition',ignore_errors=True)\n",
    "# fsg2 = ep_frac.featurize_dataframe(fsg2, col_id = \"composition\", ignore_errors = True)\n",
    "# fsg2.to_pickle('flexural_strength_temperature_with_less_features.pkl')\n",
    "# print('Shape of dataset with Features: %s'%str(fsg2.shape))"
   ]
  },
  {
   "cell_type": "markdown",
   "metadata": {},
   "source": [
    "## Try some ML algorithms"
   ]
  },
  {
   "cell_type": "code",
   "execution_count": 48,
   "metadata": {
    "collapsed": true
   },
   "outputs": [],
   "source": [
    "from sklearn.linear_model import LinearRegression\n",
    "from sklearn.metrics import mean_squared_error\n",
    "from sklearn.model_selection import KFold, cross_val_score\n",
    "from sklearn import preprocessing"
   ]
  },
  {
   "cell_type": "code",
   "execution_count": 49,
   "metadata": {},
   "outputs": [
    {
     "name": "stdout",
     "output_type": "stream",
     "text": [
      "True\n",
      "False\n",
      "(553, 258)\n",
      "(553,)\n",
      "(553, 252)\n",
      "training R2 = 0.634\n",
      "training RMSE = 160.049\n"
     ]
    }
   ],
   "source": [
    "print(fsg.isnull().values.any())\n",
    "#get rid of \n",
    "fsgd = fsg.dropna(axis=1)\n",
    "print(fsgd.isnull().values.any())\n",
    "print(fsgd.shape)\n",
    "\n",
    "y = fsgd['Flexural Strength (MPa)'].values\n",
    "print(y.shape)\n",
    "excluded = ['Formula', 'Crystallinity', 'Reference', 'flatFormula', 'composition', 'Flexural Strength (MPa)']\n",
    "X = fsgd.drop(excluded, axis=1)\n",
    "X = X.astype(float)\n",
    "X1 = X.values\n",
    "X1 = preprocessing.scale(X1)\n",
    "print(X1.shape)\n",
    "\n",
    "lr = LinearRegression()\n",
    "lr.fit(X1,y)\n",
    "\n",
    "# get fit statistics\n",
    "print('training R2 = ' + str(round(lr.score(X1, y), 3)))\n",
    "print('training RMSE = %.3f' % np.sqrt(mean_squared_error(y_true=y, y_pred=lr.predict(X1))))"
   ]
  },
  {
   "cell_type": "code",
   "execution_count": 50,
   "metadata": {},
   "outputs": [
    {
     "name": "stdout",
     "output_type": "stream",
     "text": [
      "Cross-validation results:\n",
      "Folds: 10, mean R2: 58076518855838250565632.000\n",
      "Folds: 10, mean RMSE: 31022406004001.523\n"
     ]
    }
   ],
   "source": [
    "crossvalidation = KFold(n_splits=10, shuffle=False, random_state=1)\n",
    "scores = cross_val_score(lr, X1, y, scoring='neg_mean_squared_error', cv=crossvalidation, n_jobs=1)\n",
    "rmse_scores = [np.sqrt(abs(s)) for s in scores]\n",
    "r2_scores = cross_val_score(lr, X1, y, scoring='r2', cv=crossvalidation, n_jobs=1)\n",
    "\n",
    "print('Cross-validation results:')\n",
    "print('Folds: %i, mean R2: %.3f' % (len(scores), np.mean(np.abs(r2_scores))))\n",
    "print('Folds: %i, mean RMSE: %.3f' % (len(scores), np.mean(np.abs(rmse_scores))))"
   ]
  },
  {
   "cell_type": "code",
   "execution_count": 51,
   "metadata": {},
   "outputs": [
    {
     "name": "stderr",
     "output_type": "stream",
     "text": [
      "C:\\Users\\Steven\\Anaconda3\\lib\\site-packages\\sklearn\\ensemble\\weight_boosting.py:29: DeprecationWarning:\n",
      "\n",
      "numpy.core.umath_tests is an internal NumPy module and should not be imported. It will be removed in a future NumPy release.\n",
      "\n"
     ]
    },
    {
     "name": "stdout",
     "output_type": "stream",
     "text": [
      "training R2 = 0.917\n",
      "training RMSE = 76.294\n"
     ]
    }
   ],
   "source": [
    "from sklearn.ensemble import RandomForestRegressor\n",
    "\n",
    "rf = RandomForestRegressor(n_estimators=50, random_state=1)\n",
    "\n",
    "rf.fit(X1, y)\n",
    "print('training R2 = ' + str(round(rf.score(X1, y), 3)))\n",
    "print('training RMSE = %.3f' % np.sqrt(mean_squared_error(y_true=y, y_pred=rf.predict(X1))))"
   ]
  },
  {
   "cell_type": "code",
   "execution_count": 52,
   "metadata": {},
   "outputs": [
    {
     "name": "stdout",
     "output_type": "stream",
     "text": [
      "Cross-validation results:\n",
      "Folds: 10, mean R2: 0.413\n",
      "Folds: 10, mean RMSE: 231.015\n"
     ]
    }
   ],
   "source": [
    "# compute cross validation scores for random forest model\n",
    "r2_scores = cross_val_score(rf, X1, y, scoring='r2', cv=crossvalidation, n_jobs=-1)\n",
    "scores = cross_val_score(rf, X1, y, scoring='neg_mean_squared_error', cv=crossvalidation, n_jobs=-1)\n",
    "rmse_scores = [np.sqrt(abs(s)) for s in scores]\n",
    "\n",
    "print('Cross-validation results:')\n",
    "print('Folds: %i, mean R2: %.3f' % (len(scores), np.mean(np.abs(r2_scores))))\n",
    "print('Folds: %i, mean RMSE: %.3f' % (len(scores), np.mean(np.abs(rmse_scores))))"
   ]
  },
  {
   "cell_type": "code",
   "execution_count": 53,
   "metadata": {},
   "outputs": [
    {
     "name": "stdout",
     "output_type": "stream",
     "text": [
      "training R2 = 0.919\n",
      "training RMSE = 77.068\n",
      "test R2 = 0.517\n",
      "test RMSE = 161.951\n"
     ]
    }
   ],
   "source": [
    "#using X not X1 - does this matter? seems not\n",
    "\n",
    "from sklearn.model_selection import train_test_split\n",
    "X['formula'] = fsgd['Formula']\n",
    "X_train, X_test, y_train, y_test = train_test_split(X, y, test_size=0.2, random_state=1)\n",
    "train_formula = X_train['formula']\n",
    "X_train = X_train.drop('formula', axis=1)\n",
    "test_formula = X_test['formula']\n",
    "X_test = X_test.drop('formula', axis=1)\n",
    "\n",
    "rf_reg = RandomForestRegressor(n_estimators=50, random_state=1)\n",
    "rf_reg.fit(X_train, y_train)\n",
    "\n",
    "# get fit statistics\n",
    "print('training R2 = ' + str(round(rf_reg.score(X_train, y_train), 3)))\n",
    "print('training RMSE = %.3f' % np.sqrt(mean_squared_error(y_true=y_train, y_pred=rf_reg.predict(X_train))))\n",
    "print('test R2 = ' + str(round(rf_reg.score(X_test, y_test), 3)))\n",
    "print('test RMSE = %.3f' % np.sqrt(mean_squared_error(y_true=y_test, y_pred=rf_reg.predict(X_test))))"
   ]
  },
  {
   "cell_type": "code",
   "execution_count": 79,
   "metadata": {
    "scrolled": true
   },
   "outputs": [
    {
     "data": {
      "text/plain": [
       "<matplotlib.axes._subplots.AxesSubplot at 0x1ce9b050128>"
      ]
     },
     "execution_count": 79,
     "metadata": {},
     "output_type": "execute_result"
    },
    {
     "data": {
      "image/png": "[encoded data removed]",
      "text/plain": [
       "<Figure size 432x288 with 1 Axes>"
      ]
     },
     "metadata": {},
     "output_type": "display_data"
    }
   ],
   "source": [
    "feats = {} # a dict to hold feature_name: feature_importance\n",
    "for feature, importance in zip(X.columns, rf.feature_importances_):\n",
    "    feats[feature] = importance #add the name/value pair \n",
    "\n",
    "importances = pd.DataFrame.from_dict(feats, orient='index').rename(columns={0: 'Gini-importance'})\n",
    "imp = importances.sort_values(by = 'Gini-importance')[-10:]\n",
    "imp.plot(kind='bar')"
   ]
  },
  {
   "cell_type": "code",
   "execution_count": null,
   "metadata": {
    "collapsed": true
   },
   "outputs": [],
   "source": []
  }
 ],
 "metadata": {
  "kernelspec": {
   "display_name": "Python 3",
   "language": "python",
   "name": "python3"
  },
  "language_info": {
   "codemirror_mode": {
    "name": "ipython",
    "version": 3
   },
   "file_extension": ".py",
   "mimetype": "text/x-python",
   "name": "python",
   "nbconvert_exporter": "python",
   "pygments_lexer": "ipython3",
   "version": "3.6.6"
  }
 },
 "nbformat": 4,
 "nbformat_minor": 2
}
