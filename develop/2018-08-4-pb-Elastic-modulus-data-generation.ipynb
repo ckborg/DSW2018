{
 "cells": [
  {
   "cell_type": "code",
   "execution_count": 11,
   "metadata": {
    "collapsed": true
   },
   "outputs": [],
   "source": [
    "import numpy as np\n",
    "import os\n",
    "import matplotlib.pyplot as plt"
   ]
  },
  {
   "cell_type": "code",
   "execution_count": 2,
   "metadata": {
    "collapsed": true
   },
   "outputs": [],
   "source": [
    "from os import environ\n",
    "from citrination_client import CitrinationClient\n",
    "from citrination_client import *"
   ]
  },
  {
   "cell_type": "code",
   "execution_count": 3,
   "metadata": {
    "collapsed": true
   },
   "outputs": [],
   "source": [
    "from pypif import pif\n",
    "from pypif.obj import *\n",
    "import csv"
   ]
  },
  {
   "cell_type": "code",
   "execution_count": 4,
   "metadata": {
    "collapsed": true
   },
   "outputs": [],
   "source": [
    "import pandas as pd"
   ]
  },
  {
   "cell_type": "markdown",
   "metadata": {},
   "source": [
    "# Table 1:"
   ]
  },
  {
   "cell_type": "code",
   "execution_count": 5,
   "metadata": {},
   "outputs": [
    {
     "name": "stdout",
     "output_type": "stream",
     "text": [
      "We found 381 records\n",
      "[{'formula': 'ZrO2', 'Elastic Modulus': ['112', '112', '112', '112', '112', '112', '112', '103', '76', '60', '47', '35', '111', '102', '74', '50', '23', '110', '98', '76', '110', '98', '75', '106', '100']}, {'formula': 'ZrNx', 'Elastic Modulus': ['480', '450', '400', '430']}]\n"
     ]
    }
   ],
   "source": [
    "client = CitrinationClient(environ['CITRINATION_API_KEY'], 'https://citrination.com')\n",
    "dataset_id = '151803'\n",
    "value_query = FieldQuery(extract_as=\"Elastic Modulus\", extract_all=True)\n",
    "property_query = PropertyQuery(name=FieldQuery(filter=[Filter(equal=\"Elastic Modulus\")]), value=value_query)\n",
    "formula_query = ChemicalFieldQuery(extract_as=\"formula\")\n",
    "system_query = PifSystemQuery(chemical_formula=formula_query, properties=property_query)\n",
    "dataset_query = DatasetQuery(id=[Filter(equal=dataset_id)])\n",
    "data_query = DataQuery(dataset=dataset_query, system=system_query)\n",
    "pif_query = PifSystemReturningQuery(size=5000, random_results=True, query=data_query)\n",
    "search_result = client.search.pif_search(pif_query)\n",
    "\n",
    "print(\"We found {} records\".format(len(search_result.hits)))\n",
    "print([x.extracted for x in search_result.hits[0:2]])"
   ]
  },
  {
   "cell_type": "markdown",
   "metadata": {},
   "source": [
    "Gererating table for Elastic modulus vs Temperature"
   ]
  },
  {
   "cell_type": "code",
   "execution_count": 7,
   "metadata": {
    "collapsed": true
   },
   "outputs": [],
   "source": [
    "rows = []\n",
    "pif_records = [x.system for x in search_result.hits]\n",
    "for system in pif_records:\n",
    "    if \"x\" not in system.chemical_formula and \".\" not in system.chemical_formula:\n",
    "        cryst_value= None\n",
    "        for prop in system.properties:\n",
    "            if prop.name == 'Crystallinity':\n",
    "                cryst_value= prop.scalars[0].value\n",
    "        for prop in system.properties:\n",
    "            if prop.name == \"Elastic Modulus\" and prop.units == \"GPa\":\n",
    "                for cond in prop.conditions:\n",
    "                    if cond.name == \"Temperature\":\n",
    "                        if len(prop.scalars) == len(cond.scalars):\n",
    "                            for prop_sca, cond_sca in zip(prop.scalars, cond.scalars):\n",
    "                                row = [system.chemical_formula, prop_sca.value, cond_sca.value, \n",
    "                                       cryst_value, system.references[0].citation]\n",
    "                                rows.append(row)\n",
    "\n",
    "with open('elastic_modulus_temperature.csv', 'w') as csvfile:\n",
    "    writer = csv.writer(csvfile)\n",
    "    writer.writerow(['Formula', 'Elastic (GPa)', 'Temperature (K)', 'Crystallinity','Reference'])\n",
    "    writer.writerows(rows)"
   ]
  },
  {
   "cell_type": "markdown",
   "metadata": {},
   "source": [
    "Generating csv for elastic modulus vs Volume Fraction of Porosity"
   ]
  },
  {
   "cell_type": "code",
   "execution_count": 8,
   "metadata": {
    "collapsed": true
   },
   "outputs": [],
   "source": [
    "rows = []\n",
    "pif_records = [x.system for x in search_result.hits]\n",
    "for system in pif_records:\n",
    "    if \"x\" not in system.chemical_formula and \".\" not in system.chemical_formula:\n",
    "        cryst_value= None\n",
    "        for prop in system.properties:\n",
    "            if prop.name == 'Crystallinity':\n",
    "                cryst_value= prop.scalars[0].value\n",
    "        for prop in system.properties:\n",
    "            if prop.name == \"Elastic Modulus\" and prop.units == \"GPa\":\n",
    "                for cond in prop.conditions:\n",
    "                    if cond.name == \"Volume Fraction of Porosity\":\n",
    "                        if len(prop.scalars) == len(cond.scalars):\n",
    "                            for prop_sca, cond_sca in zip(prop.scalars, cond.scalars):\n",
    "                                if '_units' in cond.__dict__.keys():\n",
    "                                    if cond.units == '%':\n",
    "                                        cond_sca.value = float(cond_sca.value)/100.\n",
    "                                row = [system.chemical_formula, prop_sca.value, cond_sca.value, \n",
    "                                       cryst_value, system.references[0].citation]\n",
    "                                rows.append(row)\n",
    "\n",
    "with open('elastic_modulus_porosity.csv', 'w') as csvfile:\n",
    "    writer = csv.writer(csvfile)\n",
    "    writer.writerow(['Formula', 'Elastic (GPa)', 'Volume Fraction of Porosity', 'Crystallinity','Reference'])\n",
    "    writer.writerows(rows)"
   ]
  },
  {
   "cell_type": "markdown",
   "metadata": {},
   "source": [
    "# Table 2:"
   ]
  },
  {
   "cell_type": "code",
   "execution_count": 24,
   "metadata": {},
   "outputs": [],
   "source": [
    "from matminer.utils.conversions import str_to_composition\n",
    "from matminer.featurizers import composition\n",
    "from matminer.featurizers import structure"
   ]
  },
  {
   "cell_type": "markdown",
   "metadata": {},
   "source": [
    "Elastic Modulus vs. Temperature"
   ]
  },
  {
   "cell_type": "code",
   "execution_count": 28,
   "metadata": {},
   "outputs": [],
   "source": [
    "# select featurizers\n",
    "\n",
    "# elemental property\n",
    "ep_feat = composition.ElementProperty.from_preset(preset_name=\"magpie\")\n",
    "\n",
    "# atomic packing efficiency\n",
    "ape_feat= composition.AtomicPackingEfficiency()\n",
    "\n",
    "# density features\n",
    "d_feat= structure.DensityFeatures()"
   ]
  },
  {
   "cell_type": "code",
   "execution_count": 42,
   "metadata": {
    "collapsed": true
   },
   "outputs": [],
   "source": [
    "dat_t= pd.read_csv('elastic_modulus_temperature.csv',header= 0)"
   ]
  },
  {
   "cell_type": "code",
   "execution_count": 43,
   "metadata": {},
   "outputs": [],
   "source": [
    "dat_t['composition']= dat_t['Formula'].transform(str_to_composition)\n",
    "dat_t= ep_feat.featurize_dataframe(dat_t,col_id='composition',ignore_errors=True)\n",
    "dat_t= ape_feat.featurize_dataframe(dat_t,col_id='composition',ignore_errors=True)\n",
    "#dat_t= d_feat.featurize_dataframe(dat_t,col_id='structure',ignore_errors=True)"
   ]
  },
  {
   "cell_type": "code",
   "execution_count": 47,
   "metadata": {
    "collapsed": true
   },
   "outputs": [],
   "source": [
    "dat_t.to_pickle('elastic_modulus_temperature.pkl')"
   ]
  },
  {
   "cell_type": "markdown",
   "metadata": {},
   "source": [
    "Elastic Modulus vs. Porosity"
   ]
  },
  {
   "cell_type": "code",
   "execution_count": 44,
   "metadata": {
    "collapsed": true
   },
   "outputs": [],
   "source": [
    "dat_p= pd.read_csv('elastic_modulus_porosity.csv',header= 0)"
   ]
  },
  {
   "cell_type": "code",
   "execution_count": 45,
   "metadata": {
    "scrolled": true
   },
   "outputs": [],
   "source": [
    "dat_p['composition']= dat_p['Formula'].transform(str_to_composition)\n",
    "dat_p= ep_feat.featurize_dataframe(dat_p,col_id='composition',ignore_errors=True)\n",
    "dat_p= ape_feat.featurize_dataframe(dat_p,col_id='composition',ignore_errors=True)\n",
    "#dat_p= d_feat.featurize_dataframe(dat_p,col_id='structure',ignore_errors=True)"
   ]
  },
  {
   "cell_type": "code",
   "execution_count": 48,
   "metadata": {},
   "outputs": [],
   "source": [
    "dat_p.to_pickle('elastic_modulus_porosity.pkl')"
   ]
  }
 ],
 "metadata": {
  "kernelspec": {
   "display_name": "Python 3",
   "language": "python",
   "name": "python3"
  },
  "language_info": {
   "codemirror_mode": {
    "name": "ipython",
    "version": 3
   },
   "file_extension": ".py",
   "mimetype": "text/x-python",
   "name": "python",
   "nbconvert_exporter": "python",
   "pygments_lexer": "ipython3",
   "version": "3.6.4"
  }
 },
 "nbformat": 4,
 "nbformat_minor": 2
}
