{
 "cells": [
  {
   "cell_type": "code",
   "execution_count": 218,
   "metadata": {},
   "outputs": [],
   "source": [
    "from os import environ\n",
    "from citrination_client import CitrinationClient\n",
    "from citrination_client import *"
   ]
  },
  {
   "cell_type": "code",
   "execution_count": 219,
   "metadata": {},
   "outputs": [],
   "source": [
    "client = CitrinationClient(environ['CITRINATION_API_KEY'], 'https://citrination.com')\n",
    "dataset_id = '151803'"
   ]
  },
  {
   "cell_type": "code",
   "execution_count": 220,
   "metadata": {},
   "outputs": [
    {
     "name": "stdout",
     "output_type": "stream",
     "text": [
      "We found 396 records\n",
      "[{'Fracture Toughness': ['4.6', '11.1'], 'formula': 'Al2O3.xZrO2'}, {'Fracture Toughness': ['3.8'], 'formula': 'Si3N4'}]\n"
     ]
    }
   ],
   "source": [
    "value_query = FieldQuery(extract_as=\"Fracture Toughness\", extract_all=True)\n",
    "property_query = PropertyQuery(name=FieldQuery(filter=[Filter(equal=\"Fracture Toughness\")]), value=value_query)\n",
    "formula_query = ChemicalFieldQuery(extract_as=\"formula\")\n",
    "system_query = PifSystemQuery(chemical_formula=formula_query, properties=property_query)\n",
    "dataset_query = DatasetQuery(id=[Filter(equal=dataset_id)])\n",
    "data_query = DataQuery(dataset=dataset_query, system=system_query)\n",
    "pif_query = PifSystemReturningQuery(size=5000, random_results=True, query=data_query)\n",
    "\n",
    "search_result = client.search.pif_search(pif_query)\n",
    "\n",
    "print(\"We found {} records\".format(len(search_result.hits)))\n",
    "print([x.extracted for x in search_result.hits[0:2]])"
   ]
  },
  {
   "cell_type": "code",
   "execution_count": 221,
   "metadata": {},
   "outputs": [],
   "source": [
    "from pypif import pif\n",
    "import csv\n",
    "\n",
    "rows = []\n",
    "pif_records = [x.system for x in search_result.hits]\n",
    "for system in pif_records:\n",
    "    if \"x\" not in system.chemical_formula and \".\" not in system.chemical_formula:\n",
    "        for prop in system.properties:\n",
    "            if prop.name == \"Fracture Toughness\":\n",
    "                for cond in prop.conditions:\n",
    "                    if cond.name == \"Temperature\":\n",
    "                        if len(prop.scalars) == len(cond.scalars):\n",
    "                            for prop_sca, cond_sca in zip(prop.scalars, cond.scalars):\n",
    "                                if prop_sca.value and cond_sca.value:\n",
    "                                    if cond_sca.value.isdigit():\n",
    "                                        try:\n",
    "                                            float(prop_sca.value)\n",
    "                                            row = [system.chemical_formula, float(prop_sca.value), cond_sca.value]\n",
    "                                            rows.append(row)\n",
    "                                        except ValueError as e:\n",
    "                                            print(e)\n",
    "\n",
    "\n",
    "with open('fracture_toughness.csv', 'w') as csvfile:\n",
    "    writer = csv.writer(csvfile)\n",
    "    writer.writerow(['Formula', 'Fracture Toughness', \"Temperature\"])\n",
    "    writer.writerows(rows)\n",
    "    "
   ]
  },
  {
   "cell_type": "code",
   "execution_count": 222,
   "metadata": {},
   "outputs": [],
   "source": [
    "from matminer.utils.conversions import str_to_composition\n",
    "from matminer.featurizers.composition import ElementProperty\n",
    "import pandas as pd\n",
    "\n",
    "df = pd.read_csv('fracture_toughness.csv')\n",
    "\n",
    "df[\"composition\"] = df[\"Formula\"].transform(str_to_composition)\n",
    "ep_feat = ElementProperty.from_preset(preset_name=\"magpie\")\n",
    "df_feat = ep_feat.featurize_dataframe(df, col_id=\"composition\", ignore_errors=False)\n"
   ]
  },
  {
   "cell_type": "code",
   "execution_count": 223,
   "metadata": {},
   "outputs": [],
   "source": [
    "df_feat = df_feat.drop(['Formula'], axis=1)\n",
    "df_feat = df_feat.drop(['composition'], axis=1)"
   ]
  },
  {
   "cell_type": "code",
   "execution_count": 224,
   "metadata": {},
   "outputs": [
    {
     "name": "stdout",
     "output_type": "stream",
     "text": [
      "[[  25.            7.           14.         ...  208.14285714\n",
      "    16.16326531  194.        ]\n",
      " [1000.            7.           14.         ...  208.14285714\n",
      "    16.16326531  194.        ]\n",
      " [1200.            7.           14.         ...  208.14285714\n",
      "    16.16326531  194.        ]\n",
      " ...\n",
      " [1200.            6.            6.         ...  194.\n",
      "     0.          194.        ]\n",
      " [1160.            6.            6.         ...  194.\n",
      "     0.          194.        ]\n",
      " [1190.            6.            6.         ...  194.\n",
      "     0.          194.        ]]\n"
     ]
    }
   ],
   "source": [
    "import numpy as np\n",
    "labels = np.array(df_feat['Fracture Toughness'])\n",
    "features = df_feat.drop('Fracture Toughness', axis = 1)\n",
    "features = np.array(features)\n",
    "feature_list = list(df_feat.columns)\n",
    "\n",
    "print(features)"
   ]
  },
  {
   "cell_type": "code",
   "execution_count": 225,
   "metadata": {},
   "outputs": [
    {
     "name": "stdout",
     "output_type": "stream",
     "text": [
      "Training Features Shape: (425, 133)\n",
      "Training Labels Shape: (425,)\n",
      "Testing Features Shape: (142, 133)\n",
      "Testing Labels Shape: (142,)\n"
     ]
    }
   ],
   "source": [
    "from sklearn.model_selection import train_test_split\n",
    "train_features, test_features, train_labels, test_labels = train_test_split(features, labels, test_size = 0.25, random_state = 42)\n",
    "\n",
    "print('Training Features Shape:', train_features.shape)\n",
    "print('Training Labels Shape:', train_labels.shape)\n",
    "print('Testing Features Shape:', test_features.shape)\n",
    "print('Testing Labels Shape:', test_labels.shape)\n"
   ]
  },
  {
   "cell_type": "code",
   "execution_count": 226,
   "metadata": {},
   "outputs": [
    {
     "data": {
      "text/plain": [
       "RandomForestRegressor(bootstrap=True, criterion='mse', max_depth=None,\n",
       "           max_features='auto', max_leaf_nodes=None,\n",
       "           min_impurity_decrease=0.0, min_impurity_split=None,\n",
       "           min_samples_leaf=1, min_samples_split=2,\n",
       "           min_weight_fraction_leaf=0.0, n_estimators=100, n_jobs=1,\n",
       "           oob_score=False, random_state=42, verbose=0, warm_start=False)"
      ]
     },
     "execution_count": 226,
     "metadata": {},
     "output_type": "execute_result"
    }
   ],
   "source": [
    "# Import the model we are using\n",
    "from sklearn.ensemble import RandomForestRegressor\n",
    "# Instantiate model with 100 decision trees\n",
    "rf = RandomForestRegressor(n_estimators = 100, random_state = 42)\n",
    "# Train the model on training data\n",
    "rf.fit(train_features, train_labels)"
   ]
  },
  {
   "cell_type": "code",
   "execution_count": 227,
   "metadata": {},
   "outputs": [
    {
     "name": "stdout",
     "output_type": "stream",
     "text": [
      "Mean Absolute Error: 0.78\n",
      "Accuracy: 75.09 %.\n"
     ]
    }
   ],
   "source": [
    "# Use the forest's predict method on the test data\n",
    "predictions = rf.predict(test_features)\n",
    "# Calculate the absolute errors\n",
    "errors = abs(predictions - test_labels)\n",
    "# Print out the mean absolute error (mae)\n",
    "print('Mean Absolute Error:', round(np.mean(errors), 2))\n",
    "mape = 100 * (errors / test_labels)\n",
    "# Calculate and display accuracy\n",
    "accuracy = 100 - np.mean(mape)\n",
    "print('Accuracy:', round(accuracy, 2), '%.')"
   ]
  },
  {
   "cell_type": "code",
   "execution_count": 228,
   "metadata": {},
   "outputs": [
    {
     "name": "stdout",
     "output_type": "stream",
     "text": [
      "Variable: Fracture Toughness   Importance: 0.35\n",
      "Variable: avg_dev GSbandgap    Importance: 0.23\n",
      "Variable: range GSbandgap      Importance: 0.12\n",
      "Variable: mean NValence        Importance: 0.08\n",
      "Variable: range MeltingT       Importance: 0.03\n",
      "Variable: mode NfValence       Importance: 0.02\n",
      "Variable: minimum MeltingT     Importance: 0.01\n",
      "Variable: maximum Column       Importance: 0.01\n",
      "Variable: range Electronegativity Importance: 0.01\n",
      "Variable: maximum NValence     Importance: 0.01\n",
      "Variable: mean NpUnfilled      Importance: 0.01\n",
      "Variable: maximum GSvolume_pa  Importance: 0.01\n",
      "Variable: range SpaceGroupNumber Importance: 0.01\n",
      "Variable: Temperature          Importance: 0.0\n",
      "Variable: minimum Number       Importance: 0.0\n",
      "Variable: maximum Number       Importance: 0.0\n",
      "Variable: range Number         Importance: 0.0\n",
      "Variable: mean Number          Importance: 0.0\n",
      "Variable: avg_dev Number       Importance: 0.0\n",
      "Variable: mode Number          Importance: 0.0\n",
      "Variable: minimum MendeleevNumber Importance: 0.0\n",
      "Variable: maximum MendeleevNumber Importance: 0.0\n",
      "Variable: range MendeleevNumber Importance: 0.0\n",
      "Variable: mean MendeleevNumber Importance: 0.0\n",
      "Variable: avg_dev MendeleevNumber Importance: 0.0\n",
      "Variable: mode MendeleevNumber Importance: 0.0\n",
      "Variable: minimum AtomicWeight Importance: 0.0\n",
      "Variable: maximum AtomicWeight Importance: 0.0\n",
      "Variable: range AtomicWeight   Importance: 0.0\n",
      "Variable: mean AtomicWeight    Importance: 0.0\n",
      "Variable: avg_dev AtomicWeight Importance: 0.0\n",
      "Variable: mode AtomicWeight    Importance: 0.0\n",
      "Variable: maximum MeltingT     Importance: 0.0\n",
      "Variable: mean MeltingT        Importance: 0.0\n",
      "Variable: avg_dev MeltingT     Importance: 0.0\n",
      "Variable: mode MeltingT        Importance: 0.0\n",
      "Variable: minimum Column       Importance: 0.0\n",
      "Variable: range Column         Importance: 0.0\n",
      "Variable: mean Column          Importance: 0.0\n",
      "Variable: avg_dev Column       Importance: 0.0\n",
      "Variable: mode Column          Importance: 0.0\n",
      "Variable: minimum Row          Importance: 0.0\n",
      "Variable: maximum Row          Importance: 0.0\n",
      "Variable: range Row            Importance: 0.0\n",
      "Variable: mean Row             Importance: 0.0\n",
      "Variable: avg_dev Row          Importance: 0.0\n",
      "Variable: mode Row             Importance: 0.0\n",
      "Variable: minimum CovalentRadius Importance: 0.0\n",
      "Variable: maximum CovalentRadius Importance: 0.0\n",
      "Variable: range CovalentRadius Importance: 0.0\n",
      "Variable: mean CovalentRadius  Importance: 0.0\n",
      "Variable: avg_dev CovalentRadius Importance: 0.0\n",
      "Variable: mode CovalentRadius  Importance: 0.0\n",
      "Variable: minimum Electronegativity Importance: 0.0\n",
      "Variable: maximum Electronegativity Importance: 0.0\n",
      "Variable: mean Electronegativity Importance: 0.0\n",
      "Variable: avg_dev Electronegativity Importance: 0.0\n",
      "Variable: mode Electronegativity Importance: 0.0\n",
      "Variable: minimum NsValence    Importance: 0.0\n",
      "Variable: maximum NsValence    Importance: 0.0\n",
      "Variable: range NsValence      Importance: 0.0\n",
      "Variable: mean NsValence       Importance: 0.0\n",
      "Variable: avg_dev NsValence    Importance: 0.0\n",
      "Variable: mode NsValence       Importance: 0.0\n",
      "Variable: minimum NpValence    Importance: 0.0\n",
      "Variable: maximum NpValence    Importance: 0.0\n",
      "Variable: range NpValence      Importance: 0.0\n",
      "Variable: mean NpValence       Importance: 0.0\n",
      "Variable: avg_dev NpValence    Importance: 0.0\n",
      "Variable: mode NpValence       Importance: 0.0\n",
      "Variable: minimum NdValence    Importance: 0.0\n",
      "Variable: maximum NdValence    Importance: 0.0\n",
      "Variable: range NdValence      Importance: 0.0\n",
      "Variable: mean NdValence       Importance: 0.0\n",
      "Variable: avg_dev NdValence    Importance: 0.0\n",
      "Variable: mode NdValence       Importance: 0.0\n",
      "Variable: minimum NfValence    Importance: 0.0\n",
      "Variable: maximum NfValence    Importance: 0.0\n",
      "Variable: range NfValence      Importance: 0.0\n",
      "Variable: mean NfValence       Importance: 0.0\n",
      "Variable: avg_dev NfValence    Importance: 0.0\n",
      "Variable: minimum NValence     Importance: 0.0\n",
      "Variable: range NValence       Importance: 0.0\n",
      "Variable: avg_dev NValence     Importance: 0.0\n",
      "Variable: mode NValence        Importance: 0.0\n",
      "Variable: minimum NsUnfilled   Importance: 0.0\n",
      "Variable: maximum NsUnfilled   Importance: 0.0\n",
      "Variable: range NsUnfilled     Importance: 0.0\n",
      "Variable: mean NsUnfilled      Importance: 0.0\n",
      "Variable: avg_dev NsUnfilled   Importance: 0.0\n",
      "Variable: mode NsUnfilled      Importance: 0.0\n",
      "Variable: minimum NpUnfilled   Importance: 0.0\n",
      "Variable: maximum NpUnfilled   Importance: 0.0\n",
      "Variable: range NpUnfilled     Importance: 0.0\n",
      "Variable: avg_dev NpUnfilled   Importance: 0.0\n",
      "Variable: mode NpUnfilled      Importance: 0.0\n",
      "Variable: minimum NdUnfilled   Importance: 0.0\n",
      "Variable: maximum NdUnfilled   Importance: 0.0\n",
      "Variable: range NdUnfilled     Importance: 0.0\n",
      "Variable: mean NdUnfilled      Importance: 0.0\n",
      "Variable: avg_dev NdUnfilled   Importance: 0.0\n",
      "Variable: mode NdUnfilled      Importance: 0.0\n",
      "Variable: minimum NfUnfilled   Importance: 0.0\n",
      "Variable: maximum NfUnfilled   Importance: 0.0\n",
      "Variable: range NfUnfilled     Importance: 0.0\n",
      "Variable: mean NfUnfilled      Importance: 0.0\n",
      "Variable: avg_dev NfUnfilled   Importance: 0.0\n",
      "Variable: mode NfUnfilled      Importance: 0.0\n",
      "Variable: minimum NUnfilled    Importance: 0.0\n",
      "Variable: maximum NUnfilled    Importance: 0.0\n",
      "Variable: range NUnfilled      Importance: 0.0\n",
      "Variable: mean NUnfilled       Importance: 0.0\n",
      "Variable: avg_dev NUnfilled    Importance: 0.0\n",
      "Variable: mode NUnfilled       Importance: 0.0\n",
      "Variable: minimum GSvolume_pa  Importance: 0.0\n",
      "Variable: range GSvolume_pa    Importance: 0.0\n",
      "Variable: mean GSvolume_pa     Importance: 0.0\n",
      "Variable: avg_dev GSvolume_pa  Importance: 0.0\n",
      "Variable: mode GSvolume_pa     Importance: 0.0\n",
      "Variable: minimum GSbandgap    Importance: 0.0\n",
      "Variable: maximum GSbandgap    Importance: 0.0\n",
      "Variable: mean GSbandgap       Importance: 0.0\n",
      "Variable: mode GSbandgap       Importance: 0.0\n",
      "Variable: minimum GSmagmom     Importance: 0.0\n",
      "Variable: maximum GSmagmom     Importance: 0.0\n",
      "Variable: range GSmagmom       Importance: 0.0\n",
      "Variable: mean GSmagmom        Importance: 0.0\n",
      "Variable: avg_dev GSmagmom     Importance: 0.0\n",
      "Variable: mode GSmagmom        Importance: 0.0\n",
      "Variable: minimum SpaceGroupNumber Importance: 0.0\n",
      "Variable: maximum SpaceGroupNumber Importance: 0.0\n",
      "Variable: mean SpaceGroupNumber Importance: 0.0\n",
      "Variable: avg_dev SpaceGroupNumber Importance: 0.0\n"
     ]
    }
   ],
   "source": [
    "# Get numerical feature importances\n",
    "importances = list(rf.feature_importances_)\n",
    "# List of tuples with variable and importance\n",
    "feature_importances = [(feature, round(importance, 2)) for feature, importance in zip(feature_list, importances)]\n",
    "# Sort the feature importances by most important first\n",
    "feature_importances = sorted(feature_importances, key = lambda x: x[1], reverse = True)\n",
    "# Print out the feature and importances \n",
    "[print('Variable: {:20} Importance: {}'.format(*pair)) for pair in feature_importances];"
   ]
  },
  {
   "cell_type": "code",
   "execution_count": null,
   "metadata": {},
   "outputs": [],
   "source": []
  }
 ],
 "metadata": {
  "kernelspec": {
   "display_name": "Python 3",
   "language": "python",
   "name": "python3"
  },
  "language_info": {
   "codemirror_mode": {
    "name": "ipython",
    "version": 3
   },
   "file_extension": ".py",
   "mimetype": "text/x-python",
   "name": "python",
   "nbconvert_exporter": "python",
   "pygments_lexer": "ipython3",
   "version": "3.6.4"
  }
 },
 "nbformat": 4,
 "nbformat_minor": 2
}
